{
  "nbformat": 4,
  "nbformat_minor": 0,
  "metadata": {
    "colab": {
      "name": "ReporteJupyter.ipynb",
      "provenance": [],
      "collapsed_sections": [],
      "toc_visible": true,
      "include_colab_link": true
    },
    "kernelspec": {
      "name": "python3",
      "display_name": "Python 3"
    }
  },
  "cells": [
    {
      "cell_type": "markdown",
      "metadata": {
        "id": "view-in-github",
        "colab_type": "text"
      },
      "source": [
        "<a href=\"https://colab.research.google.com/github/cate1285/Projects/blob/main/ReporteJupyter.ipynb\" target=\"_parent\"><img src=\"https://colab.research.google.com/assets/colab-badge.svg\" alt=\"Open In Colab\"/></a>"
      ]
    },
    {
      "cell_type": "code",
      "metadata": {
        "id": "LTWctHyCHqHl"
      },
      "source": [
        "import pandas as pd\n",
        "import datetime as dt\n",
        "import matplotlib.pyplot as plt\n",
        "import matplotlib.patches as mpatches\n",
        "import re"
      ],
      "execution_count": null,
      "outputs": []
    },
    {
      "cell_type": "code",
      "metadata": {
        "id": "Coxh09VeS14G",
        "colab": {
          "base_uri": "https://localhost:8080/",
          "height": 122
        },
        "outputId": "74f93516-da97-4c47-a4da-14ec813a7d1e"
      },
      "source": [
        "from google.colab import drive\n",
        "drive.mount('/content/drive')"
      ],
      "execution_count": null,
      "outputs": [
        {
          "output_type": "stream",
          "text": [
            "Go to this URL in a browser: https://accounts.google.com/o/oauth2/auth?client_id=947318989803-6bn6qk8qdgf4n4g3pfee6491hc0brc4i.apps.googleusercontent.com&redirect_uri=urn%3aietf%3awg%3aoauth%3a2.0%3aoob&response_type=code&scope=email%20https%3a%2f%2fwww.googleapis.com%2fauth%2fdocs.test%20https%3a%2f%2fwww.googleapis.com%2fauth%2fdrive%20https%3a%2f%2fwww.googleapis.com%2fauth%2fdrive.photos.readonly%20https%3a%2f%2fwww.googleapis.com%2fauth%2fpeopleapi.readonly\n",
            "\n",
            "Enter your authorization code:\n",
            "··········\n",
            "Mounted at /content/drive\n"
          ],
          "name": "stdout"
        }
      ]
    },
    {
      "cell_type": "code",
      "metadata": {
        "id": "aVJY5sBV8G_B"
      },
      "source": [
        "df0=pd.read_csv(\"/content/drive/My Drive/Reportes_Jupyterhub/reporte_jupyter.txt\",delimiter=\"\\t\")\n",
        "df0.head\n",
        "flagsearch=['ipynb','logged','kernelmanager','multikernelmanager']\n",
        "dfnotebook=df0.loc[df0['Columna'].str.contains('|'.join(flagsearch))]\n",
        "dfnotebook.to_excel(\"/content/drive/My Drive/Reportes_Jupyterhub/actividad.xlsx\")"
      ],
      "execution_count": null,
      "outputs": []
    },
    {
      "cell_type": "code",
      "metadata": {
        "id": "88K7wmAWTtpR"
      },
      "source": [
        "dfnotebook=pd.read_excel(\"/content/drive/My Drive/Reportes_Jupyterhub/actividad.xlsx\")\n",
        "#nbd['Modelos']=nbd.Columna.str.count('RiesgoCredito/Modelos')\n",
        "#nbd['Analitica']=nbd.Columna.str.count('RiesgoCredito/Analitica')"
      ],
      "execution_count": null,
      "outputs": []
    },
    {
      "cell_type": "code",
      "metadata": {
        "id": "gRtr1r_OFoTU"
      },
      "source": [
        "def extrafecha(df):\n",
        "  df_fecha=df['Columna']\n",
        "  d1=[]\n",
        "  for items in df_fecha:\n",
        "    match = re.search('\\d{4}-\\d{2}-\\d{2}',items) #Expresion regular que busca fecha\n",
        "    if match is None:\n",
        "      a=''\n",
        "      d1.append(a)\n",
        "    else:\n",
        "      d = dt.datetime.strptime(match.group(), '%Y-%m-%d').date() #convierte a formato fecha\n",
        "      d=d.strftime(\"%Y-%m-%d\")#pasa string a timestamp\n",
        "      d1.append(d)\n",
        "  print(len(d1))\n",
        "  return d1"
      ],
      "execution_count": null,
      "outputs": []
    },
    {
      "cell_type": "code",
      "metadata": {
        "id": "n1vAbgIsm8Zx"
      },
      "source": [
        "def extrahora(df):\n",
        "  df_hora=df['Columna']\n",
        "  d1=[]\n",
        "  for items in df_hora:\n",
        "    match = re.search('\\d{2}:\\d{2}:\\d{2}',items) #expresion regular que busca hora\n",
        "    if match is None:\n",
        "      a=''\n",
        "      d1.append(a)\n",
        "    else:\n",
        "      d=match.group()\n",
        "      d1.append(d)\n",
        "  print(len(d1))\n",
        "  return d"
      ],
      "execution_count": null,
      "outputs": []
    },
    {
      "cell_type": "code",
      "metadata": {
        "id": "-3veL3GOgzXS"
      },
      "source": [
        "def extrausuario(df):\n",
        "  df_usuario=df['Columna']\n",
        "  d1=[]\n",
        "  for items in df_usuario:\n",
        "    match = re.search('\\w+@\\d{3}',items)\n",
        "    if match is None:\n",
        "      a=''\n",
        "      d1.append(a)\n",
        "    else:\n",
        "      d=match.group()\n",
        "      d=d.split('@')\n",
        "      d1.append(d[0])\n",
        "  print(len(d1))  \n",
        "  return d1"
      ],
      "execution_count": null,
      "outputs": []
    },
    {
      "cell_type": "code",
      "metadata": {
        "id": "oS3qxShDHHxg",
        "colab": {
          "base_uri": "https://localhost:8080/",
          "height": 51
        },
        "outputId": "619c2dff-7dd2-4860-b0df-84d77f2ac0c2"
      },
      "source": [
        "df1=extrafecha(dfnotebook)\n",
        "df3=extrausuario(dfnotebook)"
      ],
      "execution_count": null,
      "outputs": [
        {
          "output_type": "stream",
          "text": [
            "10811\n",
            "10811\n"
          ],
          "name": "stdout"
        }
      ]
    },
    {
      "cell_type": "code",
      "metadata": {
        "id": "XYvTd1zBrh_I"
      },
      "source": [
        "dfnotebook['Fecha']=pd.DataFrame(df1)\n",
        "dfnotebook.to_excel(\"/content/drive/My Drive/Reportes_Jupyterhub/actividad.xlsx\")"
      ],
      "execution_count": null,
      "outputs": []
    },
    {
      "cell_type": "code",
      "metadata": {
        "id": "owALKYBjo0S7"
      },
      "source": [
        "dfnotebook=pd.read_excel(\"/content/drive/My Drive/Reportes_Jupyterhub/actividad.xlsx\")\n",
        "dfnotebook['Usuario']=pd.DataFrame(df3)\n",
        "dfnotebook.to_excel(\"/content/drive/My Drive/Reportes_Jupyterhub/actividad.xlsx\")"
      ],
      "execution_count": null,
      "outputs": []
    },
    {
      "cell_type": "code",
      "metadata": {
        "id": "2JgOyDAIttW9",
        "colab": {
          "base_uri": "https://localhost:8080/",
          "height": 34
        },
        "outputId": "8864ba08-2643-4979-88e1-0ac02ca29d79"
      },
      "source": [
        "dfnotebook=pd.read_excel(\"/content/drive/My Drive/Reportes_Jupyterhub/actividad.xlsx\")\n",
        "df2=extrahora(dfnotebook)"
      ],
      "execution_count": null,
      "outputs": [
        {
          "output_type": "stream",
          "text": [
            "10811\n"
          ],
          "name": "stdout"
        }
      ]
    },
    {
      "cell_type": "code",
      "metadata": {
        "id": "2zEgpIpao0nY"
      },
      "source": [
        "dfnotebook1=pd.read_excel(\"/content/drive/My Drive/Reportes_Jupyterhub/actividad.xlsx\")\n",
        "dfnotebook1['Hora']=pd.DataFrame(df2)\n",
        "dfnotebook1.to_excel(\"/content/drive/My Drive/Reportes_Jupyterhub/actividad.xlsx\")"
      ],
      "execution_count": null,
      "outputs": []
    },
    {
      "cell_type": "code",
      "metadata": {
        "id": "BsOPe_GGKqBL"
      },
      "source": [
        "auxn=pd.read_excel(\"/content/drive/My Drive/Reportes_Jupyterhub/actividad.xlsx\")\n",
        "auxn.drop(auxn[auxn.Usuario.isnull()].index, inplace = True)\n",
        "auxn.to_excel(\"/content/drive/My Drive/Reportes_Jupyterhub/actividad.xlsx\")"
      ],
      "execution_count": null,
      "outputs": []
    },
    {
      "cell_type": "code",
      "metadata": {
        "id": "_6xDirBz8hzY"
      },
      "source": [
        "def extraer(cadena):\n",
        "  lista=cadena['Columna']\n",
        "  directorio=[]\n",
        "  #print(fecha)\n",
        "  for items in lista:\n",
        "    #match = re.search('/\\w{4}/\\w{8}/\\w{3}/\\w{8}/',items)\n",
        "    match=re.search(\"\\w{4}/\\w+/\\w+\\S+\",items)\n",
        "    if match is None:\n",
        "      a=''\n",
        "      directorio.append(a)\n",
        "    else:\n",
        "      #print(match.group())\n",
        "      #d = dt.datetime.strptime(match.group(), '%H:%M:%S').date()\n",
        "      d=match.group()\n",
        "      d=d.split('?',1)[0]\n",
        "      d1=d.split('/checkpoints',1)[0]\n",
        "      print(d1)\n",
        "      directorio.append(d1)\n",
        "  print(directorio)\n",
        "  return directorio"
      ],
      "execution_count": null,
      "outputs": []
    },
    {
      "cell_type": "code",
      "metadata": {
        "id": "9dcHzIn8LAl-"
      },
      "source": [
        "auxn1=pd.read_excel(\"/content/drive/My Drive/Reportes_Jupyterhub/actividad.xlsx\")\n",
        "auxn1=auxn1.drop(columns=['Unnamed: 0','Unnamed: 0.1'])\n",
        "auxn1\n",
        "directorio=extraer(auxn1)\n",
        "auxn1['Ruta']=pd.DataFrame(directorio)\n",
        "auxn1.to_excel(\"/content/drive/My Drive/Reportes_Jupyterhub/actividad.xlsx\")\n"
      ],
      "execution_count": null,
      "outputs": []
    },
    {
      "cell_type": "code",
      "metadata": {
        "id": "UpSCceoqgfxP"
      },
      "source": [
        "auxn2=pd.read_excel(\"/content/drive/My Drive/Reportes_Jupyterhub/actividad.xlsx\")\n",
        "nbdx=auxn2\n",
        "sorte_dir=nbdx.groupby(['Fecha','Usuario'])['Ruta'].value_counts()#.plot(kind='bar',figsize=(28,8))\n",
        "#sorte_dir.plot(kind='bar',figsize=(28,8))\n",
        "ps=sorte_dir['Usuario']"
      ],
      "execution_count": null,
      "outputs": []
    },
    {
      "cell_type": "code",
      "metadata": {
        "id": "dLIa1kgPywwW"
      },
      "source": [
        "my_colors=['b', 'r', 'g', 'y', 'k']\n",
        "us=nbdx['Usuario'].value_counts(ascending=True)#.plot(kind='bar',figsize=(50,8))\n",
        "us=us[-5:]\n",
        "us.plot(kind='barh',color=my_colors,figsize=(12,8))\n"
      ],
      "execution_count": null,
      "outputs": []
    },
    {
      "cell_type": "code",
      "metadata": {
        "id": "46-8p3t1aHTI"
      },
      "source": [
        "ru=nbdx['Ruta'].value_counts(ascending=True)\n",
        "ru=ru[-5:]\n",
        "ru.plot(kind='barh',figsize=(12,8))"
      ],
      "execution_count": null,
      "outputs": []
    },
    {
      "cell_type": "code",
      "metadata": {
        "id": "Hb2xI0-b2dhO"
      },
      "source": [
        "s1=nbdx.groupby(['Fecha'])['Hora'].value_counts(ascending=True)\n",
        "#s1.plot(kind='bar',figsize=(12,8))\n",
        "s5=s1.nlargest()\n",
        "s5=s5.sort_values(ascending=True)\n",
        "s5.plot(kind='barh')"
      ],
      "execution_count": null,
      "outputs": []
    },
    {
      "cell_type": "markdown",
      "metadata": {
        "id": "RBe88-gumS4L"
      },
      "source": [
        "YARN "
      ]
    },
    {
      "cell_type": "code",
      "metadata": {
        "id": "c3NGf9bobxhP"
      },
      "source": [
        "dt=pd.read_excel(\"/content/drive/My Drive/Reportes_Jupyterhub/jupyter.xlsx\")\n",
        "imp=dt\n",
        "imp=dt.drop(['nombre','pool','memoria_en_segundos_asignada','vcores_en_segundos_asignada','contenedores_corriendo'], axis=1).dropna(1)\n"
      ],
      "execution_count": null,
      "outputs": []
    },
    {
      "cell_type": "code",
      "metadata": {
        "id": "bdqd3aADI9Jz"
      },
      "source": [
        "#dateini=pd.Timestamp(2019,8,30)\n",
        "#print(dateini)\n",
        "#auximp=imp['fecha_inicio'].unique();\n",
        "aux=imp\n",
        "aux=aux.drop_duplicates(['fecha_inicio'])\n",
        "#aux.to_excel(\"/content/drive/My Drive/imp2.xlsx\")\n",
        "#aux1=aux.loc[aux['usuario'].str.contains(\"saaldana\")]\n",
        "my_colors = ['b', 'gray','g','y','Brown','r']*5\n",
        "usdt=aux.groupby(['usuario'])['vcores_asignados'].sum()#.\n",
        "usdt=usdt.sort_values(ascending=True)\n",
        "usdt.plot(kind='barh',color=my_colors,figsize=(15,8),stacked=True)\n",
        "plt.title(\"CONSUMO DE VCORES: 2019/09/01 A 2019/10/11\")\n",
        "plt.xlabel(\"VCORES ASIGNADOS\")\n",
        "plt.ylabel(\"USUARIO\")\n",
        "plt.grid()\n",
        "plt.show()"
      ],
      "execution_count": null,
      "outputs": []
    },
    {
      "cell_type": "code",
      "metadata": {
        "id": "mr2XT92IKa9d"
      },
      "source": [
        "aux=aux.drop_duplicates(['fecha_inicio'])\n",
        "aux['perido']=aux['perido'].apply(str)\n",
        "usdt=aux.groupby(['perido'])['mb_asignados'].sum()/1024\n",
        "plt.ion()\n",
        "usdt.plot(kind='area',figsize=(15,8),stacked=True,label='Memoria')\n",
        "plt.ioff()\n",
        "usdt1=aux.groupby(['perido'])['vcores_asignados'].sum()\n",
        "plt.ion()\n",
        "usdt1.plot(kind='area',figsize=(15,8),stacked=True,label='Vcores')\n",
        "plt.title(\"CONSUMO MEMORIA Y VCORES: 2019/09/01 A 2019/10/11\")\n",
        "plt.xlabel(\"PERIODO\")\n",
        "plt.ylabel(\"\")\n",
        "plt.legend()\n",
        "plt.grid()\n",
        "plt.show()"
      ],
      "execution_count": null,
      "outputs": []
    },
    {
      "cell_type": "code",
      "metadata": {
        "id": "Ipp5PwGyw7YT"
      },
      "source": [
        ""
      ],
      "execution_count": null,
      "outputs": []
    },
    {
      "cell_type": "code",
      "metadata": {
        "id": "DFAgJOqvq_ok"
      },
      "source": [
        "#bdc_s2 = bdc_s2.drop(bdc_s2[bdc_s2['']==2].index)##filtra y elimina \n",
        "#bdc_s2['perido'] = pd.to_datetime(bdc_s2['perido'], unit='D')#convierte en tiempo a partir de base segundos\n",
        "plt.figure(1)\n",
        "bdc_s2=pd.read_excel(\"/content/drive/My Drive/jupyter.xlsx\")\n",
        "bdc_s2['perido'].apply(lambda x: pd.to_datetime(str(x), format='%Y%m%d'))#convertir entero en fecha\n",
        "plt.subplot(2,2,2)\n",
        "bdc_s4=bdc_s2.loc[bdc_s2['usuario'].str.contains(\"cemarera\")]\n",
        "bdc_s4.groupby([\"perido\"])['vcores_asignados'].sum().plot(kind='bar', figsize=(15,7), label=\"cemarera\")\n",
        "plt.title(\"CONSUMO POR USUARIO \\n Usuario: cemarera\")\n",
        "plt.ylabel(\"VCORES_ASIGNADOS\")\n",
        "plt.xlabel(\"PERIODO\")\n",
        "plt.legend()\n",
        "plt.grid()\n",
        "plt.subplot(2,2,1)\n",
        "bdc_s4=pd.read_excel(\"/content/drive/My Drive/jupyter.xlsx\")\n",
        "bdc_s4['perido'].apply(lambda x: pd.to_datetime(str(x), format='%Y%m%d'))\n",
        "bdc_s4=bdc_s4.loc[bdc_s4['usuario'].str.contains(\"saaldana\")]\n",
        "bdc_s4.groupby([\"perido\"])['vcores_asignados'].sum().plot(kind='bar', figsize=(15,7), label=\"saaldana\")\n",
        "plt.title(\"CONSUMO POR USUARIO \\n Usuario: saaldana\")\n",
        "plt.ylabel(\"VCORES_ASIGNADOS\")\n",
        "plt.xlabel(\"PERIODO\")\n",
        "plt.legend()\n",
        "plt.grid()\n",
        "plt.show()\n",
        "plt.subplot(2,2,2)\n",
        "bdc_s5=pd.read_excel(\"/content/drive/My Drive/jupyter.xlsx\")\n",
        "bdc_s5['perido'].apply(lambda x: pd.to_datetime(str(x), format='%Y%m%d'))\n",
        "bdc_s5=bdc_s5.loc[bdc_s5['usuario'].str.contains(\"vsarmien\")]\n",
        "bdc_s5.groupby([\"perido\"])['vcores_asignados'].sum().plot(kind='bar', figsize=(7,7), label=\"vsarmien\")\n",
        "plt.title(\"CONSUMO POR USUARIO \\n Usuario: vsarmien\")\n",
        "plt.ylabel(\"VCORES_ASIGNADOS\")\n",
        "plt.xlabel(\"PERIODO\")\n",
        "plt.legend()\n",
        "#plt.grid()\n",
        "plt.subplot(2,2,1)\n",
        "bdc_s5=pd.read_excel(\"/content/drive/My Drive/jupyter.xlsx\")\n",
        "bdc_s5['perido'].apply(lambda x: pd.to_datetime(str(x), format='%Y%m%d'))\n",
        "bdc_s5=bdc_s5.loc[bdc_s5['usuario'].str.contains(\"olombana\")]\n",
        "bdc_s5.groupby([\"perido\"])['vcores_asignados'].sum().plot(kind='bar', figsize=(15,7), label=\"olombana\")\n",
        "plt.title(\"CONSUMO POR USUARIO \\n Usuario: olombana\")\n",
        "plt.ylabel(\"VCORES_ASIGNADOS\")\n",
        "plt.xlabel(\"PERIODO\")\n",
        "plt.legend()\n",
        "plt.grid()\n",
        "plt.show()"
      ],
      "execution_count": null,
      "outputs": []
    },
    {
      "cell_type": "code",
      "metadata": {
        "id": "6x4tnOJU0sZ9"
      },
      "source": [
        "#bdc_s2 = bdc_s2.drop(bdc_s2[bdc_s2['']==2].index)##filtra y elimina \n",
        "#bdc_s2['perido'] = pd.to_datetime(bdc_s2['perido'], unit='D')#convierte en tiempo a partir de base segundos\n",
        "plt.figure(1)\n",
        "bdc_s2=pd.read_excel(\"/content/drive/My Drive/imp2.xlsx\")\n",
        "bdc_s2['perido'].apply(lambda x: pd.to_datetime(str(x), format='%Y%m%d'))#convertir entero en fecha\n",
        "plt.subplot(2,2,2)\n",
        "bdc_s4=bdc_s2.loc[bdc_s2['usuario'].str.contains(\"pamlargo\")]\n",
        "bdc_s4.groupby([\"perido\"])['vcores_asignados'].sum().plot(kind='bar', figsize=(15,7), label=\"pamlargo\")\n",
        "plt.title(\"CONSUMO POR USUARIO \\n Usuario: pamlargo\")\n",
        "plt.ylabel(\"VCORES_ASIGNADOS\")\n",
        "plt.xlabel(\"PERIODO\")\n",
        "plt.legend()\n",
        "plt.subplot(2,2,1)\n",
        "bdc_s5=pd.read_excel(\"/content/drive/My Drive/imp2.xlsx\")\n",
        "bdc_s5['perido'].apply(lambda x: pd.to_datetime(str(x), format='%Y%m%d'))\n",
        "bdc_s5=bdc_s5.loc[bdc_s5['usuario'].str.contains(\"s-cuadre_operativo\")]\n",
        "bdc_s5.groupby([\"perido\"])['vcores_asignados'].sum().plot(kind='bar', figsize=(15,7), label=\"s-cuadre_operativo\")\n",
        "plt.title(\"CONSUMO POR USUARIO \\n Usuario: s-cuadre_operativo\")\n",
        "plt.ylabel(\"VCORES_ASIGNADOS\")\n",
        "plt.xlabel(\"PERIODO\")\n",
        "plt.legend()\n",
        "#plt.grid()\n",
        "plt.show()\n",
        "plt.subplot(2,2,1)\n",
        "bdc_s5=pd.read_excel(\"/content/drive/My Drive/imp2.xlsx\")\n",
        "bdc_s5['perido'].apply(lambda x: pd.to_datetime(str(x), format='%Y%m%d'))\n",
        "bdc_s5=bdc_s5.loc[bdc_s5['usuario'].str.contains(\"pyirocha\")]\n",
        "bdc_s5.groupby([\"perido\"])['vcores_asignados'].sum().plot(kind='bar', figsize=(7,7), label=\"pyirocha\")\n",
        "plt.title(\"CONSUMO POR USUARIO \\n Usuario: pyirocha\")\n",
        "plt.ylabel(\"VCORES_ASIGNADOS\")\n",
        "plt.xlabel(\"PERIODO\")\n",
        "plt.legend()\n",
        "#plt.grid()\n",
        "plt.subplot(2,2,2)\n",
        "bdc_s4=pd.read_excel(\"/content/drive/My Drive/imp2.xlsx\")\n",
        "bdc_s4['perido'].apply(lambda x: pd.to_datetime(str(x), format='%Y%m%d'))\n",
        "bdc_s4=bdc_s4.loc[bdc_s4['usuario'].str.contains(\"pycjulio\")]\n",
        "bdc_s4.groupby([\"perido\"])['vcores_asignados'].sum().plot(kind='bar', figsize=(15,7), label=\"pycjulio\")\n",
        "plt.title(\"CONSUMO POR USUARIO \\n Usuario: pycjulio\")\n",
        "plt.ylabel(\"VCORES_ASIGNADOS\")\n",
        "plt.xlabel(\"PERIODO\")\n",
        "plt.legend()\n",
        "#plt.grid()\n",
        "plt.show()\n"
      ],
      "execution_count": null,
      "outputs": []
    },
    {
      "cell_type": "code",
      "metadata": {
        "id": "cvO9PWF7DMSd"
      },
      "source": [
        "bdc_s2=pd.read_excel(\"/content/drive/My Drive/imp2.xlsx\")\n",
        "#bdc_s2 = bdc_s2.drop(bdc_s2[bdc_s2['']==2].index)##filtra y elimina \n",
        "bdc_s2['perido'] = pd.to_datetime(bdc_s2['perido'], unit='s')\n",
        "bdc_s2=bdc_s2.loc[bdc_s2['usuario'].str.contains(\"cemarera\")]\n",
        "bdc_s2.groupby([\"perido\"])['vcores_asignados'].sum().plot(kind='bar', figsize=(15,7), label=\"cemarera\")\n",
        "plt.ioff()\n",
        "bdc_s3=pd.read_excel(\"/content/drive/My Drive/imp2.xlsx\")\n",
        "plt.ion()\n",
        "bdc_s3=bdc_s3.loc[bdc_s3['usuario'].str.contains(\"olombana\")]\n",
        "bdc_s3.groupby([\"perido\"])['vcores_asignados'].sum().plot(kind='bar', figsize=(15,7), label=\"olombana\",color='r')\n",
        "plt.title(\"AUTORIZACION VIA TOKEN Y SESIONES ACTIVAS \\n Usuario: saaldana\")\n",
        "plt.ylabel(\"Cantidad en unidades\")\n",
        "plt.grid()\n",
        "plt.legend()\n",
        "plt.show()"
      ],
      "execution_count": null,
      "outputs": []
    },
    {
      "cell_type": "code",
      "metadata": {
        "id": "9gTuFaG3DrPg"
      },
      "source": [
        "auximp2=imp.loc[imp['usuario'].str.contains(\"pamlargo\")&(imp['fecha']>='2019-08-01')]\n",
        "auximp2.groupby(['fecha'])['vcores_asignados'].sum().plot(kind='line',color='r',figsize=(15,8))\n",
        "plt.title(\"Consumo Vcores 1° semana de agosto \\n Usuario: pamlargo\")\n",
        "plt.ylabel(\"VCORES ASIGNADOS\")\n",
        "plt.grid()\n",
        "plt.show()"
      ],
      "execution_count": null,
      "outputs": []
    },
    {
      "cell_type": "code",
      "metadata": {
        "id": "g0O9q-drDw51"
      },
      "source": [
        "auximp3=imp.loc[imp['usuario'].str.contains(\"s-cuadre_operativo\")&(imp['fecha']>='2019-08-01')]\n",
        "auximp2.groupby(['fecha'])['vcores_asignados'].sum().plot(kind='line',color='g', figsize=(15,10))\n",
        "plt.title(\"Consumo Vcores 1° semana de agosto \\n Usuario: s-cuadre_operativo\")\n",
        "plt.ylabel(\"VCORES ASIGNADOS\")\n",
        "plt.grid()\n",
        "plt.show()"
      ],
      "execution_count": null,
      "outputs": []
    }
  ]
}
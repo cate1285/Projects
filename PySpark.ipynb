{
  "nbformat": 4,
  "nbformat_minor": 0,
  "metadata": {
    "colab": {
      "name": "PySpark",
      "provenance": [],
      "collapsed_sections": [],
      "include_colab_link": true
    },
    "kernelspec": {
      "name": "python3",
      "display_name": "Python 3"
    }
  },
  "cells": [
    {
      "cell_type": "markdown",
      "metadata": {
        "id": "view-in-github",
        "colab_type": "text"
      },
      "source": [
        "<a href=\"https://colab.research.google.com/github/cate1285/Projects/blob/main/PySpark.ipynb\" target=\"_parent\"><img src=\"https://colab.research.google.com/assets/colab-badge.svg\" alt=\"Open In Colab\"/></a>"
      ]
    },
    {
      "cell_type": "code",
      "metadata": {
        "id": "tHd93w_masRX"
      },
      "source": [
        "from google.colab import drive\n",
        "drive.mount('/content/drive')"
      ],
      "execution_count": null,
      "outputs": []
    },
    {
      "cell_type": "markdown",
      "metadata": {
        "id": "_DPBfr28YmaT"
      },
      "source": [
        "**Iniciar Spark**"
      ]
    },
    {
      "cell_type": "code",
      "metadata": {
        "id": "Xj3CLkzySRyk"
      },
      "source": [
        "!pip install pyspark"
      ],
      "execution_count": null,
      "outputs": []
    },
    {
      "cell_type": "markdown",
      "metadata": {
        "id": "3nPpJDAYYu0u"
      },
      "source": [
        "**Iniciar Librerias**"
      ]
    },
    {
      "cell_type": "code",
      "metadata": {
        "id": "CYf_gvCo7KH9"
      },
      "source": [
        "import os\n",
        "import sys \n",
        "import time \n",
        "import datetime\n",
        "import pandas as pd\n",
        "from pyspark.sql.types import *"
      ],
      "execution_count": null,
      "outputs": []
    },
    {
      "cell_type": "markdown",
      "metadata": {
        "id": "9eX2Z7oEY430"
      },
      "source": [
        "**Funciones**"
      ]
    },
    {
      "cell_type": "markdown",
      "metadata": {
        "id": "zEbQQEmmZAjH"
      },
      "source": [
        "**Principal**"
      ]
    },
    {
      "cell_type": "code",
      "metadata": {
        "id": "M2gjKWuK2yGx",
        "colab": {
          "base_uri": "https://localhost:8080/",
          "height": 68
        },
        "outputId": "19cb337a-0571-4820-b2cb-6e5d97b4d046"
      },
      "source": [
        "lista_nuevo_nombre = 'FECHA_TRANSACCION'\n",
        "horas = [\"2019-11-06 00:00:00.\"] + [\"2019-11-07 00:00:00.\"]\n",
        "df = pd.DataFrame({\"clase\": horas})\n",
        "print(df)\n"
      ],
      "execution_count": null,
      "outputs": [
        {
          "output_type": "stream",
          "text": [
            "                  clase\n",
            "0  2019-11-06 00:00:00.\n",
            "1  2019-11-07 00:00:00.\n"
          ],
          "name": "stdout"
        }
      ]
    },
    {
      "cell_type": "code",
      "metadata": {
        "id": "6BriGz-Gg16U"
      },
      "source": [
        ""
      ],
      "execution_count": null,
      "outputs": []
    }
  ]
}
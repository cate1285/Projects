{
  "nbformat": 4,
  "nbformat_minor": 0,
  "metadata": {
    "colab": {
      "name": "crypto.ipynb",
      "provenance": [],
      "collapsed_sections": [],
      "authorship_tag": "ABX9TyNiT2E5jC0rXkd4LPoxfDfz",
      "include_colab_link": true
    },
    "kernelspec": {
      "name": "python3",
      "display_name": "Python 3"
    }
  },
  "cells": [
    {
      "cell_type": "markdown",
      "metadata": {
        "id": "view-in-github",
        "colab_type": "text"
      },
      "source": [
        "<a href=\"https://colab.research.google.com/github/cate1285/Projects/blob/main/crypto.ipynb\" target=\"_parent\"><img src=\"https://colab.research.google.com/assets/colab-badge.svg\" alt=\"Open In Colab\"/></a>"
      ]
    },
    {
      "cell_type": "code",
      "metadata": {
        "id": "0_ETfWRLvzEC"
      },
      "source": [
        "!openssl "
      ],
      "execution_count": null,
      "outputs": []
    },
    {
      "cell_type": "code",
      "metadata": {
        "id": "qvlTvJzK-CC5"
      },
      "source": [
        "!pip3 install crypto"
      ],
      "execution_count": null,
      "outputs": []
    },
    {
      "cell_type": "code",
      "metadata": {
        "id": "8HbxToIb83EK"
      },
      "source": [
        "import hashlib\n",
        "import crypto\n",
        "import crypt\n",
        "import hmac\n",
        "import numpy as np \n",
        "import string\n",
        "import os\n",
        "import sys\n",
        "import random"
      ],
      "execution_count": null,
      "outputs": []
    },
    {
      "cell_type": "code",
      "metadata": {
        "id": "s5_3hef7wysf",
        "colab": {
          "base_uri": "https://localhost:8080/",
          "height": 34
        },
        "outputId": "f8935350-e1fb-4b80-c132-df085dda2f3b"
      },
      "source": [
        "!pwd"
      ],
      "execution_count": null,
      "outputs": [
        {
          "output_type": "stream",
          "text": [
            "/content\n"
          ],
          "name": "stdout"
        }
      ]
    },
    {
      "cell_type": "code",
      "metadata": {
        "id": "63zkg6JgwJrT",
        "colab": {
          "base_uri": "https://localhost:8080/",
          "height": 34
        },
        "outputId": "c831084a-0ec1-4676-e75e-c612615356f2"
      },
      "source": [
        "os.system(\"openssl genrsa -out clave.pem 4096\")"
      ],
      "execution_count": null,
      "outputs": [
        {
          "output_type": "execute_result",
          "data": {
            "text/plain": [
              "0"
            ]
          },
          "metadata": {
            "tags": []
          },
          "execution_count": 49
        }
      ]
    },
    {
      "cell_type": "code",
      "metadata": {
        "id": "IgsSwCklwYNl",
        "colab": {
          "base_uri": "https://localhost:8080/",
          "height": 34
        },
        "outputId": "1969e730-b015-42d6-c50e-c352b794dd7e"
      },
      "source": [
        "os.system(\"openssl rsa -in clave.pem -out clave.pub.pem -outform PEM -pubout\")"
      ],
      "execution_count": null,
      "outputs": [
        {
          "output_type": "execute_result",
          "data": {
            "text/plain": [
              "0"
            ]
          },
          "metadata": {
            "tags": []
          },
          "execution_count": 50
        }
      ]
    },
    {
      "cell_type": "code",
      "metadata": {
        "id": "_DY7GlwVwc4r",
        "colab": {
          "base_uri": "https://localhost:8080/",
          "height": 34
        },
        "outputId": "0a07878a-8598-4cba-d66f-fe05a5dd66d2"
      },
      "source": [
        "os.system(\"openssl rand -base64 48 -out ll1.txt\")"
      ],
      "execution_count": null,
      "outputs": [
        {
          "output_type": "execute_result",
          "data": {
            "text/plain": [
              "256"
            ]
          },
          "metadata": {
            "tags": []
          },
          "execution_count": 58
        }
      ]
    },
    {
      "cell_type": "code",
      "metadata": {
        "id": "jxTOjZV2wkhj"
      },
      "source": [
        ""
      ],
      "execution_count": null,
      "outputs": []
    },
    {
      "cell_type": "code",
      "metadata": {
        "id": "ARQm6yGnQ8a_",
        "colab": {
          "base_uri": "https://localhost:8080/",
          "height": 51
        },
        "outputId": "f0286f3a-e579-4ddd-cff9-f13412e5eb31"
      },
      "source": [
        "st=string.ascii_letters\n",
        "nm=string.digits\n",
        "print(st)\n",
        "print(nm)"
      ],
      "execution_count": null,
      "outputs": [
        {
          "output_type": "stream",
          "text": [
            "abcdefghijklmnopqrstuvwxyzABCDEFGHIJKLMNOPQRSTUVWXYZ\n",
            "0123456789\n"
          ],
          "name": "stdout"
        }
      ]
    },
    {
      "cell_type": "code",
      "metadata": {
        "id": "7WJr7WjLQB1T"
      },
      "source": [
        "la_z=[]\n",
        "ln=[]\n",
        "for i in st:\n",
        "    la_z.append(i)\n",
        "for i in nm:\n",
        "    ln.append(i)\n",
        "print(la_z)\n",
        "print(ln)"
      ],
      "execution_count": null,
      "outputs": []
    },
    {
      "cell_type": "code",
      "metadata": {
        "id": "TExTAAW6dJC-"
      },
      "source": [
        "k1='W00mbatD4vivienda'"
      ],
      "execution_count": null,
      "outputs": []
    },
    {
      "cell_type": "code",
      "metadata": {
        "id": "k7D13zOAkWys"
      },
      "source": [
        "nlaz=[]\n",
        "nln=[]\n",
        "for i in la_z:\n",
        "    ra_z=random.randint(0,(len(la_z)-1))\n",
        "    rn=random.randint(0,(len(ln)-1))\n",
        "    if i in not nla_z:\n",
        "        nwp=nwp+la_z[ra_z]\n",
        "        nlaz.append(la_z[ra_z])\n",
        "        rr.append(ra_z)\n",
        "    if i in ln:\n",
        "        nwp=nwp+ln[rn]\n",
        "        pwrc.append(ln[rn])\n",
        "        rr.append(rn)"
      ],
      "execution_count": null,
      "outputs": []
    },
    {
      "cell_type": "code",
      "metadata": {
        "id": "ZDthHlrEd1aa"
      },
      "source": [
        "pwrc=[]\n",
        "rr=[]\n",
        "nwp=''\n",
        "for i in k1:\n",
        "    ra_z=np.random.randint(0,(len(la_z)-1))\n",
        "    rn=np.random.randint(0,(len(ln)-1))\n",
        "    if i in la_z:\n",
        "        nwp=nwp+la_z[ra_z]\n",
        "        pwrc.append(la_z[ra_z])\n",
        "        rr.append(ra_z)\n",
        "    if i in ln:\n",
        "        nwp=nwp+ln[rn]\n",
        "        pwrc.append(ln[rn])\n",
        "        rr.append(rn)\n"
      ],
      "execution_count": null,
      "outputs": []
    },
    {
      "cell_type": "code",
      "metadata": {
        "id": "Zr-ftmoWe5T9",
        "colab": {
          "base_uri": "https://localhost:8080/",
          "height": 51
        },
        "outputId": "576e4783-035a-49eb-b2a4-96a008c577d0"
      },
      "source": [
        "print(nwp)\n",
        "print(pwrc)"
      ],
      "execution_count": null,
      "outputs": [
        {
          "output_type": "stream",
          "text": [
            "I66jNNYX0mqpOaHkI\n",
            "['I', '6', '6', 'j', 'N', 'N', 'Y', 'X', '0', 'm', 'q', 'p', 'O', 'a', 'H', 'k', 'I']\n"
          ],
          "name": "stdout"
        }
      ]
    },
    {
      "cell_type": "code",
      "metadata": {
        "id": "hSGvby2eIkGE",
        "colab": {
          "base_uri": "https://localhost:8080/",
          "height": 34
        },
        "outputId": "40cdc661-646c-4162-f371-0576175c8a40"
      },
      "source": [
        "key=b'W00mbatD4vivienda'\n",
        "k1='W00mbatD4vivienda'\n",
        "skey=hashlib.sha256(key)\n",
        "hkey=skey.hexdigest()\n",
        "print(hkey)"
      ],
      "execution_count": null,
      "outputs": [
        {
          "output_type": "stream",
          "text": [
            "1050852ef1f9073abbf3b8fc974fadcde3f0ee5ac67f20f69690c2d4d73aa5f8\n"
          ],
          "name": "stdout"
        }
      ]
    },
    {
      "cell_type": "code",
      "metadata": {
        "id": "mxRDNN8sOOuE",
        "colab": {
          "base_uri": "https://localhost:8080/",
          "height": 34
        },
        "outputId": "00c753fd-11b0-4f89-c931-342315f3dfd3"
      },
      "source": [
        "d='1050852ef1f9073abbf3b8fc974fadcde3f0ee5ac67f20f69690c2d4d73aa5f8'\n",
        "hmac.compare_digest(hkey,d)"
      ],
      "execution_count": null,
      "outputs": [
        {
          "output_type": "execute_result",
          "data": {
            "text/plain": [
              "True"
            ]
          },
          "metadata": {
            "tags": []
          },
          "execution_count": 4
        }
      ]
    },
    {
      "cell_type": "code",
      "metadata": {
        "id": "PueMLTrnPuDn",
        "colab": {
          "base_uri": "https://localhost:8080/",
          "height": 34
        },
        "outputId": "075c2963-6ed6-44ce-cfc9-f1abf9ed6989"
      },
      "source": [
        "print(crypt.crypt(k1,hash1))"
      ],
      "execution_count": null,
      "outputs": [
        {
          "output_type": "stream",
          "text": [
            "10K6/SQ7Ve49k\n"
          ],
          "name": "stdout"
        }
      ]
    },
    {
      "cell_type": "code",
      "metadata": {
        "id": "FLIT9PDFOaur"
      },
      "source": [
        "hash1=crypt.crypt(k1,d)"
      ],
      "execution_count": null,
      "outputs": []
    }
  ]
}
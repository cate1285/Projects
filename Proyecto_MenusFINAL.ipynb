{
  "nbformat": 4,
  "nbformat_minor": 0,
  "metadata": {
    "colab": {
      "name": "Copia de Proyecto Menus",
      "provenance": [],
      "collapsed_sections": [],
      "mount_file_id": "1-HE_CiG-FkRPcWqis2qD2GXPky3S5UXm",
      "authorship_tag": "ABX9TyPsGtQmD30PbYjsOmtC8S1Q",
      "include_colab_link": true
    },
    "kernelspec": {
      "name": "python3",
      "display_name": "Python 3"
    }
  },
  "cells": [
    {
      "cell_type": "markdown",
      "metadata": {
        "id": "view-in-github",
        "colab_type": "text"
      },
      "source": [
        "<a href=\"https://colab.research.google.com/github/cate1285/Projects/blob/main/Proyecto_MenusFINAL.ipynb\" target=\"_parent\"><img src=\"https://colab.research.google.com/assets/colab-badge.svg\" alt=\"Open In Colab\"/></a>"
      ]
    },
    {
      "cell_type": "code",
      "metadata": {
        "id": "LbY2TFVnsaLR",
        "colab": {
          "base_uri": "https://localhost:8080/"
        },
        "outputId": "b1c36603-bae3-48a1-ffb6-245529919d13"
      },
      "source": [
        "import pandas as pd \r\n",
        "from random import sample\r\n",
        "import random\r\n",
        "from datetime import datetime\r\n",
        "\r\n",
        "\r\n",
        "try:\r\n",
        "  platos=pd.read_csv(\"Platosaludable.csv\",sep=(\",\"),encoding=(\"utf-8\"))\r\n",
        "except FileNotFoundError:\r\n",
        "  print(\"El documento no existe\")\r\n",
        "else:\r\n",
        "  print(platos)"
      ],
      "execution_count": 232,
      "outputs": [
        {
          "output_type": "stream",
          "text": [
            "  Carbohidratos      Proteinas  Vegetales\n",
            "0         Arroz         Salmon    brocoli\n",
            "1         Pasta        pechuga   coliflor\n",
            "2      Frijoles   carne de res    lechuga\n",
            "3      Lentejas       costilla     tomate\n",
            "4     Garbanzos           atun     pepino\n",
            "5          Maiz  lomo de cerdo  zanahoria\n",
            "6         Papas         pernil   aguacate\n"
          ],
          "name": "stdout"
        }
      ]
    },
    {
      "cell_type": "code",
      "metadata": {
        "id": "zg0AIWNtAesu",
        "colab": {
          "base_uri": "https://localhost:8080/"
        },
        "outputId": "8d446f61-d065-46c7-d7fc-5b49092c11df"
      },
      "source": [
        "print(\"Hola, mi nombre es Sam y te ayuddare a crear un rico y saludable plato \")"
      ],
      "execution_count": 233,
      "outputs": [
        {
          "output_type": "stream",
          "text": [
            "Hola, mi nombre es Sam y te ayuddare a crear un rico y saludable plato \n"
          ],
          "name": "stdout"
        }
      ]
    },
    {
      "cell_type": "code",
      "metadata": {
        "id": "GvNsmgJCv_N_",
        "colab": {
          "base_uri": "https://localhost:8080/"
        },
        "outputId": "c1330b86-4bb1-423c-86c5-ca05dad74e89"
      },
      "source": [
        "list_of_names = platos['Carbohidratos'].to_list()\r\n",
        "list_of = platos['Proteinas'].to_list()\r\n",
        "list_ofnames = platos['Vegetales'].to_list()\r\n",
        "print(list_of_names)\r\n",
        "print(list_of)\r\n",
        "print(list_ofnames)\r\n",
        "todos_ingredientes=(list_of_names + list_of +list_ofnames)"
      ],
      "execution_count": 234,
      "outputs": [
        {
          "output_type": "stream",
          "text": [
            "['Arroz', 'Pasta', 'Frijoles', 'Lentejas', 'Garbanzos', 'Maiz', 'Papas']\n",
            "['Salmon', 'pechuga', 'carne de res', 'costilla', 'atun', 'lomo de cerdo', 'pernil']\n",
            "['brocoli', 'coliflor', 'lechuga', 'tomate', 'pepino', 'zanahoria', 'aguacate']\n"
          ],
          "name": "stdout"
        }
      ]
    },
    {
      "cell_type": "code",
      "metadata": {
        "id": "zrp040wsNw_9",
        "colab": {
          "base_uri": "https://localhost:8080/"
        },
        "outputId": "efc5fdc1-1d9b-4afc-bd66-ffa8675cd69c"
      },
      "source": [
        "print(str(todos_ingredientes))"
      ],
      "execution_count": 235,
      "outputs": [
        {
          "output_type": "stream",
          "text": [
            "['Arroz', 'Pasta', 'Frijoles', 'Lentejas', 'Garbanzos', 'Maiz', 'Papas', 'Salmon', 'pechuga', 'carne de res', 'costilla', 'atun', 'lomo de cerdo', 'pernil', 'brocoli', 'coliflor', 'lechuga', 'tomate', 'pepino', 'zanahoria', 'aguacate']\n"
          ],
          "name": "stdout"
        }
      ]
    },
    {
      "cell_type": "code",
      "metadata": {
        "id": "qACz_QvUzxEz",
        "colab": {
          "base_uri": "https://localhost:8080/"
        },
        "outputId": "8721bacc-28ca-48da-f56a-6e74ef92700b"
      },
      "source": [
        "\r\n",
        "counts=0\r\n",
        "today = date.today()\r\n",
        "mas_dis=today\r\n",
        "inx=len(list_of_names)\r\n",
        "week=[\"Lunes\", \"Martes\", \"Miercoles\", \"Jueves\", \"Viernes\", \"Sabado\",\"Domingo\"]\r\n",
        "while counts <inx:\r\n",
        "  carbohidratos_1= random.choices(list_of_names,k=1)\r\n",
        "  proteinas_1=random.choices(list_of,k=1)\r\n",
        "  vegetales_1=random.choices(list_ofnames,k=1)\r\n",
        "  lunes=(carbohidratos_1+proteinas_1+vegetales_1)\r\n",
        "  print(\"Para el dia \"+\" \"+str(mas_dis)+\" El plato perfecto es \"+ str(lunes))\r\n",
        "  for x in lunes:\r\n",
        "    if x in  list_of_names:\r\n",
        "      list_of_names.remove(x)\r\n",
        "      for x in lunes:\r\n",
        "        if x in list_of:\r\n",
        "          list_of.remove(x)\r\n",
        "      for x in lunes:\r\n",
        "        if x in list_ofnames:\r\n",
        "          list_ofnames.remove(x)\r\n",
        "      counts=counts+1\r\n",
        "      mas_dis=mas_dis + timedelta(days=1)\r\n",
        "      print(\"Ingredientes restantes\",\"\\n\",list_of_names,\"\\n\",list_of,\"\\n\",list_ofnames)\r\n",
        "      break\r\n",
        " "
      ],
      "execution_count": 236,
      "outputs": [
        {
          "output_type": "stream",
          "text": [
            "Para el dia  2021-02-12 El plato perfecto es ['Pasta', 'Salmon', 'aguacate']\n",
            "Ingredientes restantes \n",
            " ['Arroz', 'Frijoles', 'Lentejas', 'Garbanzos', 'Maiz', 'Papas'] \n",
            " ['pechuga', 'carne de res', 'costilla', 'atun', 'lomo de cerdo', 'pernil'] \n",
            " ['brocoli', 'coliflor', 'lechuga', 'tomate', 'pepino', 'zanahoria']\n",
            "Para el dia  2021-02-13 El plato perfecto es ['Frijoles', 'atun', 'pepino']\n",
            "Ingredientes restantes \n",
            " ['Arroz', 'Lentejas', 'Garbanzos', 'Maiz', 'Papas'] \n",
            " ['pechuga', 'carne de res', 'costilla', 'lomo de cerdo', 'pernil'] \n",
            " ['brocoli', 'coliflor', 'lechuga', 'tomate', 'zanahoria']\n",
            "Para el dia  2021-02-14 El plato perfecto es ['Papas', 'pechuga', 'brocoli']\n",
            "Ingredientes restantes \n",
            " ['Arroz', 'Lentejas', 'Garbanzos', 'Maiz'] \n",
            " ['carne de res', 'costilla', 'lomo de cerdo', 'pernil'] \n",
            " ['coliflor', 'lechuga', 'tomate', 'zanahoria']\n",
            "Para el dia  2021-02-15 El plato perfecto es ['Maiz', 'costilla', 'lechuga']\n",
            "Ingredientes restantes \n",
            " ['Arroz', 'Lentejas', 'Garbanzos'] \n",
            " ['carne de res', 'lomo de cerdo', 'pernil'] \n",
            " ['coliflor', 'tomate', 'zanahoria']\n",
            "Para el dia  2021-02-16 El plato perfecto es ['Garbanzos', 'lomo de cerdo', 'tomate']\n",
            "Ingredientes restantes \n",
            " ['Arroz', 'Lentejas'] \n",
            " ['carne de res', 'pernil'] \n",
            " ['coliflor', 'zanahoria']\n",
            "Para el dia  2021-02-17 El plato perfecto es ['Lentejas', 'pernil', 'coliflor']\n",
            "Ingredientes restantes \n",
            " ['Arroz'] \n",
            " ['carne de res'] \n",
            " ['zanahoria']\n",
            "Para el dia  2021-02-18 El plato perfecto es ['Arroz', 'carne de res', 'zanahoria']\n",
            "Ingredientes restantes \n",
            " [] \n",
            " [] \n",
            " []\n"
          ],
          "name": "stdout"
        }
      ]
    },
    {
      "cell_type": "code",
      "metadata": {
        "colab": {
          "base_uri": "https://localhost:8080/"
        },
        "id": "uFYjqGcJ3ifR",
        "outputId": "8f194b31-9fd9-419c-bcbd-ae280e7fce34"
      },
      "source": [
        "if not list_of_names:\r\n",
        "  agregar=\"\"\r\n",
        "  while agregar !=\"2\":\r\n",
        "    if agregar==\"1\":\r\n",
        "      ingrediente=input(\"Que tipo de ingrediente vas a ingresar? \\n 1-Carbohidratos \\n 2-proteina \\n 3-vegetales\")\r\n",
        "      if ingrediente==\"1\":\r\n",
        "        nuevo_ingrediente=input(\"ingresa el nuevo ingrediente\")\r\n",
        "        list_of_names.append(nuevo_ingrediente)\r\n",
        "        print(list_of_names)\r\n",
        "      if ingrediente==\"2\":\r\n",
        "        nuevo_ingrediente=input(\"ingresa el nuevo ingrediente\")\r\n",
        "        list_of.append(nuevo_ingrediente)\r\n",
        "        print(list_of)\r\n",
        "      if ingrediente==\"3\":\r\n",
        "        nuevo_ingrediente=input(\"ingresa el nuevo ingrediente\")\r\n",
        "        list_ofnames.append(nuevo_ingrediente)\r\n",
        "        print(list_ofnames)\r\n",
        "    agregar=input(\"Quieres Ingresar nuevos ingredientes? \\n 1-Si \\n 2-No\")\r\n",
        "\r\n",
        "print(\"Carbohidrato\"+str(list_of_names))\r\n",
        "print(\"proteina\"+str(list_of)) \r\n",
        "print(\"vegetales\"+str(list_ofnames)) \r\n"
      ],
      "execution_count": 237,
      "outputs": [
        {
          "output_type": "stream",
          "text": [
            "Quieres Ingresar nuevos ingredientes? \n",
            " 1-Si \n",
            " 2-No1\n",
            "Que tipo de ingrediente vas a ingresar? \n",
            " 1-Carbohidratos \n",
            " 2-proteina \n",
            " 3-vegetales2\n",
            "ingresa el nuevo ingredientePOLLO\n",
            "['POLLO']\n",
            "Quieres Ingresar nuevos ingredientes? \n",
            " 1-Si \n",
            " 2-No1\n",
            "Que tipo de ingrediente vas a ingresar? \n",
            " 1-Carbohidratos \n",
            " 2-proteina \n",
            " 3-vegetales1\n",
            "ingresa el nuevo ingredienteFRIJOL\n",
            "['FRIJOL']\n",
            "Quieres Ingresar nuevos ingredientes? \n",
            " 1-Si \n",
            " 2-No1\n",
            "Que tipo de ingrediente vas a ingresar? \n",
            " 1-Carbohidratos \n",
            " 2-proteina \n",
            " 3-vegetales3\n",
            "ingresa el nuevo ingredienteZANAHORIA\n",
            "['ZANAHORIA']\n",
            "Quieres Ingresar nuevos ingredientes? \n",
            " 1-Si \n",
            " 2-No2\n",
            "Carbohidrato['FRIJOL']\n",
            "proteina['POLLO']\n",
            "vegetales['ZANAHORIA']\n"
          ],
          "name": "stdout"
        }
      ]
    },
    {
      "cell_type": "code",
      "metadata": {
        "colab": {
          "base_uri": "https://localhost:8080/"
        },
        "id": "Q7rT1viyGYiC",
        "outputId": "47735e42-d65f-4851-85b7-6f189c198037"
      },
      "source": [
        "import pandas as pd\r\n",
        "df = pd.DataFrame()\r\n",
        "df[\"Carbohidratos\"]=list_of_names\r\n",
        "df[\"Proteinas\"]=list_of\r\n",
        "df[\"Vegetales\"]=list_ofnames\r\n",
        "print(df)"
      ],
      "execution_count": 238,
      "outputs": [
        {
          "output_type": "stream",
          "text": [
            "  Carbohidratos Proteinas  Vegetales\n",
            "0        FRIJOL     POLLO  ZANAHORIA\n"
          ],
          "name": "stdout"
        }
      ]
    },
    {
      "cell_type": "code",
      "metadata": {
        "id": "BG4Om1nRMmWm"
      },
      "source": [
        "df.to_excel(r'export_df.xlsx', index = False)"
      ],
      "execution_count": 239,
      "outputs": []
    }
  ]
}
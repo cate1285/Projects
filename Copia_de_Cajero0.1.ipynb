{
  "nbformat": 4,
  "nbformat_minor": 0,
  "metadata": {
    "colab": {
      "name": "Copia de Cajero.ipynb",
      "provenance": [],
      "collapsed_sections": [],
      "authorship_tag": "ABX9TyOICuYftHNQR3eovd3mRFqZ",
      "include_colab_link": true
    },
    "kernelspec": {
      "name": "python3",
      "display_name": "Python 3"
    }
  },
  "cells": [
    {
      "cell_type": "markdown",
      "metadata": {
        "id": "view-in-github",
        "colab_type": "text"
      },
      "source": [
        "<a href=\"https://colab.research.google.com/github/cate1285/Projects/blob/main/Copia_de_Cajero0.1.ipynb\" target=\"_parent\"><img src=\"https://colab.research.google.com/assets/colab-badge.svg\" alt=\"Open In Colab\"/></a>"
      ]
    },
    {
      "cell_type": "code",
      "metadata": {
        "id": "x95KVEpErOEb"
      },
      "source": [
        ""
      ],
      "execution_count": null,
      "outputs": []
    },
    {
      "cell_type": "markdown",
      "metadata": {
        "id": "c7ThMC6HrO74"
      },
      "source": [
        "tabla de multiplicar del "
      ]
    },
    {
      "cell_type": "code",
      "metadata": {
        "colab": {
          "base_uri": "https://localhost:8080/"
        },
        "id": "oNTGwip-rRF8",
        "outputId": "9e20231a-3ce0-43ce-c0f8-ec9bcde2f923"
      },
      "source": [
        "saldo=500000\r\n",
        "usuario=\"Cate\"\r\n",
        "clave=\"How deep is your\"\r\n",
        "usuario_ingresado=input(\"ingrese el usuario\")\r\n",
        "clave_ingresada=input(\"ingrese la clave\")\r\n",
        "if  usuario_ingresado==usuario:\r\n",
        "  print(\"El usuario es correcto \")\r\n",
        "  if clave_ingresada==clave:\r\n",
        "    opciones=input(\"Que desea hacer \\n 1- Retirar \\n 2- Consignar \")\r\n",
        "    if opciones==\"1\":\r\n",
        "      monto_retirar= int (input(\"Que monto desea retirar?\"))\r\n",
        "      if monto_retirar <=saldo:\r\n",
        "        confirmacion=input(\"El monto a retirar sera de \"+ str (monto_retirar) + \"Es eso correcto? \\n si \\n no \\n\")\r\n",
        "        if confirmacion.lower() ==\"si\":\r\n",
        "          nuevo_saldo=saldo-monto_retirar\r\n",
        "          print(\"Transaccion exitosa\"+\"Nuevo saldo es \"+ str(nuevo_saldo) )\r\n",
        "      elif monto_retirar > saldo:\r\n",
        "        print(\"no tienes el saldo disponible para la transaccion\")\r\n",
        "\r\n",
        "    elif opciones==\"2\":\r\n",
        "      monto_consignar=input(\"Que monto quieres consignar\")\r\n",
        "      nuevo_saldo=saldo+monto_consignar\r\n",
        "      print(\"Transaccion exitosa el nuevo saldo es \"+ nuevo_saldo)\r\n",
        "print(\"Gracias\")"
      ],
      "execution_count": null,
      "outputs": [
        {
          "output_type": "stream",
          "text": [
            "ingrese el usuarioCate\n",
            "ingrese la claveHow deep is your\n",
            "El usuario es correcto \n",
            "Que desea hacer \n",
            " 1- Retirar \n",
            " 2- Consignar 1\n",
            "Que monto desea retirar?100000\n",
            "El monto a retirar sera de 100000Es eso correcto? \n",
            " si \n",
            " no \n",
            "si\n",
            "Transaccion exitosaNuevo saldo es 400000\n",
            "Gracias\n"
          ],
          "name": "stdout"
        }
      ]
    },
    {
      "cell_type": "markdown",
      "metadata": {
        "id": "go9jwO1w-EWK"
      },
      "source": [
        "Aplicando funciones"
      ]
    },
    {
      "cell_type": "code",
      "metadata": {
        "colab": {
          "base_uri": "https://localhost:8080/"
        },
        "id": "6YxK664LtM_-",
        "outputId": "5438a800-522f-4f4e-f1f9-88d040927df7"
      },
      "source": [
        "usuarioEnBD=\"Cate\"\r\n",
        "claveEnBD=\"How deep is your\"\r\n",
        "saldo=500000\r\n",
        "\r\n",
        "\r\n",
        "def validaUsuario(u,p):\r\n",
        "  if u == usuarioEnBD and p==claveEnBD:\r\n",
        "    return True\r\n",
        "  return False\r\n",
        " \r\n",
        "def login():\r\n",
        "  usuario=input(\"Ingrese el usuario\")\r\n",
        "  clave=input(\"ingrese la clave\")\r\n",
        "  return validaUsuario(usuario,clave)\r\n",
        "\r\n",
        "def retirar(valor):\r\n",
        "  if valor > saldo:\r\n",
        "    print(\"Saldo insuficiente, el saldo es de \", saldo)\r\n",
        "    return False,saldo\r\n",
        "\r\n",
        "  return (\"Transaccion realizada, nuevo saldo\"), saldo - valor\r\n",
        "\r\n",
        "def depositar (valor):\r\n",
        "  return True, saldo + valor\r\n",
        "\r\n",
        "def accion (opcion):\r\n",
        "  if opcion ==1:\r\n",
        "     valor=int(input(\"Ingresa el valor a depositar\"))\r\n",
        "     return depositar(valor)\r\n",
        "  if opcion ==2:\r\n",
        "    valor=int(input(\"ingresa el valor a retirar\"))\r\n",
        "    return retirar(valor)\r\n",
        "  return False,saldo\r\n",
        "\r\n",
        "def ejecutar():\r\n",
        "  if not login():\r\n",
        "    print(\"Usuario o contraseña invalidos\")\r\n",
        "    return\r\n",
        "  print(\"Que desea hacer?\")\r\n",
        "  opcion =int(input(\"1.depositar, 2. Retirar\"))\r\n",
        "  ok, saldo = accion (opcion)\r\n",
        "  if not ok:\r\n",
        "    print(\"no se realizo la accion, saldo:\", saldo)\r\n",
        "  else:\r\n",
        "    print(\"accion realizada correctamente:\", saldo)\r\n",
        "  \r\n",
        "ejecutar()\r\n",
        "\r\n",
        "\r\n",
        "\r\n"
      ],
      "execution_count": 8,
      "outputs": [
        {
          "output_type": "stream",
          "text": [
            "Ingrese el usuarioCate\n",
            "ingrese la claveHow deep is your\n",
            "Que desea hacer?\n",
            "1.depositar, 2. Retirar2\n",
            "ingresa el valor a retirar2554545454\n",
            "Saldo insuficiente, el saldo es de  500000\n",
            "no se realizo la accion, saldo: 500000\n"
          ],
          "name": "stdout"
        }
      ]
    },
    {
      "cell_type": "code",
      "metadata": {
        "id": "IH7Z9lQTXWnz"
      },
      "source": [
        ""
      ],
      "execution_count": null,
      "outputs": []
    }
  ]
}
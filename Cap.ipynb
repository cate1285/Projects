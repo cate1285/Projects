{
  "nbformat": 4,
  "nbformat_minor": 0,
  "metadata": {
    "colab": {
      "name": "Cap.ipynb",
      "provenance": [],
      "collapsed_sections": [
        "3Ms7UqPBXWLx",
        "a-0f7tlQbr90",
        "pmbYgOhNfSG-"
      ],
      "include_colab_link": true
    },
    "kernelspec": {
      "name": "python3",
      "display_name": "Python 3"
    }
  },
  "cells": [
    {
      "cell_type": "markdown",
      "metadata": {
        "id": "view-in-github",
        "colab_type": "text"
      },
      "source": [
        "<a href=\"https://colab.research.google.com/github/cate1285/Projects/blob/main/Cap.ipynb\" target=\"_parent\"><img src=\"https://colab.research.google.com/assets/colab-badge.svg\" alt=\"Open In Colab\"/></a>"
      ]
    },
    {
      "cell_type": "markdown",
      "metadata": {
        "id": "3V-V7eMGtrWO"
      },
      "source": [
        "---\n",
        "---\n",
        "#ESTADÍSTICA Y ML: Sesión 1\n",
        "---\n",
        "---"
      ]
    },
    {
      "cell_type": "markdown",
      "metadata": {
        "id": "Z-myttg3t0Vw"
      },
      "source": [
        "## INTRODUCCIÓN"
      ]
    },
    {
      "cell_type": "markdown",
      "metadata": {
        "id": "ghJLVl78t3g4"
      },
      "source": [
        "Proviene del vocablo “Estados” usada por los Gobiernos de los Estados para establecer registros de población, nacimientos, defunciones, impuestos, cosechas, entre otras.\n"
      ]
    },
    {
      "cell_type": "markdown",
      "metadata": {
        "id": "eumWgVFSt-xm"
      },
      "source": [
        "Gottfried Achenwall introduce el término “Statistik” en 1749.\n",
        "\n",
        "<img src=\"http://1.bp.blogspot.com/-ZONB-ZKhnjo/VB0Ko-rop0I/AAAAAAAAAvc/NDBSDMwS6do/s1600/GOTTFRIED%2BACHENWALL.png\" width=\"200\" align=\"center\"/>\n",
        "\n",
        "\n",
        "“Hay 3 tipos de mentiras: mentiras pequeñas, mentiras grandes y estadísticas” Benjamin Disraeli\n",
        "\n",
        "<img src='https://i.ebayimg.com/images/g/zOMAAOSwcTlbpQ8o/s-l1600.jpg' width=\"200\" align=\"center\"/>"
      ]
    },
    {
      "cell_type": "markdown",
      "metadata": {
        "id": "rBzV0Ke4xbO_"
      },
      "source": [
        "## DEFINICIONES"
      ]
    },
    {
      "cell_type": "markdown",
      "metadata": {
        "id": "NpimM9ESxhNZ"
      },
      "source": [
        "*   **Población:** conjunto de todos los elementos a los que se somete a un estudio.\n",
        "*   **Muestra:** subconjunto representativo de la población de referencia.\n",
        "*   **Individuo:** cada uno de los elementos que conforman a la población.\n",
        "*   **Muestreo:** reunión de datos que se desea estudiar, obtenidos de una muestra.\n",
        "*   **Dato:** cada uno de los valores obtenidos al realizar un estudio estadístico.\n",
        "*   **Valor:** cada uno de los distintos resultados que se pueden obtener en un estudio estadístico.\n",
        "\n",
        "<table><tr>\n",
        "<td> <img src=\"https://miro.medium.com/max/356/1*Z54JgbS4DUwWSknhDCvNTQ.png\" width=\"500\"/> </td>\n",
        "<td> <img src=\"https://miro.medium.com/max/462/1*7EYylA6XlXSGBCF77j_rOA.png\" alt=\"Drawing\" width=\"500\"/> </td>\n",
        "</tr></table>\n",
        "\n",
        "\n",
        "*   **Falsos positivos (FP):** cantidad de casos que la prueba declara positivos y que en realidad son negativos.\n",
        "*   **Falsos negativos (FN):** cantidad de casos que la prueba declara negativos y que en realidad son positivos.\n",
        "*   **Verdaderos positivos (VP):** cantidad de casos que la prueba declara positivos y que son verdaderamente positivos.\n",
        "*   **Verdaderos negativos (VN):** cantidad de casos que la prueba declara negativos y que son realmente negativos.\n",
        "\n",
        "Nota: Precisión, exactitud, sensibilidad, especificidad, razón de verosimilitud, etc."
      ]
    },
    {
      "cell_type": "markdown",
      "metadata": {
        "id": "ygQR2p0y0MJe"
      },
      "source": [
        "#### Tipos de estadísticas\n",
        "\n",
        "*   **Estadística descriptiva:** rama de la estadística dedicada a la descripción, visualización y resumen de datos, basándose principalmente en el conjunto de datos histórico.\n",
        "*   **Estadística predictiva:** rama de la estadística centrada al desarrollo de modelos que permiten estimar o predecir lo que va a ocurrir con antelación.\n",
        "\n",
        "\n",
        "**Análisis prescriptivo:** utilizado para analizar datos con el objetivo de encontrar cuál es la solución entre una gama de variantes."
      ]
    },
    {
      "cell_type": "markdown",
      "metadata": {
        "id": "EuRj9tQG0lxe"
      },
      "source": [
        "## FRAMEWORKS"
      ]
    },
    {
      "cell_type": "markdown",
      "metadata": {
        "id": "Eg0wEKRh1bIU"
      },
      "source": [
        "<table><tr>\n",
        "<td> <img src=\"https://datasciencechalktalk.files.wordpress.com/2019/09/cattura.jpg\" width=\"550\"></td>\n",
        "</tr></table>\n",
        "\n",
        "<table><tr>\n",
        "<td> <img src=\"https://miro.medium.com/max/500/1*37N7BHNaEsXPaerNQ8wBdA.png\" width=\"250\"/> </td>\n",
        "<td> <img src=\"https://miro.medium.com/fit/c/1712/515/1*qllYdaKrZLMhK-nK1zUVEQ.png\" alt=\"Drawing\" width=\"250\"/> </td>\n",
        "</tr></table>"
      ]
    },
    {
      "cell_type": "markdown",
      "metadata": {
        "id": "6ZvMaLFk5dOc"
      },
      "source": [
        "## CONCEPTOS BÁSICOS"
      ]
    },
    {
      "cell_type": "markdown",
      "metadata": {
        "id": "GvEOySqc5hoW"
      },
      "source": [
        "---\n",
        "### **Media**\n",
        "---\n",
        "*  **Media aritmética:** es aquella en la que todas las observaciones tienen la misma ponderación.\n",
        "\n",
        "$$\\frac{\\sum_{i=1}^{N}x_{i}}{N} = \\frac{x_{1}+x_{2}+x_{3}+...+x_{N}}{N}$$"
      ]
    },
    {
      "cell_type": "markdown",
      "metadata": {
        "id": "4JQG3qLl_7u_"
      },
      "source": [
        "Ej:\n",
        "\n",
        "Suponiendo que las notas de sus asignaturas (en una escala de 0 a 5.0) para el primer semestre de su carrera fueron las siguientes:\n",
        "\n",
        "*  Asignatura 1: 5\n",
        "*  Asignatura 1: 4\n",
        "*  Asignatura 1: 0\n",
        "*  Asignatura 1: 3.5\n",
        "*  Asignatura 1: 2.7\n",
        "\n",
        "Calcule la media aritmética de sus notas."
      ]
    },
    {
      "cell_type": "code",
      "metadata": {
        "id": "S_cqd-EX9ONY",
        "colab": {
          "base_uri": "https://localhost:8080/",
          "height": 35
        },
        "outputId": "30278020-dc8c-4f73-ecad-afb80e8f7d67"
      },
      "source": [
        "notas = [5, 4, 0, 3.5, 2.7]\n",
        "\n",
        "media_a = sum(notas)/len(notas)\n",
        "print(\"La media aritmética según sus notas es: \", media_a)"
      ],
      "execution_count": null,
      "outputs": [
        {
          "output_type": "stream",
          "text": [
            "La media aritmética según sus notas es:  3.04\n"
          ],
          "name": "stdout"
        }
      ]
    },
    {
      "cell_type": "markdown",
      "metadata": {
        "id": "rA_78aqD8Yel"
      },
      "source": [
        "*   **Media ponderada:** es aquella donde la importancia o ponderación, de las distintas partes de la asignatura no es el mismo.\n",
        "$$\\sum_{i=1}^{N}x_{i}P(x_{i}) = x_{1}P(x_{1})+x_{2}P(x_{2})+x_{3}P(x_{3})+...+x_{N}P(x_{N})$$"
      ]
    },
    {
      "cell_type": "markdown",
      "metadata": {
        "id": "SmaJ2XYcBQmg"
      },
      "source": [
        "Ej:\n",
        "\n",
        "Sus notas y peso de notas del corte para la asignatura de estadística son:\n",
        "\n",
        "*  Trabajos en clase (30%): 3.0\n",
        "*  Quiz (20%): 2.5\n",
        "*  Examen (50%): 5.0\n",
        "\n",
        "Calcule la media ponderada con respecto a sus notas actuales."
      ]
    },
    {
      "cell_type": "code",
      "metadata": {
        "id": "D1JIa-hn-3Eb",
        "colab": {
          "base_uri": "https://localhost:8080/",
          "height": 35
        },
        "outputId": "cb6dd675-2cf6-4bd8-df53-a5a2a38312f3"
      },
      "source": [
        "notas = [3*0.3, 2.5*0.2, 5*0.5]\n",
        "\n",
        "media_p = sum(notas)\n",
        "print(\"La media ponderada según sus notas es: \", media_p)"
      ],
      "execution_count": null,
      "outputs": [
        {
          "output_type": "stream",
          "text": [
            "La media ponderada según sus notas es:  3.9\n"
          ],
          "name": "stdout"
        }
      ]
    },
    {
      "cell_type": "markdown",
      "metadata": {
        "id": "HFwo9K1O9Y7j"
      },
      "source": [
        "*   **Media geométrica:** es la raíz n-ésima del producto del conjunto de números.\n",
        "\n",
        "$$\\sqrt[N]{\\prod_{i=1}^{N}x_{i}} = \\sqrt[N]{x_{1}\\cdot x_{2}\\cdot x_{3}\\cdot ...\\cdot x_{N}}$$"
      ]
    },
    {
      "cell_type": "markdown",
      "metadata": {
        "id": "k_KSKcLwEsqj"
      },
      "source": [
        "Ej:\n",
        "\n",
        "Woombat ha generado un 10% de rentabilidad el primer año, un 25% el segundo año, un 33% el tercer año y un 40% el cuarto año.\n",
        "\n",
        "Calcule la rentabilidad promedio de la empresa en estos años."
      ]
    },
    {
      "cell_type": "code",
      "metadata": {
        "id": "OVF19iaPt3Fi",
        "colab": {
          "base_uri": "https://localhost:8080/",
          "height": 35
        },
        "outputId": "4f40a85e-865d-4bb8-daf5-fc21067935f2"
      },
      "source": [
        "import numpy as np\n",
        "\n",
        "rent = [1.1, 1.25, 1.33, 1.4]\n",
        "\n",
        "prod_int = np.prod(np.array(rent))\n",
        "\n",
        "media_g = prod_int**(1/len(rent))\n",
        "print(\"La media geométrica de su rentabilidad es: \", media_g)"
      ],
      "execution_count": null,
      "outputs": [
        {
          "output_type": "stream",
          "text": [
            "La media geométrica de su rentabilidad es:  1.2649419445542727\n"
          ],
          "name": "stdout"
        }
      ]
    },
    {
      "cell_type": "markdown",
      "metadata": {
        "id": "ejwWeYr19gYW"
      },
      "source": [
        "*   **Media armonizada:** es la inversa de la media aritmética.\n",
        "\n",
        "$$\\frac{N}{\\sum_{i=1}^{N}\\frac{1}{x_{i}}} = \\frac{N}{\\frac{1}{x_{1}} + \\frac{1}{x_{2}} +\\frac{1}{x_{3}} +...+\\frac{1}{x_{N}}}$$\n",
        "\n",
        "\n",
        "Esta media es más utilizada para cálculo de velocidades y estadística económica."
      ]
    },
    {
      "cell_type": "markdown",
      "metadata": {
        "id": "ldLYtP2QLufy"
      },
      "source": [
        "Ej:\n",
        "\n",
        "Un trabajador de la empresa Woombat se desplaza a diferentes velocidades según el día, como por ejemplo:\n",
        "\n",
        "*  Lunes: 60 km/h.\n",
        "*  Martes: 55 km/h,\n",
        "*  Miércoles: 15 km/h\n",
        "*  Jueves: 70 km/h.\n",
        "*  Viernes: 65 km/h.\n",
        "\n",
        "¿Cuál será la velocidad media de este trabajador a lo largo de la semana?"
      ]
    },
    {
      "cell_type": "code",
      "metadata": {
        "id": "pdwvHPkot3Aj",
        "colab": {
          "base_uri": "https://localhost:8080/",
          "height": 35
        },
        "outputId": "195aa3be-0638-44bb-a970-4cb755682dad"
      },
      "source": [
        "import numpy as np\n",
        "\n",
        "vel = [60, 55, 15, 70, 65]\n",
        "media_arm = len(vel)/np.sum(1/np.array(vel))\n",
        "\n",
        "print(\"La la velocidad media del trabajor a lo largo de la semana fue de: \", round(media_arm,2), \"km/h\")"
      ],
      "execution_count": null,
      "outputs": [
        {
          "output_type": "stream",
          "text": [
            "La la velocidad media del trabajor a lo largo de la semana fue de:  38.11 km/h\n"
          ],
          "name": "stdout"
        }
      ]
    },
    {
      "cell_type": "markdown",
      "metadata": {
        "id": "KY9HWMJkITcm"
      },
      "source": [
        "¿Cuándo usar cada una de las medias?\n",
        "\n",
        "Ver artículo:\n",
        "\n",
        "*Gutiérrez, J.C.Á., 2010. La correcta utilización de los promedios. Medellin, Colombia: Revista Universidad Eafit-No, 98, p.77.*"
      ]
    },
    {
      "cell_type": "markdown",
      "metadata": {
        "id": "3Ms7UqPBXWLx"
      },
      "source": [
        "---\n",
        "### **Mediana**\n",
        "\n",
        "---\n",
        "\n",
        "Representa el valor de la variable de posición central en un conjunto de datos ordenados.\n",
        "\n",
        "\n",
        "El algoritmo para calcular la mediana sería:\n",
        "*  Ordenar de forma ascendente los datos.\n",
        "*  Si la cantidad de datos es impar, la mediana es el valor central.\n",
        "*  Si la cantidad de datos es par, encuentra el promedio entre los dos datos centrales, esa será la mediana."
      ]
    },
    {
      "cell_type": "markdown",
      "metadata": {
        "id": "jtDaZYsxYvem"
      },
      "source": [
        "Ej:\n",
        "\n",
        "La producción de aviones por días en una fábrica a sido la siguiente:\n",
        "\n",
        "Enero</br>\n",
        "1: 1</br>\n",
        "2: 10</br>\n",
        "3: 4</br>\n",
        "4: 2</br>\n",
        "5: 4</br>\n",
        "6: 3</br>\n",
        "\n",
        "\n",
        "Febrero</br>\n",
        "1: 1</br>\n",
        "2: 10</br>\n",
        "3: 4</br>\n",
        "4: 2</br>\n",
        "5: 4</br>\n",
        "6: 3</br>\n",
        "7: 7\n",
        "\n",
        "¿Cuál fue la media de producción para el més de enero y febrero?"
      ]
    },
    {
      "cell_type": "code",
      "metadata": {
        "id": "fhSsqWP9aS3J"
      },
      "source": [
        "def mediana(l):\n",
        "  if len(l) % 2 == 0:\n",
        "    n = len(l)\n",
        "    mediana = (l[int(n/2)-1]+ l[int(n/2)] )/2\n",
        "  else:\n",
        "    mediana =l[int(len(l)/2)]\n",
        "  return mediana"
      ],
      "execution_count": null,
      "outputs": []
    },
    {
      "cell_type": "code",
      "metadata": {
        "id": "Y5qvKi9LYu9V",
        "colab": {
          "base_uri": "https://localhost:8080/",
          "height": 88
        },
        "outputId": "6e7bb151-c141-4f5e-9eea-6ec8f2e6f4b7"
      },
      "source": [
        "p_enero = [ 1, 10, 4, 2, 4, 3]\n",
        "p_febrero = [ 1, 10, 4, 2, 4, 3, 7]\n",
        "\n",
        "p_enero.sort()\n",
        "p_febrero.sort()\n",
        "print('Enero ordenado sería: ', p_enero)\n",
        "print('Febrero ordenado sería: ', p_febrero)\n",
        "\n",
        "print('La mediana para Enero sería:', mediana(p_enero))\n",
        "print('La mediana para Febrero sería:', mediana(p_febrero))"
      ],
      "execution_count": null,
      "outputs": [
        {
          "output_type": "stream",
          "text": [
            "Enero ordenado sería:  [1, 2, 3, 4, 4, 10]\n",
            "Febrero ordenado sería:  [1, 2, 3, 4, 4, 7, 10]\n",
            "La mediana para Enero sería: 3.5\n",
            "La mediana para Febrero sería: 4\n"
          ],
          "name": "stdout"
        }
      ]
    },
    {
      "cell_type": "markdown",
      "metadata": {
        "id": "a-0f7tlQbr90"
      },
      "source": [
        "---\n",
        "### **Moda**\n",
        "---\n",
        "\n",
        "La moda de un conjunto de números es el número que más se repite."
      ]
    },
    {
      "cell_type": "markdown",
      "metadata": {
        "id": "oy0JRFcMb13R"
      },
      "source": [
        "La moda de un conjunto de números es el número que aparece más a menudo."
      ]
    },
    {
      "cell_type": "code",
      "metadata": {
        "id": "9MpAgq23cGKn"
      },
      "source": [
        "def moda(l):\n",
        "  repeticiones = 2\n",
        "  for i in l:\n",
        "    apariciones = l.count(i)\n",
        "    if apariciones > repeticiones:\n",
        "      repeticiones = apariciones\n",
        "  \n",
        "  modas = []\n",
        "  for i in l:\n",
        "    apariciones = l.count(i)\n",
        "    if apariciones == repeticiones and i not in modas:\n",
        "      modas.append(i)\n",
        "\n",
        "  if len(modas) != len(l):\n",
        "        mo = modas\n",
        "  else:\n",
        "        mo = 'No hay moda'\n",
        "  return mo"
      ],
      "execution_count": null,
      "outputs": []
    },
    {
      "cell_type": "code",
      "metadata": {
        "id": "wOqh1Firb04T",
        "colab": {
          "base_uri": "https://localhost:8080/",
          "height": 35
        },
        "outputId": "c5af881e-5a08-4195-c453-659575087f07"
      },
      "source": [
        "datos = [2, 5, 5, 6, 8, 8, 9, 11,11]\n",
        "\n",
        "print(\"Las modas son: \", moda(datos))"
      ],
      "execution_count": null,
      "outputs": [
        {
          "output_type": "stream",
          "text": [
            "Las modas son:  [5, 8, 11]\n"
          ],
          "name": "stdout"
        }
      ]
    },
    {
      "cell_type": "markdown",
      "metadata": {
        "id": "pmbYgOhNfSG-"
      },
      "source": [
        "---\n",
        "### **Varianza**\n",
        "---\n",
        "Es una medida de dispersión que representa la variabilidad de una serie de datos respecto a su media.\n",
        "\n",
        "$$\\sigma ^{2} =\\frac{\\sum_{i=1}^{N}(x_{i}-\\mu)^{2}}{N} = \\frac{(x_{1}-\\mu)^{2}+(x_{2}-\\mu)^{2}+(x_{3}-\\mu)^{2}+...+(x_{N}-\\mu)^{2}}{N}$$\n",
        "\n",
        "Siendo $\\mu$ la media aritmética."
      ]
    },
    {
      "cell_type": "markdown",
      "metadata": {
        "id": "vM4O7XdBjR4z"
      },
      "source": [
        "Ej:\n",
        "\n",
        "Se desea calcular la varianza de la siguiente serie de edades:\n",
        "\n",
        "edades = 22, 23, 26, 26, 26, 34, 34, 38, 40, 41"
      ]
    },
    {
      "cell_type": "code",
      "metadata": {
        "id": "D0W20quRhhUx"
      },
      "source": [
        "from statistics import mean\n",
        "\n",
        "def varianza(l):\n",
        "  s = 0\n",
        "  m = mean(l)\n",
        "  for elemento in l:\n",
        "    s += (elemento - m) ** 2\n",
        "  return s / float(len(l))"
      ],
      "execution_count": null,
      "outputs": []
    },
    {
      "cell_type": "code",
      "metadata": {
        "id": "LrmSPztbhgd8",
        "colab": {
          "base_uri": "https://localhost:8080/",
          "height": 35
        },
        "outputId": "75c93bf0-2683-4898-e6c4-78450348653c"
      },
      "source": [
        "edades = [22, 23, 26, 26, 26, 34, 34, 38, 40, 41]\n",
        "print(\"La varianza de la serie de edades es: \", varianza(edades))"
      ],
      "execution_count": null,
      "outputs": [
        {
          "output_type": "stream",
          "text": [
            "La varianza de la serie de edades es:  46.8\n"
          ],
          "name": "stdout"
        }
      ]
    },
    {
      "cell_type": "markdown",
      "metadata": {
        "id": "BcnViSrEkeTm"
      },
      "source": [
        "---\n",
        "### **Desviación estándar**\n",
        "---\n",
        "\n",
        "La desviación estándar mide cuánto se separan los datos\n",
        "\n",
        "Ej:\n",
        "\n",
        "Se desea calcular la desviación estandar de la serie de edades del ejercicio anterior."
      ]
    },
    {
      "cell_type": "code",
      "metadata": {
        "id": "WKUp-t9VkfVZ",
        "colab": {
          "base_uri": "https://localhost:8080/",
          "height": 35
        },
        "outputId": "fd57d42b-7e8b-43ce-b883-f2cbd4bae7f7"
      },
      "source": [
        "edades = [22, 23, 26, 26, 26, 34, 34, 38, 40, 41]\n",
        "\n",
        "print(\"La la desviasión estandar de la serie de edades es: \", round((varianza(edades)**(1/2)),2))"
      ],
      "execution_count": null,
      "outputs": [
        {
          "output_type": "stream",
          "text": [
            "La la desviasión estandar de la serie de edades es:  6.84\n"
          ],
          "name": "stdout"
        }
      ]
    },
    {
      "cell_type": "markdown",
      "metadata": {
        "id": "PFkpiuCBlvGb"
      },
      "source": [
        "Revisión gráfica\n",
        "\n",
        "Media, mediana y moda.\n",
        "\n"
      ]
    },
    {
      "cell_type": "markdown",
      "metadata": {
        "id": "fgrdxrSWl3vO"
      },
      "source": [
        "<img src='http://1.bp.blogspot.com/-EASa_329xDQ/VVz8Zmn49cI/AAAAAAAAmmA/ZAnp8RHMWeM/s1600/catorceaba%2Bentrada%2B4.jpg' width=\"500\" align=\"center\"/>"
      ]
    },
    {
      "cell_type": "markdown",
      "metadata": {
        "id": "t0nqSVJ_anGV"
      },
      "source": [
        "---\n",
        "---\n",
        "# ÁLGEBRA LINEAL\n",
        "---\n",
        "---"
      ]
    },
    {
      "cell_type": "markdown",
      "metadata": {
        "id": "3LG6JX2_o8tZ"
      },
      "source": [
        "## INTRODUCCIÓN\n",
        "\n",
        "\n",
        "El álgebra lineal es una de las ramas de las matemáticas que estudia conceptos tales como vectores, matrices, sistemas de ecuaciones lineales y en un enfoque más formal, espacios vectoriales, y sus transformaciones lineales.\n",
        "\n",
        "Principales aplicaciones para ML:\n",
        "*  Vectorización de código, también conocido como la programación de matrices.\n",
        "*  Reconocimiento de imágenes.\n",
        "*  Reducción de dimensionalidad.\n",
        "\n",
        "Recomendación:\n",
        "\n",
        "Película [Midiendo el mundo](https://www.youtube.com/watch?v=bKZJVcNManE)"
      ]
    },
    {
      "cell_type": "markdown",
      "metadata": {
        "id": "Hd4S5gtNsf8h"
      },
      "source": [
        "### **Escalares**\n",
        "\n",
        "Un es un tipo de magnitud física que se expresa por un solo módulo y tiene el mismo valor para todos los observadores.\n",
        "\n",
        "En pocas palabras un **número** cualquiera.\n",
        "\n",
        "### **Vectores**\n",
        "\n",
        "Segmento de recta, contado a partir de un punto del espacio, cuya longitud representa a escala una magnitud, en una dirección determinada y en uno de sus sentidos.\n",
        "\n",
        "<img src='https://hackernoon.com/hn-images/1*F2OFvgRUJE5ZtEP8wlna0g.png' width=\"300\" align=\"center\"/>\n",
        "\n",
        "\n",
        "No obstante en informática una representación común de estos es en forma de lista de datos.\n",
        "\n",
        "v = [1, 2, 3, 6, 8, 10]\n",
        "\n",
        "### Matrices\n",
        "\n",
        "\n",
        "Una matriz es un arreglo bidimensional de datos, en la cual cada elemento está ubicado en la intersección de una fila y una columna.\n",
        "\n",
        "\n",
        "$$A_{mn} = \\begin{bmatrix}\n",
        "a_{11} & a_{12} & \\cdots  & a_{1n}\\\\ \n",
        "a_{21} & a_{22} & \\cdots & a_{2n}\\\\ \n",
        "\\vdots  & \\vdots & \\ddots & \\cdots\\\\ \n",
        "a_{m1} & a_{m2} & \\cdots & a_{mn}\n",
        "\\end{bmatrix}$$\n",
        "\n",
        "\n",
        "Ej: Matriz en Python\n",
        "\n",
        "$$B_{24} = \\begin{bmatrix}\n",
        "1 & 2 & 3  & 4\\\\ \n",
        "10 & 20 & 30 & 40\n",
        "\\end{bmatrix}$$"
      ]
    },
    {
      "cell_type": "code",
      "metadata": {
        "id": "PNTcXW-7_IJC",
        "colab": {
          "base_uri": "https://localhost:8080/",
          "height": 52
        },
        "outputId": "95459b55-907d-4864-ff20-58fb2cb9d039"
      },
      "source": [
        "import numpy as np\n",
        "\n",
        "B = [    [1, 2, 3, 4],[10, 20, 30, 40]    ]\n",
        "n_B = np.array(B)\n",
        "print(n_B)"
      ],
      "execution_count": null,
      "outputs": [
        {
          "output_type": "stream",
          "text": [
            "[[ 1  2  3  4]\n",
            " [10 20 30 40]]\n"
          ],
          "name": "stdout"
        }
      ]
    },
    {
      "cell_type": "code",
      "metadata": {
        "id": "u1fzyhdRCArN",
        "colab": {
          "base_uri": "https://localhost:8080/",
          "height": 35
        },
        "outputId": "c5847c34-6a60-41f9-eeac-8df4f1c6b986"
      },
      "source": [
        "#Para acceder a elementos dentro del array\n",
        "a11 = n_B[1,1]\n",
        "a11"
      ],
      "execution_count": null,
      "outputs": [
        {
          "output_type": "execute_result",
          "data": {
            "text/plain": [
              "20"
            ]
          },
          "metadata": {
            "tags": []
          },
          "execution_count": 20
        }
      ]
    },
    {
      "cell_type": "markdown",
      "metadata": {
        "id": "LweBlzbvquUW"
      },
      "source": [
        "## OPERACIONES BÁSICAS"
      ]
    },
    {
      "cell_type": "markdown",
      "metadata": {
        "id": "fTkwvfU4rM4A"
      },
      "source": [
        "### Suma"
      ]
    },
    {
      "cell_type": "markdown",
      "metadata": {
        "id": "Z5_hNzEuFq_H"
      },
      "source": [
        "Ej:\n",
        "\n",
        "$$A = \\begin{bmatrix}\n",
        "1 & -2 & -6\\\\ \n",
        "2 & 4 & 10\\\\ \n",
        "\\end{bmatrix}$$\n",
        "\n",
        "$$B = \\begin{bmatrix}\n",
        "-3 & 7 & 9\\\\ \n",
        "0 & 1 & 5\\\\ \n",
        "\\end{bmatrix}$$\n",
        "\n",
        "$$A+B=?$$"
      ]
    },
    {
      "cell_type": "code",
      "metadata": {
        "id": "JOatI3RrFqsd",
        "colab": {
          "base_uri": "https://localhost:8080/",
          "height": 51
        },
        "outputId": "048a49dd-4ccf-462c-fa68-ec9015b249cd"
      },
      "source": [
        "A = np.array([[1, -2, -6], [2, 4, 10]])\n",
        "B = np.array([[-3, 7, 9], [0, 1, 5]])\n",
        "\n",
        "C = A+B\n",
        "C"
      ],
      "execution_count": null,
      "outputs": [
        {
          "output_type": "execute_result",
          "data": {
            "text/plain": [
              "array([[-2,  5,  3],\n",
              "       [ 2,  5, 15]])"
            ]
          },
          "metadata": {
            "tags": []
          },
          "execution_count": 84
        }
      ]
    },
    {
      "cell_type": "code",
      "metadata": {
        "id": "V3PJX2XeLTk_",
        "colab": {
          "base_uri": "https://localhost:8080/",
          "height": 51
        },
        "outputId": "cc7135c1-f844-4180-ef4d-63b84a44d6a2"
      },
      "source": [
        "A1 = 2+A\n",
        "A1"
      ],
      "execution_count": null,
      "outputs": [
        {
          "output_type": "execute_result",
          "data": {
            "text/plain": [
              "array([[ 3,  0, -4],\n",
              "       [ 4,  6, 12]])"
            ]
          },
          "metadata": {
            "tags": []
          },
          "execution_count": 86
        }
      ]
    },
    {
      "cell_type": "markdown",
      "metadata": {
        "id": "8kMziTKdrQH6"
      },
      "source": [
        "### Resta\n",
        "\n",
        "$$A-B = ?$$"
      ]
    },
    {
      "cell_type": "code",
      "metadata": {
        "id": "1a2YhfyRLNYc",
        "colab": {
          "base_uri": "https://localhost:8080/",
          "height": 51
        },
        "outputId": "81a2e7e5-27ce-4382-edd2-2df403e01720"
      },
      "source": [
        "D = A-B\n",
        "D"
      ],
      "execution_count": null,
      "outputs": [
        {
          "output_type": "execute_result",
          "data": {
            "text/plain": [
              "array([[  4,  -9, -15],\n",
              "       [  2,   3,   5]])"
            ]
          },
          "metadata": {
            "tags": []
          },
          "execution_count": 85
        }
      ]
    },
    {
      "cell_type": "code",
      "metadata": {
        "id": "-5KOIqpwLZ5Z",
        "colab": {
          "base_uri": "https://localhost:8080/",
          "height": 51
        },
        "outputId": "5e3cba86-4b97-4fad-c210-a3e93782ab77"
      },
      "source": [
        "B1 = 2-A\n",
        "B1"
      ],
      "execution_count": null,
      "outputs": [
        {
          "output_type": "execute_result",
          "data": {
            "text/plain": [
              "array([[ 1,  4,  8],\n",
              "       [ 0, -2, -8]])"
            ]
          },
          "metadata": {
            "tags": []
          },
          "execution_count": 88
        }
      ]
    },
    {
      "cell_type": "markdown",
      "metadata": {
        "id": "9Tb_cJSJrSHC"
      },
      "source": [
        "### Multiplicación\n",
        "\n",
        "\n",
        "$$A = \\begin{bmatrix}\n",
        "2 & 0\\\\ \n",
        "1 & 3\\\\ \n",
        "\\end{bmatrix}$$\n",
        "\n",
        "$$B = \\begin{bmatrix}\n",
        "-1 & -1\\\\ \n",
        "5 & 6\\\\ \n",
        "\\end{bmatrix}$$\n",
        "\n",
        "$$A+B = \\begin{bmatrix}\n",
        "2\\cdot(-1)+0\\cdot(5) & 2\\cdot(-1)+0\\cdot(6)\\\\ \n",
        "1\\cdot(-1)+3\\cdot(5) & 1\\cdot(-1)+3\\cdot(6)\\\\ \n",
        "\\end{bmatrix}$$\n",
        "\n",
        "$$A+B = \\begin{bmatrix}\n",
        "-2 & -2\\\\ \n",
        "14 & 17\\\\ \n",
        "\\end{bmatrix}$$\n",
        "\n",
        "---\n",
        "\n",
        "$$A+B=?$$\n",
        "\n",
        "$$A \\cdot B = ?$$\n",
        "\n",
        "$$A \\times  B = ?$$"
      ]
    },
    {
      "cell_type": "code",
      "metadata": {
        "id": "7sQrGZq3MHNb",
        "colab": {
          "base_uri": "https://localhost:8080/",
          "height": 153
        },
        "outputId": "980d1839-a27c-408f-c128-9db529aa540f"
      },
      "source": [
        "A = np.array([[2, 0], [1, 3]])\n",
        "B = np.array([[-1, -1], [5, 6]])\n",
        "\n",
        "#Producto por un escalar\n",
        "print('El producto entre A y el escalar 2 es: ')\n",
        "AE = 2*A\n",
        "print(AE)\n",
        "#Multiplicación de matrices\n",
        "AB = np.dot(A,B)\n",
        "print('El producto entre las matrices es: ')\n",
        "print(AB)\n",
        "#Producto cruz\n",
        "cAB = np.cross(A,B)\n",
        "print('El producto cruz es: ')\n",
        "print(cAB)"
      ],
      "execution_count": null,
      "outputs": [
        {
          "output_type": "stream",
          "text": [
            "El producto entre A y el escalar 2 es: \n",
            "[[4 0]\n",
            " [2 6]]\n",
            "El producto entre las matrices es: \n",
            "[[-2 -2]\n",
            " [14 17]]\n",
            "El producto cruz es: \n",
            "[-2 -9]\n"
          ],
          "name": "stdout"
        }
      ]
    },
    {
      "cell_type": "markdown",
      "metadata": {
        "id": "idA2tU6XrTqs"
      },
      "source": [
        "### División\n",
        "\n",
        "División entre un escalar\n",
        "\n",
        "$$ \\frac{A}{2} = A/2$$\n",
        "\n",
        "División entre una matriz\n",
        "\n",
        "$$ \\frac{A}{B} = A/B = A \\cdot B^{-1}$$"
      ]
    },
    {
      "cell_type": "markdown",
      "metadata": {
        "id": "eBi5ASLJWOOL"
      },
      "source": [
        "### Determinante\n",
        "\n",
        "El determinante de una matriz es el factor de escala de una transformacíon."
      ]
    },
    {
      "cell_type": "markdown",
      "metadata": {
        "id": "Q5EXZDrcqxBJ"
      },
      "source": [
        "## AUTOVALORES Y AUTOVECTORES"
      ]
    },
    {
      "cell_type": "markdown",
      "metadata": {
        "id": "_fMCIzS5XmOu"
      },
      "source": [
        "Cuando se trabaja resolviendo ecuaciones lineales del tipo $Ax=b$, se trabaja con problemas estáticos. \n",
        "\n",
        "¿Pero qué pasa si quisiéramos trabajar con problemas dinámicos? *Solución*: Se utilizan eigenvalues y eigenvectors.\n",
        "\n",
        "\n",
        "* El eigenvector es el vector que conserva la direccionalidad tras una transformación.\n",
        "\n",
        "* El eigenvector es el factor de escala de dicho eigenvector."
      ]
    },
    {
      "cell_type": "markdown",
      "metadata": {
        "id": "qmiGY0fpa0WP"
      },
      "source": [
        "¡Veámoslo con un ejemplo!\n",
        "\n",
        "\n",
        "Supangamos la matriz $A$\n",
        "\n",
        "$$A = \\begin{bmatrix}\n",
        "3 & 2\\\\ \n",
        "1 & 4\\\\ \n",
        "\\end{bmatrix}$$\n",
        "\n",
        "Se desea ver cuál es el efecto que provoca esa matriz por los vectores de $\\mathbb{R}^{2}$. ¿Qué pasa cuando uno multiplica esa matriz A por un vector?\n",
        "\n",
        "$$\n",
        "A \\cdot \\begin{bmatrix}\n",
        "x\\\\ \n",
        "y\n",
        "\\end{bmatrix} = \\begin{bmatrix}\n",
        "3 & 2\\\\ \n",
        "1 & 4\\\\ \n",
        "\\end{bmatrix} \\cdot \\begin{bmatrix}\n",
        "x\\\\ \n",
        "y\n",
        "\\end{bmatrix} = \\begin{bmatrix}\n",
        "3x + 2y\\\\ \n",
        "x + 4y\n",
        "\\end{bmatrix}\n",
        "$$\n",
        "\n",
        "Ahora supongamos un cuadrado unitario con origen en (0,0).\n",
        "\n",
        "<img src='https://aga.frba.utn.edu.ar/wp-content/uploads/2016/11/111416_1756_1.png' width=500>\n",
        "\n",
        "\n",
        "Al realizar la transformación obtenemos que:\n",
        "\n",
        "$$\n",
        "A \\cdot \\begin{bmatrix}\n",
        "0\\\\ \n",
        "0\n",
        "\\end{bmatrix} = \\begin{bmatrix}\n",
        "0\\\\ \n",
        "0\n",
        "\\end{bmatrix}\n",
        "$$\n",
        "\n",
        "\n",
        "$$\n",
        "A \\cdot \\begin{bmatrix}\n",
        "1\\\\ \n",
        "0\n",
        "\\end{bmatrix} = \\begin{bmatrix}\n",
        "3\\\\ \n",
        "1\n",
        "\\end{bmatrix}\n",
        "$$\n",
        "\n",
        "$$\n",
        "A \\cdot \\begin{bmatrix}\n",
        "0\\\\ \n",
        "1\n",
        "\\end{bmatrix} = \\begin{bmatrix}\n",
        "2\\\\ \n",
        "4\n",
        "\\end{bmatrix}\n",
        "$$\n",
        "\n",
        "$$\n",
        "A \\cdot \\begin{bmatrix}\n",
        "1\\\\ \n",
        "1\n",
        "\\end{bmatrix} = \\begin{bmatrix}\n",
        "5\\\\ \n",
        "5\n",
        "\\end{bmatrix}\n",
        "$$\n",
        "\n",
        "Obteniendo de este modo:\n",
        "\n",
        "<img src='https://aga.frba.utn.edu.ar/wp-content/uploads/2016/11/111416_1756_2.png' width=300>\n",
        "\n",
        "\n",
        "De esta forma podemos ver que el vector (1,1) conserva su dirección siendo este un autovector o eigenvector. Además fue escalado en un valor de 5 por lo que \"5\" sería el autovalor o eigenvalue."
      ]
    },
    {
      "cell_type": "markdown",
      "metadata": {
        "id": "no9PddkJq2J9"
      },
      "source": [
        "## REPRESENTACIONES"
      ]
    },
    {
      "cell_type": "markdown",
      "metadata": {
        "id": "q-exJ1MBUfPl"
      },
      "source": [
        "### **Matriz identidad**"
      ]
    },
    {
      "cell_type": "code",
      "metadata": {
        "id": "9wL0nDLCUe9a",
        "colab": {
          "base_uri": "https://localhost:8080/",
          "height": 68
        },
        "outputId": "bb25c6d1-b58a-4366-e3f8-33467580c94b"
      },
      "source": [
        "I = np.eye(3)\n",
        "I"
      ],
      "execution_count": null,
      "outputs": [
        {
          "output_type": "execute_result",
          "data": {
            "text/plain": [
              "array([[1., 0., 0.],\n",
              "       [0., 1., 0.],\n",
              "       [0., 0., 1.]])"
            ]
          },
          "metadata": {
            "tags": []
          },
          "execution_count": 96
        }
      ]
    },
    {
      "cell_type": "markdown",
      "metadata": {
        "id": "M16B4CikUs78"
      },
      "source": [
        "### **Inversa de una matriz**"
      ]
    },
    {
      "cell_type": "code",
      "metadata": {
        "id": "I9R0vb91q6FS",
        "colab": {
          "base_uri": "https://localhost:8080/",
          "height": 51
        },
        "outputId": "0d3c1e11-1564-4db0-d20e-7e693a932a0f"
      },
      "source": [
        "A = np.array([[2, 0], [1, 3]])\n",
        "\n",
        "A_inv = np.linalg.inv(A)\n",
        "A_inv"
      ],
      "execution_count": null,
      "outputs": [
        {
          "output_type": "execute_result",
          "data": {
            "text/plain": [
              "array([[ 0.5       ,  0.        ],\n",
              "       [-0.16666667,  0.33333333]])"
            ]
          },
          "metadata": {
            "tags": []
          },
          "execution_count": 99
        }
      ]
    },
    {
      "cell_type": "code",
      "metadata": {
        "id": "yGX8QZvAq6Cm",
        "colab": {
          "base_uri": "https://localhost:8080/",
          "height": 51
        },
        "outputId": "cb7b1f85-795e-4674-f9d3-f6fa2b0744be"
      },
      "source": [
        "II = np.matmul(A,A_inv)\n",
        "II"
      ],
      "execution_count": null,
      "outputs": [
        {
          "output_type": "execute_result",
          "data": {
            "text/plain": [
              "array([[1.00000000e+00, 0.00000000e+00],\n",
              "       [2.77555756e-17, 1.00000000e+00]])"
            ]
          },
          "metadata": {
            "tags": []
          },
          "execution_count": 104
        }
      ]
    },
    {
      "cell_type": "markdown",
      "metadata": {
        "id": "1y9ERyXWWl2y"
      },
      "source": [
        "### **Transpuesta de una matriz**"
      ]
    },
    {
      "cell_type": "code",
      "metadata": {
        "id": "fFSWekc9Woks",
        "colab": {
          "base_uri": "https://localhost:8080/",
          "height": 51
        },
        "outputId": "f59d447f-cc32-4860-84cc-ca27f1bf6c22"
      },
      "source": [
        "TA = np.transpose(A)\n",
        "TA"
      ],
      "execution_count": null,
      "outputs": [
        {
          "output_type": "execute_result",
          "data": {
            "text/plain": [
              "array([[2, 1],\n",
              "       [0, 3]])"
            ]
          },
          "metadata": {
            "tags": []
          },
          "execution_count": 105
        }
      ]
    },
    {
      "cell_type": "code",
      "metadata": {
        "id": "PoLk3nHxWqgy"
      },
      "source": [
        ""
      ],
      "execution_count": null,
      "outputs": []
    },
    {
      "cell_type": "markdown",
      "metadata": {
        "id": "nc_bEGEIxqnw"
      },
      "source": [
        ""
      ]
    },
    {
      "cell_type": "markdown",
      "metadata": {
        "id": "if2p2036SETn"
      },
      "source": [
        "# **PROBABILIDAD** \n"
      ]
    },
    {
      "cell_type": "markdown",
      "metadata": {
        "id": "xGphJNJm8EUV"
      },
      "source": [
        "**Definiciones**\n",
        "\n",
        "**Probabilidad:** Es una medida de la certidumbre asociada a un suceso o evento futuro y suele expresarse como un número entre 0 y 1.\n",
        "\n",
        "**Experimento:** Es la observación de un fenómeno que ocurre en la naturaleza.\n",
        "\n",
        "**Espacio muestral:** Es el conjunto de posibles resultados de un experimento\n",
        "aleatorio.\n",
        "\n",
        "**Evento:** Es un resultado particular de un experimento aleatorio.\n",
        "\n",
        "**Combinatoria:**  Es una rama de la matemática que estudia la enumeración, ordenamiento y agrupación de un determinado número de elementos.\n",
        "\n",
        "**Frecuencia:** Es el número de veces en que dicho evento se repite durante un experimento."
      ]
    },
    {
      "cell_type": "markdown",
      "metadata": {
        "id": "HmlPGVzc17jX"
      },
      "source": [
        "### **Principio básico del conteo**\n",
        "\n",
        "Supongamos que se realizan dos experimentos $A$ y $B$, donde $A$ puede tener $m$ resultados. si, para cada resultado del experimento $A$, hay $n$ posibles resultados del experimento $B$, entonces juntos dan $mn$ posibles resultados de los dos experimentos."
      ]
    },
    {
      "cell_type": "markdown",
      "metadata": {
        "id": "uaApsiRI4DCU"
      },
      "source": [
        "**Ejemplo**\n",
        "\n",
        "Un Banco X recibe 100 transacciones por dia, cada transaccion se clasifica en 30 campos que dan información sobre la transacción y cada campo tiene 5 valores. Si el banco desea escoger un campo y un valor de tal campo que le otorgue información importante para analizar, ¿cuántas opciones diferentes son posibles?\n",
        "\n",
        "Al considerar la elección del campo como resultado del primer experimento y la elección posterior de uno de sus valores asignados, por el principio básico del conteo, tenemos que hay 30 * 5 = 150 opciones posibles."
      ]
    },
    {
      "cell_type": "markdown",
      "metadata": {
        "id": "FEx2gjjJDsqZ"
      },
      "source": [
        "**Combinaciones:**\n",
        "A menudo nos interesa determinar el número de diferentes grupos de objetos $r$ que podrían formarse a partir de un total de $n$ objetos.\n",
        "\n",
        "**Notación**\n",
        "\n",
        "Definimos $\\binom nr$, para $r \\leq n$, por:\n",
        "\n",
        "$\\binom nr = \\dfrac{n!}{(n-r)!r!}$, donde se dice que $\\binom nr$ representa el número de combinaciones posibles de n objetos tomados r a la vez."
      ]
    },
    {
      "cell_type": "markdown",
      "metadata": {
        "id": "ILffw92D8nDP"
      },
      "source": [
        "$Ejemplo$ \n",
        "\n",
        "4 Estudiantes fueron seleccionados para jugar una final de ajedrez, como se sabe son dos jugadores por partida, ¿Cuantas posibles finales son posibles contando los 4 estudiantes?\n",
        "\n",
        "\n",
        "Hay $4 \\choose 2$\n",
        "\n",
        "![Tabla1](https://drive.google.com/uc?id=1yKpHOsEHKNnEW6a9EA1vLrbz352p9myj)"
      ]
    },
    {
      "cell_type": "code",
      "metadata": {
        "id": "9N4kjGzS828K",
        "colab": {
          "base_uri": "https://localhost:8080/",
          "height": 34
        },
        "outputId": "0e49a94b-f234-4004-cae5-7fb658603c53"
      },
      "source": [
        "import operator as op                     #Libreria para agregar operaciónes basicas\n",
        "from functools import reduce              #para aplicar una función particular a todos los elementos de la lista\n",
        "\n",
        "def ncr(n, r):                            #Se define la función ncr(combinatoria)\n",
        "    r = min(r, n-r)                       #Se halla el minimo del denominador \n",
        "    numer = reduce(op.mul, range(n, n-r, -1), 1)    #Numerador según la formula de combinatoria\n",
        "    denom = reduce(op.mul, range(1, r+1), 1)        #Denominador según la formula de combinatoria\n",
        "    return numer / denom                            #Devuelve el valor de la fraccion \n",
        " \n",
        "print(\"------------> La cantidad de posibles finales es\",ncr(4,2)) \n"
      ],
      "execution_count": null,
      "outputs": [
        {
          "output_type": "stream",
          "text": [
            "------------> La cantidad de posibles finales es 6.0\n"
          ],
          "name": "stdout"
        }
      ]
    },
    {
      "cell_type": "markdown",
      "metadata": {
        "id": "EhStT31fV04-"
      },
      "source": [
        "**Ejemplo**\n",
        "\n",
        "Si se desea formar un comité de 3 personas a partir de un grupo de 20 personas, ¿cuantos comites diferentes son posibles? \n",
        "\n",
        "Hay $20 \\choose 3$ posibles comités."
      ]
    },
    {
      "cell_type": "code",
      "metadata": {
        "id": "PztvQMjrY2Rv",
        "cellView": "both",
        "colab": {
          "base_uri": "https://localhost:8080/",
          "height": 34
        },
        "outputId": "74134a8d-0fd3-45a1-ceb3-8405499b9cf1"
      },
      "source": [
        "print(\"------------> La cantidad de posibles grupos diferentes es\",ncr(20,3)) "
      ],
      "execution_count": null,
      "outputs": [
        {
          "output_type": "stream",
          "text": [
            "------------> La cantidad de posibles grupos diferentes es 1140.0\n"
          ],
          "name": "stdout"
        }
      ]
    },
    {
      "cell_type": "markdown",
      "metadata": {
        "id": "ReK0w3Y5ke6t"
      },
      "source": [
        "### **Probabilidad frecuentista**\n",
        "\n",
        "Una forma de definir la probabilidad de un evento es en términos de su frecuencia relativa. Suponemos que un experimento, cuyo espacio muestral es $S$, se realiza repetidamente bajo exactamente las mismas condiciones. Para cada evento $E$ del espacio muestral $S$, definimos $n (E)$ como el número de veces en las primeras $n$ repeticiones del experimento que ocurre el evento $E$. Entonces $P (E)$, la probabilidad del evento $E$, se define como:\n",
        "\n",
        "$P(E)=\\lim\\limits_{n\\rightarrow \\infty}\\dfrac{n(E)}{n}$"
      ]
    },
    {
      "cell_type": "markdown",
      "metadata": {
        "id": "OVZcSKkOn5rk"
      },
      "source": [
        "$Ejemplo$\n",
        "\n",
        "En el Reino Unido, el $50,9 \\%$ de todos los bebés nacidos son niñas; supongamos que estamos interesados en el evento $A$: \"un bebé seleccionado al azar sea una niña\". Según el enfoque frecuentista $P (A) = 0.509$."
      ]
    },
    {
      "cell_type": "markdown",
      "metadata": {
        "id": "4jPkpWFEdEh3"
      },
      "source": [
        "$Ejemplo$ Se desea conocer la probabilidad de que al nacer un bebe, su sexo sea femenino, a este evento lo llamaremos $A$, se repite el evento por medio de una simulación, para hallar la frecuencia relativa."
      ]
    },
    {
      "cell_type": "code",
      "metadata": {
        "id": "VHeSjli4Gon0",
        "colab": {
          "base_uri": "https://localhost:8080/",
          "height": 638
        },
        "outputId": "550857b1-0ce0-4e9a-ea3b-252aa527be4b"
      },
      "source": [
        "from random import randint                  #Para generar enteros pseudoaleatorios\n",
        "import numpy as np                          #Para generar matrices y realizar operaciones en ellas\n",
        "import matplotlib.pyplot as plt             #Para graficar\n",
        "\n",
        "x = [randint(0, 1) for p in range(0, 20)]   #Se generan 20 enteros aleatoriamente entre (0,1)\n",
        "arr = ['F' if i==1 else 'M' for i in x]     #Se crea la lista aleatoria de los tipos de sexo\n",
        "\n",
        "Acum = np.cumsum(x)                         #La suma acumulada de la cantidad de F\n",
        "lista=list(range(1,21))                     #Se crea una lista de (1,20)\n",
        "Acum = np.array(Acum)                       # Se pasan las listas a Array    \n",
        "lista = np.array(lista)\n",
        "lista_multi = Acum/lista                    #El numero de veces que ocurre F/todos los nacimientos\n",
        "\n",
        "plt.title(\"Frecuencia con que nace una niña\")\n",
        "plt.bar(lista,lista_multi,align=\"center\")\n",
        "plt.xticks(lista)"
      ],
      "execution_count": null,
      "outputs": [
        {
          "output_type": "execute_result",
          "data": {
            "text/plain": [
              "([<matplotlib.axis.XTick at 0x7fed64c9eb00>,\n",
              "  <matplotlib.axis.XTick at 0x7fed64c9eac8>,\n",
              "  <matplotlib.axis.XTick at 0x7fed64c9e710>,\n",
              "  <matplotlib.axis.XTick at 0x7fed64c702e8>,\n",
              "  <matplotlib.axis.XTick at 0x7fed64c70780>,\n",
              "  <matplotlib.axis.XTick at 0x7fed64c70c18>,\n",
              "  <matplotlib.axis.XTick at 0x7fed64c70b70>,\n",
              "  <matplotlib.axis.XTick at 0x7fed64c70828>,\n",
              "  <matplotlib.axis.XTick at 0x7fed64c79630>,\n",
              "  <matplotlib.axis.XTick at 0x7fed64c79ac8>,\n",
              "  <matplotlib.axis.XTick at 0x7fed64c79f60>,\n",
              "  <matplotlib.axis.XTick at 0x7fed64c7f438>,\n",
              "  <matplotlib.axis.XTick at 0x7fed64c7f8d0>,\n",
              "  <matplotlib.axis.XTick at 0x7fed64c7fd68>,\n",
              "  <matplotlib.axis.XTick at 0x7fed64c8a240>,\n",
              "  <matplotlib.axis.XTick at 0x7fed64c7f9b0>,\n",
              "  <matplotlib.axis.XTick at 0x7fed64c79b70>,\n",
              "  <matplotlib.axis.XTick at 0x7fed64c8a5f8>,\n",
              "  <matplotlib.axis.XTick at 0x7fed64c8aa20>,\n",
              "  <matplotlib.axis.XTick at 0x7fed64c8aeb8>],\n",
              " <a list of 20 Text major ticklabel objects>)"
            ]
          },
          "metadata": {
            "tags": []
          },
          "execution_count": 3
        },
        {
          "output_type": "display_data",
          "data": {
            "image/png": "[encoded data removed]",
            "text/plain": [
              "<Figure size 432x288 with 1 Axes>"
            ]
          },
          "metadata": {
            "tags": [],
            "needs_background": "light"
          }
        }
      ]
    },
    {
      "cell_type": "markdown",
      "metadata": {
        "id": "iChLp0i8gNvp"
      },
      "source": [
        "### **Axiomas de probabilidad**\n",
        "\n",
        "1.   $0 \\leq P(E) \\leq 1$\n",
        "2.   $P(S)=1$\n",
        "3.   $P(\\bigcup\\limits_{i=1}^{\\infty}E_{i})= \\sum\\limits_{i=1}^{\\infty}P(E_{i})$\n",
        "\n",
        "Donde $P$ es la probabilidad, $E$ es un evento especifico, $S$ es el espacio muestral y $P(E)= \\dfrac{Numero \\, de\\, resultados\\, en\\, E}{Numero\\, de\\, resultados\\, en\\, S}$\n",
        "\n",
        "\n",
        "\n"
      ]
    },
    {
      "cell_type": "markdown",
      "metadata": {
        "id": "ga2E_S8-WCwJ"
      },
      "source": [
        "**Ejemplo**\n",
        "\n",
        "Se seleccionará un comité de 5 personas, de un grupo de 6 hombres y 9 mujeres. Si la selección se realiza al azar, ¿cuál es la probabilidad de que el comité esté formado por 3 hombres y 2 mujeres?\n",
        "\n",
        "Debido a que cada uno de los $15 \\choose 5$ comités posibles tiene la misma probabilidad de ser seleccionado, la probabilidad deseada es:\n",
        "\n",
        "$\\dfrac{\\binom 63  \\binom 92}{15 \\choose 5}$"
      ]
    },
    {
      "cell_type": "code",
      "metadata": {
        "id": "NklLxlW6Ykjh",
        "colab": {
          "base_uri": "https://localhost:8080/",
          "height": 34
        },
        "outputId": "8573d403-cebc-4054-d8cc-992a6e2b3fec"
      },
      "source": [
        "a = ncr(6,3)*ncr(9,2)/ncr(15,5)\n",
        "print(\"----> La probabilidad de que el comite este conformado por 3 hombres y dos mujeres es\", a)"
      ],
      "execution_count": null,
      "outputs": [
        {
          "output_type": "stream",
          "text": [
            "----> La probabilidad de que el comite este conformado por 3 hombres y dos mujeres es 0.23976023976023977\n"
          ],
          "name": "stdout"
        }
      ]
    },
    {
      "cell_type": "markdown",
      "metadata": {
        "id": "H2AH4_cV-gyQ"
      },
      "source": [
        "**Independencia:** Dos eventos $A$ y $B$ son independientes si y solo si $P(A\\cap B)=P(A)P(B)$\n",
        "\n",
        "**Ejemplo:** Se selecciona una carta al azar de un mazo ordinario de 52 cartas. Si $E$ es el evento de que la carta seleccionada es un as y $F$ es el evento de que es una diamante, entonces $E$ y $F$ son independientes. Esto se debe a que $P(E\\cap F)=\\dfrac{1}{52}$ mientras que $P(E)=\\dfrac{4}{52}$ y $P(F)=\\dfrac{13}{52}$"
      ]
    },
    {
      "cell_type": "code",
      "metadata": {
        "id": "GPlZKGTQ2BJC",
        "colab": {
          "base_uri": "https://localhost:8080/",
          "height": 51
        },
        "outputId": "e9ffbe84-447b-4ba1-e447-c4c1d4dc20f6"
      },
      "source": [
        "print((4/52)*(13/52))\n",
        "print(1/52)"
      ],
      "execution_count": null,
      "outputs": [
        {
          "output_type": "stream",
          "text": [
            "0.019230769230769232\n",
            "0.019230769230769232\n"
          ],
          "name": "stdout"
        }
      ]
    },
    {
      "cell_type": "markdown",
      "metadata": {
        "id": "gPTQsQGSHSZ4"
      },
      "source": [
        "**Probabilidad condicional:** Dados dos eventos $A$ y $B$, la probabilidad de que suceda $A$, sabiendo que sucedio o esta sucediendo $B$ se denomina probabilidad condicional de $A$ dado $B$ y se denota: $P(A|B)=\\dfrac{P(A\\cap B)}{P(B)}$, donde $P(B)\\neq 0$\n",
        "\n",
        "**Ejemplo:** Celine está indecisa sobre si tomar un curso de francés o un curso de química. Ella estima que su probabilidad de recibir una calificación de 5.0, sería $\\dfrac{1}{2}$ en un curso de francés y $\\dfrac{2}{3}$ en un curso de química. Si Celine decide basar su decisión en el lanzamiento de una moneda justa, ¿cuál es la probabilidad de que obtenga una A en química?\n",
        "\n",
        "Denotamos $C$ el evento de que Celine tome química y $A$ denota el evento de que recibe una calificación de 5.0 en cualquier curso que tome, entonces la probabilidad deseada es $P(C\\cap A)$, que se calcula de la siguiente manera:\n",
        "\n",
        "$P(C\\cap A)=P(C)P(A|C)$$=(\\dfrac{1}{2})(\\dfrac{2}{3})=(\\dfrac{1}{3})$"
      ]
    },
    {
      "cell_type": "markdown",
      "metadata": {
        "id": "-4CKXRIUZRB5"
      },
      "source": [
        "**Teorema de Bayes**:\n",
        "\n",
        "$P(A|B)=\\dfrac{P(B|A)P(A)}{P(B)}$, donde $P(B)\\neq 0$\n",
        "\n",
        "De forma mas general, la formula de Bayes está definida:\n",
        "\n",
        "$P(A_{i}|B)=\\dfrac{P(B|A_{i})P(A_{i})}{\\sum_{k=1}^{n}P(B|A_{k})P(A_{k})}$\n",
        "\n",
        "\n",
        "\n",
        "**Ejemplo:** Incluso si el 100% de los pacientes con Covid-19 tienen un cierto síntoma, cuando alguien tiene el mismo síntoma no necesariamente significa que esta persona tenga un 100% de posibilidades de contraer Covid-19. Suponga que la tasa de incidencia es 1/100000, mientras que 1/10000 individuos sanos tienen los mismos síntomas en todo el mundo, la probabilidad de tener Covid-19 es solo del 9%, y el otro 91% podría ser falsos positivos.\n",
        "\n",
        "Según la tasa de incidencia, la siguiente tabla presenta los números correspondientes por cada 100,000 personas.\n",
        "\n",
        "![Tabla](https://drive.google.com/uc?id=1Vk1nd_wDLhSfZVEBgcYAZkZGo7SVYV2n)\n",
        "\n",
        "Que luego se puede usar para calcular la probabilidad de tener Covid-19 con un síntoma positivo.\n",
        "\n",
        "$P(Covid|+)=\\dfrac{P(+|Covid)P(Covid)}{P(+)}=\\dfrac{P(+|Covid)P(Covid)}{P(+|Covid)P(Covid)+P(+|NoCovid)P(NoCovid)}$\n",
        "\n",
        "$=\\dfrac{1\\times 0.00001}{1\\times 0.00001+(10/99999)\\times 0.99999}=\\dfrac{1}{11}\\approx 0.09$"
      ]
    },
    {
      "cell_type": "code",
      "metadata": {
        "id": "i-NlO3aOhYRN",
        "colab": {
          "base_uri": "https://localhost:8080/",
          "height": 34
        },
        "outputId": "42ec66f0-ed58-4ce6-dda2-547a8fa221c9"
      },
      "source": [
        "1/11"
      ],
      "execution_count": null,
      "outputs": [
        {
          "output_type": "execute_result",
          "data": {
            "text/plain": [
              "0.09090909090909091"
            ]
          },
          "metadata": {
            "tags": []
          },
          "execution_count": 12
        }
      ]
    },
    {
      "cell_type": "markdown",
      "metadata": {
        "id": "hyspwSDEA8am"
      },
      "source": [
        "### **Variable aleatoria**\n",
        "\n",
        "Se describe informalmente como una variable cuyos valores dependen de los resultados de un fenómeno aleatorio. Una variable aleatoria es una función real valorada en un espacio muestral.\n",
        "\n",
        "**Ejemplo:** Supongamos que nuestro experimento consiste en lanzar 3 monedas justas. Si dejamos que $Y$ denote el número de caras que aparecen, entonces $Y$ es una variable aleatoria que toma uno de los valores 0, 1, 2 y 3 con las probabilidades respectivas\n",
        "\n",
        "$P\\{Y=0\\}=P\\{(S,S,S)\\}=\\dfrac{1}{8}$\n",
        "\n",
        "$P\\{Y=1\\}=P\\{(S,S,C),(S,C,S),(C,S,S)\\}=\\dfrac{3}{8}$\n",
        "\n",
        "$P\\{Y=2\\}=P\\{(S,C,C),(C,S,C),(C,C,S)\\}=\\dfrac{3}{8}$\n",
        "\n",
        "$P\\{Y=3\\}=P\\{(C,C,C)\\}=\\dfrac{1}{8}$\n",
        "\n",
        "Como $Y$ debe tomar uno de los valores del 0 al 3, debemos tener\n",
        "\n",
        "$1=P(\\bigcup\\limits_{i=0}^{3}\\{Y=i\\})=\\sum\\limits_{i=0}^{3}P\\{Y=i\\}$\n",
        "que, por supuesto, está de acuerdo con las probabilidades anteriores.\n",
        "\n"
      ]
    },
    {
      "cell_type": "code",
      "metadata": {
        "id": "Z4-l-JRZTkBG",
        "colab": {
          "base_uri": "https://localhost:8080/",
          "height": 51
        },
        "outputId": "baebe48e-1311-4891-90db-5a78d30484a7"
      },
      "source": [
        "from random import randint                  \n",
        "\n",
        "x = [randint(0, 1) for p in range(0, 3)]   #Se generan 3 enteros aleatoriamente entre (0,1)\n",
        "arr = ['C' if i==1 else 'S' for i in x]    #Se crea la lista de posibles resultados (Cara, Sello)\n",
        "den = 2**len(arr)        #Cantidad total de posibles resultados del experimento\n",
        "num = arr.count(\"C\")     #Cantidad de caras \n",
        "\n",
        "if 0 < num < 3:          #Conteo de las diferentes posibilidades dependiendo el orden\n",
        "   num=len(arr)\n",
        "\n",
        "Prob = num/den           #Probabilidad\n",
        "\n",
        "print(\"Dado que obtuvimos\", arr)\n",
        "print(\"La probabilidad es\", Prob)"
      ],
      "execution_count": null,
      "outputs": [
        {
          "output_type": "stream",
          "text": [
            "Dado que obtuvimos ['S', 'C', 'C']\n",
            "La probabilidad es 0.375\n"
          ],
          "name": "stdout"
        }
      ]
    },
    {
      "cell_type": "markdown",
      "metadata": {
        "id": "oe9MmJPaXZmC"
      },
      "source": [
        "# **PANDAS**\n",
        "\n",
        "Pandas es una libreria escrita como extensión de *NumPy* para manipulación y análisis de datos para el lenguaje de programación Python. En particular, ofrece estructuras de datos y operaciones para manipular tablas numéricas y series temporales.\n",
        "\n",
        "\n",
        "\n",
        "\n",
        "<table><tr>\n",
        "<td> <img src=\"https://drive.google.com/uc?id=1wmQacJXzsIUUOTTC2EgCsdlMoVop4KMX\" width=\"250\" align=\"center\"/> </td>\n",
        "</tr></table>\n",
        "\n",
        "<table><tr>\n",
        "<td> <img src=\"https://drive.google.com/uc?id=1p5z78WMJbBMxfjxvIIp-UAuDmFHb0xJT\" width=\"150\" align=\"center\"/> </td>\n",
        "</tr></table>"
      ]
    },
    {
      "cell_type": "markdown",
      "metadata": {
        "id": "a4-qOE3ob7Os"
      },
      "source": [
        "### **DataFrame**\n",
        "\n",
        "Es una estructura de datos de dos dimensiones (rectangulares) que puede contener datos de diferentes tipos, almacenando la información como una tabla ordenada por filas y columnas.\n",
        "\n",
        "\n",
        "$Ejemplo$: Vamos a crear un dataframe a partir de un diccionario, donde las llaves seran los nombres de las columnas y los valores seran la lista de valores que tiene las características. Tomando como ejemplo los clientes de cierto banco, junto con alguna informacion sobre ellos."
      ]
    },
    {
      "cell_type": "code",
      "metadata": {
        "id": "5kFZtpFbd-hS"
      },
      "source": [
        "import pandas as pd     #Cargar la libreria Pandas\n",
        "import numpy as np      "
      ],
      "execution_count": null,
      "outputs": []
    },
    {
      "cell_type": "code",
      "metadata": {
        "id": "o_x6VJ9_hXRc",
        "colab": {
          "base_uri": "https://localhost:8080/",
          "height": 204
        },
        "outputId": "49f17836-1eb4-43b4-8931-e109a45aa72f"
      },
      "source": [
        "dict_caracteristicas = {'Nombre':['Maria','Holmes','Mario','Norma','Adrien'],\n",
        "      'Apellido':['Sharapova', 'Trujillo', 'Yepes', 'Bustamante', 'Brody'],\n",
        "                        'Altura':[188.0,180.0,186.0,165.0,185.0],\n",
        "                        'Peso':[80.0,78.0,83.0,61.0,78.0],\n",
        "                        'Edad':[32,68,44,36,46]}\n",
        "df_cli=pd.DataFrame(dict_caracteristicas,index=[1,2,3,4,5])    \n",
        "df_cli                    "
      ],
      "execution_count": null,
      "outputs": [
        {
          "output_type": "execute_result",
          "data": {
            "text/html": [
              "<div>\n",
              "<style scoped>\n",
              "    .dataframe tbody tr th:only-of-type {\n",
              "        vertical-align: middle;\n",
              "    }\n",
              "\n",
              "    .dataframe tbody tr th {\n",
              "        vertical-align: top;\n",
              "    }\n",
              "\n",
              "    .dataframe thead th {\n",
              "        text-align: right;\n",
              "    }\n",
              "</style>\n",
              "<table border=\"1\" class=\"dataframe\">\n",
              "  <thead>\n",
              "    <tr style=\"text-align: right;\">\n",
              "      <th></th>\n",
              "      <th>Nombre</th>\n",
              "      <th>Apellido</th>\n",
              "      <th>Altura</th>\n",
              "      <th>Peso</th>\n",
              "      <th>Edad</th>\n",
              "    </tr>\n",
              "  </thead>\n",
              "  <tbody>\n",
              "    <tr>\n",
              "      <th>1</th>\n",
              "      <td>Maria</td>\n",
              "      <td>Sharapova</td>\n",
              "      <td>188.0</td>\n",
              "      <td>80.0</td>\n",
              "      <td>32</td>\n",
              "    </tr>\n",
              "    <tr>\n",
              "      <th>2</th>\n",
              "      <td>Holmes</td>\n",
              "      <td>Trujillo</td>\n",
              "      <td>180.0</td>\n",
              "      <td>78.0</td>\n",
              "      <td>68</td>\n",
              "    </tr>\n",
              "    <tr>\n",
              "      <th>3</th>\n",
              "      <td>Mario</td>\n",
              "      <td>Yepes</td>\n",
              "      <td>186.0</td>\n",
              "      <td>83.0</td>\n",
              "      <td>44</td>\n",
              "    </tr>\n",
              "    <tr>\n",
              "      <th>4</th>\n",
              "      <td>Norma</td>\n",
              "      <td>Bustamante</td>\n",
              "      <td>165.0</td>\n",
              "      <td>61.0</td>\n",
              "      <td>36</td>\n",
              "    </tr>\n",
              "    <tr>\n",
              "      <th>5</th>\n",
              "      <td>Adrien</td>\n",
              "      <td>Brody</td>\n",
              "      <td>185.0</td>\n",
              "      <td>78.0</td>\n",
              "      <td>46</td>\n",
              "    </tr>\n",
              "  </tbody>\n",
              "</table>\n",
              "</div>"
            ],
            "text/plain": [
              "   Nombre    Apellido  Altura  Peso  Edad\n",
              "1   Maria   Sharapova   188.0  80.0    32\n",
              "2  Holmes    Trujillo   180.0  78.0    68\n",
              "3   Mario       Yepes   186.0  83.0    44\n",
              "4   Norma  Bustamante   165.0  61.0    36\n",
              "5  Adrien       Brody   185.0  78.0    46"
            ]
          },
          "metadata": {
            "tags": []
          },
          "execution_count": 30
        }
      ]
    },
    {
      "cell_type": "markdown",
      "metadata": {
        "id": "vHcgTg4Oo6J2"
      },
      "source": [
        "Podemos observas que la primer columna (La cual no tiene nombre), es el indice que hemos asignado a cada cliente. Si quisieramos buscar a un cliente en especifico lo podemos hacer si se conoce el indice asignado al cliente que se pretende buscar."
      ]
    },
    {
      "cell_type": "code",
      "metadata": {
        "id": "JYg3f_6BrDzn",
        "colab": {
          "base_uri": "https://localhost:8080/",
          "height": 119
        },
        "outputId": "97b0bc50-de6e-4435-c0ba-efd834db0192"
      },
      "source": [
        "df_cli.loc[4]"
      ],
      "execution_count": null,
      "outputs": [
        {
          "output_type": "execute_result",
          "data": {
            "text/plain": [
              "Nombre           Norma\n",
              "Apellido    Bustamante\n",
              "Altura             165\n",
              "Peso                61\n",
              "Edad                36\n",
              "Name: 4, dtype: object"
            ]
          },
          "metadata": {
            "tags": []
          },
          "execution_count": 16
        }
      ]
    },
    {
      "cell_type": "markdown",
      "metadata": {
        "id": "xlRhhqKFsFHX"
      },
      "source": [
        "Si se desea agregar un nuevo cliente al dataframe, se puede realizar de la siguiente forma:"
      ]
    },
    {
      "cell_type": "code",
      "metadata": {
        "id": "Qj7XS39EsNuf",
        "colab": {
          "base_uri": "https://localhost:8080/",
          "height": 235
        },
        "outputId": "ed8aeb6c-47e8-4ff3-e625-a41cafe2b796"
      },
      "source": [
        "ind = 6 \n",
        "caract_cliente = ['Stephanie','Cayo',168.0,53.0,31]\n",
        "df_cli.loc[ind] = caract_cliente\n",
        "df_cli"
      ],
      "execution_count": null,
      "outputs": [
        {
          "output_type": "execute_result",
          "data": {
            "text/html": [
              "<div>\n",
              "<style scoped>\n",
              "    .dataframe tbody tr th:only-of-type {\n",
              "        vertical-align: middle;\n",
              "    }\n",
              "\n",
              "    .dataframe tbody tr th {\n",
              "        vertical-align: top;\n",
              "    }\n",
              "\n",
              "    .dataframe thead th {\n",
              "        text-align: right;\n",
              "    }\n",
              "</style>\n",
              "<table border=\"1\" class=\"dataframe\">\n",
              "  <thead>\n",
              "    <tr style=\"text-align: right;\">\n",
              "      <th></th>\n",
              "      <th>Nombre</th>\n",
              "      <th>Apellido</th>\n",
              "      <th>Altura</th>\n",
              "      <th>Peso</th>\n",
              "      <th>Edad</th>\n",
              "    </tr>\n",
              "  </thead>\n",
              "  <tbody>\n",
              "    <tr>\n",
              "      <th>1</th>\n",
              "      <td>Maria</td>\n",
              "      <td>Sharapova</td>\n",
              "      <td>188.0</td>\n",
              "      <td>80.0</td>\n",
              "      <td>32</td>\n",
              "    </tr>\n",
              "    <tr>\n",
              "      <th>2</th>\n",
              "      <td>Holmes</td>\n",
              "      <td>Trujillo</td>\n",
              "      <td>180.0</td>\n",
              "      <td>78.0</td>\n",
              "      <td>68</td>\n",
              "    </tr>\n",
              "    <tr>\n",
              "      <th>3</th>\n",
              "      <td>Mario</td>\n",
              "      <td>Yepes</td>\n",
              "      <td>186.0</td>\n",
              "      <td>83.0</td>\n",
              "      <td>44</td>\n",
              "    </tr>\n",
              "    <tr>\n",
              "      <th>4</th>\n",
              "      <td>Norma</td>\n",
              "      <td>Bustamante</td>\n",
              "      <td>165.0</td>\n",
              "      <td>61.0</td>\n",
              "      <td>36</td>\n",
              "    </tr>\n",
              "    <tr>\n",
              "      <th>5</th>\n",
              "      <td>Adrien</td>\n",
              "      <td>Brody</td>\n",
              "      <td>185.0</td>\n",
              "      <td>78.0</td>\n",
              "      <td>46</td>\n",
              "    </tr>\n",
              "    <tr>\n",
              "      <th>6</th>\n",
              "      <td>Stephanie</td>\n",
              "      <td>Cayo</td>\n",
              "      <td>168.0</td>\n",
              "      <td>53.0</td>\n",
              "      <td>31</td>\n",
              "    </tr>\n",
              "  </tbody>\n",
              "</table>\n",
              "</div>"
            ],
            "text/plain": [
              "      Nombre    Apellido  Altura  Peso  Edad\n",
              "1      Maria   Sharapova   188.0  80.0    32\n",
              "2     Holmes    Trujillo   180.0  78.0    68\n",
              "3      Mario       Yepes   186.0  83.0    44\n",
              "4      Norma  Bustamante   165.0  61.0    36\n",
              "5     Adrien       Brody   185.0  78.0    46\n",
              "6  Stephanie        Cayo   168.0  53.0    31"
            ]
          },
          "metadata": {
            "tags": []
          },
          "execution_count": 31
        }
      ]
    },
    {
      "cell_type": "markdown",
      "metadata": {
        "id": "uXAknHeMxikq"
      },
      "source": [
        "Es posible seleccionar una sola columna del dataframe"
      ]
    },
    {
      "cell_type": "code",
      "metadata": {
        "id": "46rZKJlixs8N",
        "colab": {
          "base_uri": "https://localhost:8080/",
          "height": 136
        },
        "outputId": "452edb40-c6e4-4aa5-c609-1d9852a2252e"
      },
      "source": [
        "df_cli[\"Peso\"]"
      ],
      "execution_count": null,
      "outputs": [
        {
          "output_type": "execute_result",
          "data": {
            "text/plain": [
              "1    80.0\n",
              "2    78.0\n",
              "3    83.0\n",
              "4    61.0\n",
              "5    78.0\n",
              "6    60.0\n",
              "Name: Peso, dtype: float64"
            ]
          },
          "metadata": {
            "tags": []
          },
          "execution_count": 25
        }
      ]
    },
    {
      "cell_type": "markdown",
      "metadata": {
        "id": "C5ET8Xhox4B-"
      },
      "source": [
        "También es posible agregar una columna nueva"
      ]
    },
    {
      "cell_type": "code",
      "metadata": {
        "id": "Hrfv_5JLx8Mo",
        "colab": {
          "base_uri": "https://localhost:8080/",
          "height": 235
        },
        "outputId": "f333172c-3147-44ee-c418-aa466458cfc9"
      },
      "source": [
        "df_cli['IMC'] = df_cli['Peso'] / (df_cli['Altura'] ** 2) * 100\n",
        "df_cli"
      ],
      "execution_count": null,
      "outputs": [
        {
          "output_type": "execute_result",
          "data": {
            "text/html": [
              "<div>\n",
              "<style scoped>\n",
              "    .dataframe tbody tr th:only-of-type {\n",
              "        vertical-align: middle;\n",
              "    }\n",
              "\n",
              "    .dataframe tbody tr th {\n",
              "        vertical-align: top;\n",
              "    }\n",
              "\n",
              "    .dataframe thead th {\n",
              "        text-align: right;\n",
              "    }\n",
              "</style>\n",
              "<table border=\"1\" class=\"dataframe\">\n",
              "  <thead>\n",
              "    <tr style=\"text-align: right;\">\n",
              "      <th></th>\n",
              "      <th>Nombre</th>\n",
              "      <th>Apellido</th>\n",
              "      <th>Altura</th>\n",
              "      <th>Peso</th>\n",
              "      <th>Edad</th>\n",
              "      <th>IMC</th>\n",
              "    </tr>\n",
              "  </thead>\n",
              "  <tbody>\n",
              "    <tr>\n",
              "      <th>1</th>\n",
              "      <td>Maria</td>\n",
              "      <td>Sharapova</td>\n",
              "      <td>188.0</td>\n",
              "      <td>80.0</td>\n",
              "      <td>32</td>\n",
              "      <td>0.226347</td>\n",
              "    </tr>\n",
              "    <tr>\n",
              "      <th>2</th>\n",
              "      <td>Holmes</td>\n",
              "      <td>Trujillo</td>\n",
              "      <td>180.0</td>\n",
              "      <td>78.0</td>\n",
              "      <td>68</td>\n",
              "      <td>0.240741</td>\n",
              "    </tr>\n",
              "    <tr>\n",
              "      <th>3</th>\n",
              "      <td>Mario</td>\n",
              "      <td>Yepes</td>\n",
              "      <td>186.0</td>\n",
              "      <td>83.0</td>\n",
              "      <td>44</td>\n",
              "      <td>0.239912</td>\n",
              "    </tr>\n",
              "    <tr>\n",
              "      <th>4</th>\n",
              "      <td>Norma</td>\n",
              "      <td>Bustamante</td>\n",
              "      <td>165.0</td>\n",
              "      <td>61.0</td>\n",
              "      <td>36</td>\n",
              "      <td>0.224059</td>\n",
              "    </tr>\n",
              "    <tr>\n",
              "      <th>5</th>\n",
              "      <td>Adrien</td>\n",
              "      <td>Brody</td>\n",
              "      <td>185.0</td>\n",
              "      <td>78.0</td>\n",
              "      <td>46</td>\n",
              "      <td>0.227904</td>\n",
              "    </tr>\n",
              "    <tr>\n",
              "      <th>6</th>\n",
              "      <td>Stephanie</td>\n",
              "      <td>Cayo</td>\n",
              "      <td>168.0</td>\n",
              "      <td>53.0</td>\n",
              "      <td>31</td>\n",
              "      <td>0.187783</td>\n",
              "    </tr>\n",
              "  </tbody>\n",
              "</table>\n",
              "</div>"
            ],
            "text/plain": [
              "      Nombre    Apellido  Altura  Peso  Edad       IMC\n",
              "1      Maria   Sharapova   188.0  80.0    32  0.226347\n",
              "2     Holmes    Trujillo   180.0  78.0    68  0.240741\n",
              "3      Mario       Yepes   186.0  83.0    44  0.239912\n",
              "4      Norma  Bustamante   165.0  61.0    36  0.224059\n",
              "5     Adrien       Brody   185.0  78.0    46  0.227904\n",
              "6  Stephanie        Cayo   168.0  53.0    31  0.187783"
            ]
          },
          "metadata": {
            "tags": []
          },
          "execution_count": 32
        }
      ]
    },
    {
      "cell_type": "markdown",
      "metadata": {
        "id": "B2QLkPAU0Bgg"
      },
      "source": [
        "Si se desea eliminar una columna"
      ]
    },
    {
      "cell_type": "code",
      "metadata": {
        "id": "WQrtJFUEz89Z",
        "colab": {
          "base_uri": "https://localhost:8080/",
          "height": 235
        },
        "outputId": "4d7ac8f2-efa0-44cc-9d98-e4a878a1c30c"
      },
      "source": [
        "df_cli.drop('IMC',axis=1)"
      ],
      "execution_count": null,
      "outputs": [
        {
          "output_type": "execute_result",
          "data": {
            "text/html": [
              "<div>\n",
              "<style scoped>\n",
              "    .dataframe tbody tr th:only-of-type {\n",
              "        vertical-align: middle;\n",
              "    }\n",
              "\n",
              "    .dataframe tbody tr th {\n",
              "        vertical-align: top;\n",
              "    }\n",
              "\n",
              "    .dataframe thead th {\n",
              "        text-align: right;\n",
              "    }\n",
              "</style>\n",
              "<table border=\"1\" class=\"dataframe\">\n",
              "  <thead>\n",
              "    <tr style=\"text-align: right;\">\n",
              "      <th></th>\n",
              "      <th>Nombre</th>\n",
              "      <th>Apellido</th>\n",
              "      <th>Altura</th>\n",
              "      <th>Peso</th>\n",
              "      <th>Edad</th>\n",
              "    </tr>\n",
              "  </thead>\n",
              "  <tbody>\n",
              "    <tr>\n",
              "      <th>1</th>\n",
              "      <td>Maria</td>\n",
              "      <td>Sharapova</td>\n",
              "      <td>188.0</td>\n",
              "      <td>80.0</td>\n",
              "      <td>32</td>\n",
              "    </tr>\n",
              "    <tr>\n",
              "      <th>2</th>\n",
              "      <td>Holmes</td>\n",
              "      <td>Trujillo</td>\n",
              "      <td>180.0</td>\n",
              "      <td>78.0</td>\n",
              "      <td>68</td>\n",
              "    </tr>\n",
              "    <tr>\n",
              "      <th>3</th>\n",
              "      <td>Mario</td>\n",
              "      <td>Yepes</td>\n",
              "      <td>186.0</td>\n",
              "      <td>83.0</td>\n",
              "      <td>44</td>\n",
              "    </tr>\n",
              "    <tr>\n",
              "      <th>4</th>\n",
              "      <td>Norma</td>\n",
              "      <td>Bustamante</td>\n",
              "      <td>165.0</td>\n",
              "      <td>61.0</td>\n",
              "      <td>36</td>\n",
              "    </tr>\n",
              "    <tr>\n",
              "      <th>5</th>\n",
              "      <td>Adrien</td>\n",
              "      <td>Brody</td>\n",
              "      <td>185.0</td>\n",
              "      <td>78.0</td>\n",
              "      <td>46</td>\n",
              "    </tr>\n",
              "    <tr>\n",
              "      <th>6</th>\n",
              "      <td>Adriana</td>\n",
              "      <td>Lima</td>\n",
              "      <td>178.0</td>\n",
              "      <td>60.0</td>\n",
              "      <td>38</td>\n",
              "    </tr>\n",
              "  </tbody>\n",
              "</table>\n",
              "</div>"
            ],
            "text/plain": [
              "    Nombre    Apellido  Altura  Peso  Edad\n",
              "1    Maria   Sharapova   188.0  80.0    32\n",
              "2   Holmes    Trujillo   180.0  78.0    68\n",
              "3    Mario       Yepes   186.0  83.0    44\n",
              "4    Norma  Bustamante   165.0  61.0    36\n",
              "5   Adrien       Brody   185.0  78.0    46\n",
              "6  Adriana        Lima   178.0  60.0    38"
            ]
          },
          "metadata": {
            "tags": []
          },
          "execution_count": 110
        }
      ]
    },
    {
      "cell_type": "markdown",
      "metadata": {
        "id": "FrS168_G3Sej"
      },
      "source": [
        "### **Manipulación Data Frames**\n",
        "\n"
      ]
    },
    {
      "cell_type": "markdown",
      "metadata": {
        "id": "legXmee75KyZ"
      },
      "source": [
        "**Combinaciones entre Data Frames:** Hay tres tipos:\n",
        "\n",
        "\n",
        "*   Concatenar (Concat)\n",
        "*   Fusionar (merge)\n",
        "*   Unir (join)\n",
        "\n",
        "\n",
        "\n"
      ]
    },
    {
      "cell_type": "code",
      "metadata": {
        "id": "fsS334oB7UHx",
        "colab": {
          "base_uri": "https://localhost:8080/",
          "height": 204
        },
        "outputId": "7406fa0e-e853-4c29-f4e1-bba886c8544a"
      },
      "source": [
        "dict_caracteristicas1 = {'Nombre':['Enrique','Alex','Juan','Isabel','Eiza'],\n",
        "      'Apellido':['Peña', 'Morgan', 'Londoño', 'Allende', 'Gonzalez'],\n",
        "                        'Altura':[172.0,170.0,177.0,163.0,173.0],\n",
        "                        'Peso':[70.0,62.0,73.0,55.0,58.0],\n",
        "                        'Edad':[53,30,26,77,30]}\n",
        "df_cli1=pd.DataFrame(dict_caracteristicas1,index=[7,8,9,10,11])    \n",
        "df_cli1  "
      ],
      "execution_count": null,
      "outputs": [
        {
          "output_type": "execute_result",
          "data": {
            "text/html": [
              "<div>\n",
              "<style scoped>\n",
              "    .dataframe tbody tr th:only-of-type {\n",
              "        vertical-align: middle;\n",
              "    }\n",
              "\n",
              "    .dataframe tbody tr th {\n",
              "        vertical-align: top;\n",
              "    }\n",
              "\n",
              "    .dataframe thead th {\n",
              "        text-align: right;\n",
              "    }\n",
              "</style>\n",
              "<table border=\"1\" class=\"dataframe\">\n",
              "  <thead>\n",
              "    <tr style=\"text-align: right;\">\n",
              "      <th></th>\n",
              "      <th>Nombre</th>\n",
              "      <th>Apellido</th>\n",
              "      <th>Altura</th>\n",
              "      <th>Peso</th>\n",
              "      <th>Edad</th>\n",
              "    </tr>\n",
              "  </thead>\n",
              "  <tbody>\n",
              "    <tr>\n",
              "      <th>7</th>\n",
              "      <td>Enrique</td>\n",
              "      <td>Peña</td>\n",
              "      <td>172.0</td>\n",
              "      <td>70.0</td>\n",
              "      <td>53</td>\n",
              "    </tr>\n",
              "    <tr>\n",
              "      <th>8</th>\n",
              "      <td>Alex</td>\n",
              "      <td>Morgan</td>\n",
              "      <td>170.0</td>\n",
              "      <td>62.0</td>\n",
              "      <td>30</td>\n",
              "    </tr>\n",
              "    <tr>\n",
              "      <th>9</th>\n",
              "      <td>Juan</td>\n",
              "      <td>Londoño</td>\n",
              "      <td>177.0</td>\n",
              "      <td>73.0</td>\n",
              "      <td>26</td>\n",
              "    </tr>\n",
              "    <tr>\n",
              "      <th>10</th>\n",
              "      <td>Isabel</td>\n",
              "      <td>Allende</td>\n",
              "      <td>163.0</td>\n",
              "      <td>55.0</td>\n",
              "      <td>77</td>\n",
              "    </tr>\n",
              "    <tr>\n",
              "      <th>11</th>\n",
              "      <td>Eiza</td>\n",
              "      <td>Gonzalez</td>\n",
              "      <td>173.0</td>\n",
              "      <td>58.0</td>\n",
              "      <td>30</td>\n",
              "    </tr>\n",
              "  </tbody>\n",
              "</table>\n",
              "</div>"
            ],
            "text/plain": [
              "     Nombre  Apellido  Altura  Peso  Edad\n",
              "7   Enrique      Peña   172.0  70.0    53\n",
              "8      Alex    Morgan   170.0  62.0    30\n",
              "9      Juan   Londoño   177.0  73.0    26\n",
              "10   Isabel   Allende   163.0  55.0    77\n",
              "11     Eiza  Gonzalez   173.0  58.0    30"
            ]
          },
          "metadata": {
            "tags": []
          },
          "execution_count": 33
        }
      ]
    },
    {
      "cell_type": "markdown",
      "metadata": {
        "id": "XMQxcEx0Dheh"
      },
      "source": [
        "**Concatenar**"
      ]
    },
    {
      "cell_type": "code",
      "metadata": {
        "id": "hIGxsAwTDkbN",
        "colab": {
          "base_uri": "https://localhost:8080/",
          "height": 390
        },
        "outputId": "4cd98293-7628-4174-a1f7-51cce2e4a22a"
      },
      "source": [
        "pd.concat([df_cli,df_cli1])"
      ],
      "execution_count": null,
      "outputs": [
        {
          "output_type": "execute_result",
          "data": {
            "text/html": [
              "<div>\n",
              "<style scoped>\n",
              "    .dataframe tbody tr th:only-of-type {\n",
              "        vertical-align: middle;\n",
              "    }\n",
              "\n",
              "    .dataframe tbody tr th {\n",
              "        vertical-align: top;\n",
              "    }\n",
              "\n",
              "    .dataframe thead th {\n",
              "        text-align: right;\n",
              "    }\n",
              "</style>\n",
              "<table border=\"1\" class=\"dataframe\">\n",
              "  <thead>\n",
              "    <tr style=\"text-align: right;\">\n",
              "      <th></th>\n",
              "      <th>Nombre</th>\n",
              "      <th>Apellido</th>\n",
              "      <th>Altura</th>\n",
              "      <th>Peso</th>\n",
              "      <th>Edad</th>\n",
              "    </tr>\n",
              "  </thead>\n",
              "  <tbody>\n",
              "    <tr>\n",
              "      <th>1</th>\n",
              "      <td>Maria</td>\n",
              "      <td>Sharapova</td>\n",
              "      <td>188.0</td>\n",
              "      <td>80.0</td>\n",
              "      <td>32</td>\n",
              "    </tr>\n",
              "    <tr>\n",
              "      <th>2</th>\n",
              "      <td>Holmes</td>\n",
              "      <td>Trujillo</td>\n",
              "      <td>180.0</td>\n",
              "      <td>78.0</td>\n",
              "      <td>68</td>\n",
              "    </tr>\n",
              "    <tr>\n",
              "      <th>3</th>\n",
              "      <td>Mario</td>\n",
              "      <td>Yepes</td>\n",
              "      <td>186.0</td>\n",
              "      <td>83.0</td>\n",
              "      <td>44</td>\n",
              "    </tr>\n",
              "    <tr>\n",
              "      <th>4</th>\n",
              "      <td>Norma</td>\n",
              "      <td>Bustamante</td>\n",
              "      <td>165.0</td>\n",
              "      <td>61.0</td>\n",
              "      <td>36</td>\n",
              "    </tr>\n",
              "    <tr>\n",
              "      <th>5</th>\n",
              "      <td>Adrien</td>\n",
              "      <td>Brody</td>\n",
              "      <td>185.0</td>\n",
              "      <td>78.0</td>\n",
              "      <td>46</td>\n",
              "    </tr>\n",
              "    <tr>\n",
              "      <th>6</th>\n",
              "      <td>Stephanie</td>\n",
              "      <td>Cayo</td>\n",
              "      <td>168.0</td>\n",
              "      <td>53.0</td>\n",
              "      <td>31</td>\n",
              "    </tr>\n",
              "    <tr>\n",
              "      <th>7</th>\n",
              "      <td>Enrique</td>\n",
              "      <td>Peña</td>\n",
              "      <td>172.0</td>\n",
              "      <td>70.0</td>\n",
              "      <td>53</td>\n",
              "    </tr>\n",
              "    <tr>\n",
              "      <th>8</th>\n",
              "      <td>Alex</td>\n",
              "      <td>Morgan</td>\n",
              "      <td>170.0</td>\n",
              "      <td>62.0</td>\n",
              "      <td>30</td>\n",
              "    </tr>\n",
              "    <tr>\n",
              "      <th>9</th>\n",
              "      <td>Juan</td>\n",
              "      <td>Londoño</td>\n",
              "      <td>177.0</td>\n",
              "      <td>73.0</td>\n",
              "      <td>26</td>\n",
              "    </tr>\n",
              "    <tr>\n",
              "      <th>10</th>\n",
              "      <td>Isabel</td>\n",
              "      <td>Allende</td>\n",
              "      <td>163.0</td>\n",
              "      <td>55.0</td>\n",
              "      <td>77</td>\n",
              "    </tr>\n",
              "    <tr>\n",
              "      <th>11</th>\n",
              "      <td>Eiza</td>\n",
              "      <td>Gonzalez</td>\n",
              "      <td>173.0</td>\n",
              "      <td>58.0</td>\n",
              "      <td>30</td>\n",
              "    </tr>\n",
              "  </tbody>\n",
              "</table>\n",
              "</div>"
            ],
            "text/plain": [
              "       Nombre    Apellido  Altura  Peso  Edad\n",
              "1       Maria   Sharapova   188.0  80.0    32\n",
              "2      Holmes    Trujillo   180.0  78.0    68\n",
              "3       Mario       Yepes   186.0  83.0    44\n",
              "4       Norma  Bustamante   165.0  61.0    36\n",
              "5      Adrien       Brody   185.0  78.0    46\n",
              "6   Stephanie        Cayo   168.0  53.0    31\n",
              "7     Enrique        Peña   172.0  70.0    53\n",
              "8        Alex      Morgan   170.0  62.0    30\n",
              "9        Juan     Londoño   177.0  73.0    26\n",
              "10     Isabel     Allende   163.0  55.0    77\n",
              "11       Eiza    Gonzalez   173.0  58.0    30"
            ]
          },
          "metadata": {
            "tags": []
          },
          "execution_count": 27
        }
      ]
    },
    {
      "cell_type": "markdown",
      "metadata": {
        "id": "KP-hZPS_E1n1"
      },
      "source": [
        "**Fusionar**"
      ]
    },
    {
      "cell_type": "code",
      "metadata": {
        "id": "1bg2ysmVE4GJ",
        "colab": {
          "base_uri": "https://localhost:8080/",
          "height": 187
        },
        "outputId": "5a50effb-3079-46dc-be12-8d1ccf3d4cee"
      },
      "source": [
        "izq = pd.DataFrame({'key1': ['K0', 'K0', 'K1', 'K2'],\n",
        "                     'key2': ['K0', 'K1', 'K0', 'K1'],\n",
        "                        'A': ['A0', 'A1', 'A2', 'A3'],\n",
        "                        'B': ['B0', 'B1', 'B2', 'B3']})\n",
        "    \n",
        "der = pd.DataFrame({'key1': ['K0', 'K1', 'K1', 'K2'],\n",
        "                               'key2': ['K0', 'K0', 'K0', 'K0'],\n",
        "                                  'C': ['C0', 'C1', 'C2', 'C3'],\n",
        "                                  'D': ['D0', 'D1', 'D2', 'D3']})\n",
        "print(izq)\n",
        "print(der)"
      ],
      "execution_count": null,
      "outputs": [
        {
          "output_type": "stream",
          "text": [
            "  key1 key2   A   B\n",
            "0   K0   K0  A0  B0\n",
            "1   K0   K1  A1  B1\n",
            "2   K1   K0  A2  B2\n",
            "3   K2   K1  A3  B3\n",
            "  key1 key2   C   D\n",
            "0   K0   K0  C0  D0\n",
            "1   K1   K0  C1  D1\n",
            "2   K1   K0  C2  D2\n",
            "3   K2   K0  C3  D3\n"
          ],
          "name": "stdout"
        }
      ]
    },
    {
      "cell_type": "code",
      "metadata": {
        "id": "91OmIXbaILLJ",
        "colab": {
          "base_uri": "https://localhost:8080/",
          "height": 142
        },
        "outputId": "2c4c9ef8-f7a0-4a67-9c1c-ddc16b0116f6"
      },
      "source": [
        "pd.merge(izq, der, on=['key1','key2'])"
      ],
      "execution_count": null,
      "outputs": [
        {
          "output_type": "execute_result",
          "data": {
            "text/html": [
              "<div>\n",
              "<style scoped>\n",
              "    .dataframe tbody tr th:only-of-type {\n",
              "        vertical-align: middle;\n",
              "    }\n",
              "\n",
              "    .dataframe tbody tr th {\n",
              "        vertical-align: top;\n",
              "    }\n",
              "\n",
              "    .dataframe thead th {\n",
              "        text-align: right;\n",
              "    }\n",
              "</style>\n",
              "<table border=\"1\" class=\"dataframe\">\n",
              "  <thead>\n",
              "    <tr style=\"text-align: right;\">\n",
              "      <th></th>\n",
              "      <th>key1</th>\n",
              "      <th>key2</th>\n",
              "      <th>A</th>\n",
              "      <th>B</th>\n",
              "      <th>C</th>\n",
              "      <th>D</th>\n",
              "    </tr>\n",
              "  </thead>\n",
              "  <tbody>\n",
              "    <tr>\n",
              "      <th>0</th>\n",
              "      <td>K0</td>\n",
              "      <td>K0</td>\n",
              "      <td>A0</td>\n",
              "      <td>B0</td>\n",
              "      <td>C0</td>\n",
              "      <td>D0</td>\n",
              "    </tr>\n",
              "    <tr>\n",
              "      <th>1</th>\n",
              "      <td>K1</td>\n",
              "      <td>K0</td>\n",
              "      <td>A2</td>\n",
              "      <td>B2</td>\n",
              "      <td>C1</td>\n",
              "      <td>D1</td>\n",
              "    </tr>\n",
              "    <tr>\n",
              "      <th>2</th>\n",
              "      <td>K1</td>\n",
              "      <td>K0</td>\n",
              "      <td>A2</td>\n",
              "      <td>B2</td>\n",
              "      <td>C2</td>\n",
              "      <td>D2</td>\n",
              "    </tr>\n",
              "  </tbody>\n",
              "</table>\n",
              "</div>"
            ],
            "text/plain": [
              "  key1 key2   A   B   C   D\n",
              "0   K0   K0  A0  B0  C0  D0\n",
              "1   K1   K0  A2  B2  C1  D1\n",
              "2   K1   K0  A2  B2  C2  D2"
            ]
          },
          "metadata": {
            "tags": []
          },
          "execution_count": 78
        }
      ]
    },
    {
      "cell_type": "markdown",
      "metadata": {
        "id": "4uCdRcGCNLjM"
      },
      "source": [
        "Existen diferentes opciones de fusionar dataframes por medio del argumento \"*how*\":\n",
        "\n",
        "```\n",
        "PANDAS    SQL                    DESCRIPCIÓN\n",
        "inner    INNER JOIN            Usa la intersection de las llaves de ambos dataframes * Por defecto\n",
        "left    LEFT OUTER JOIN        Sólo usa las llaves del dataframe izquierdo\n",
        "right    RIGHT OUTER JOIN    Sólo usa las llaves del dataframe derecho \n",
        "outer    FULL OUTER JOIN        Usa la unión de las llaves de ambos dataframes\n",
        "```\n",
        "\n"
      ]
    },
    {
      "cell_type": "markdown",
      "metadata": {
        "id": "wbb1htKlKv-X"
      },
      "source": [
        "\n",
        "<img src=\"https://drive.google.com/uc?id=1qreqXX13v5sIhOkYD-iQ8agmIDn2-Wn-\" width=\"400\" align=\"center\"/>"
      ]
    },
    {
      "cell_type": "code",
      "metadata": {
        "id": "9EaxuMjdLxYo",
        "colab": {
          "base_uri": "https://localhost:8080/",
          "height": 235
        },
        "outputId": "72824cc0-2229-4709-c2c3-3f5af258f101"
      },
      "source": [
        "  pd.merge(izq, der, how='outer', on=['key1', 'key2'])"
      ],
      "execution_count": null,
      "outputs": [
        {
          "output_type": "execute_result",
          "data": {
            "text/html": [
              "<div>\n",
              "<style scoped>\n",
              "    .dataframe tbody tr th:only-of-type {\n",
              "        vertical-align: middle;\n",
              "    }\n",
              "\n",
              "    .dataframe tbody tr th {\n",
              "        vertical-align: top;\n",
              "    }\n",
              "\n",
              "    .dataframe thead th {\n",
              "        text-align: right;\n",
              "    }\n",
              "</style>\n",
              "<table border=\"1\" class=\"dataframe\">\n",
              "  <thead>\n",
              "    <tr style=\"text-align: right;\">\n",
              "      <th></th>\n",
              "      <th>key1</th>\n",
              "      <th>key2</th>\n",
              "      <th>A</th>\n",
              "      <th>B</th>\n",
              "      <th>C</th>\n",
              "      <th>D</th>\n",
              "    </tr>\n",
              "  </thead>\n",
              "  <tbody>\n",
              "    <tr>\n",
              "      <th>0</th>\n",
              "      <td>K0</td>\n",
              "      <td>K0</td>\n",
              "      <td>A0</td>\n",
              "      <td>B0</td>\n",
              "      <td>C0</td>\n",
              "      <td>D0</td>\n",
              "    </tr>\n",
              "    <tr>\n",
              "      <th>1</th>\n",
              "      <td>K0</td>\n",
              "      <td>K1</td>\n",
              "      <td>A1</td>\n",
              "      <td>B1</td>\n",
              "      <td>NaN</td>\n",
              "      <td>NaN</td>\n",
              "    </tr>\n",
              "    <tr>\n",
              "      <th>2</th>\n",
              "      <td>K1</td>\n",
              "      <td>K0</td>\n",
              "      <td>A2</td>\n",
              "      <td>B2</td>\n",
              "      <td>C1</td>\n",
              "      <td>D1</td>\n",
              "    </tr>\n",
              "    <tr>\n",
              "      <th>3</th>\n",
              "      <td>K1</td>\n",
              "      <td>K0</td>\n",
              "      <td>A2</td>\n",
              "      <td>B2</td>\n",
              "      <td>C2</td>\n",
              "      <td>D2</td>\n",
              "    </tr>\n",
              "    <tr>\n",
              "      <th>4</th>\n",
              "      <td>K2</td>\n",
              "      <td>K1</td>\n",
              "      <td>A3</td>\n",
              "      <td>B3</td>\n",
              "      <td>NaN</td>\n",
              "      <td>NaN</td>\n",
              "    </tr>\n",
              "    <tr>\n",
              "      <th>5</th>\n",
              "      <td>K2</td>\n",
              "      <td>K0</td>\n",
              "      <td>NaN</td>\n",
              "      <td>NaN</td>\n",
              "      <td>C3</td>\n",
              "      <td>D3</td>\n",
              "    </tr>\n",
              "  </tbody>\n",
              "</table>\n",
              "</div>"
            ],
            "text/plain": [
              "  key1 key2    A    B    C    D\n",
              "0   K0   K0   A0   B0   C0   D0\n",
              "1   K0   K1   A1   B1  NaN  NaN\n",
              "2   K1   K0   A2   B2   C1   D1\n",
              "3   K1   K0   A2   B2   C2   D2\n",
              "4   K2   K1   A3   B3  NaN  NaN\n",
              "5   K2   K0  NaN  NaN   C3   D3"
            ]
          },
          "metadata": {
            "tags": []
          },
          "execution_count": 79
        }
      ]
    },
    {
      "cell_type": "code",
      "metadata": {
        "id": "dlzWXceZRmfN",
        "colab": {
          "base_uri": "https://localhost:8080/",
          "height": 173
        },
        "outputId": "ec98286a-7e6a-4755-d138-9e1e20a48fdc"
      },
      "source": [
        "pd.merge(izq, der, how='right', on=['key1', 'key2'])"
      ],
      "execution_count": null,
      "outputs": [
        {
          "output_type": "execute_result",
          "data": {
            "text/html": [
              "<div>\n",
              "<style scoped>\n",
              "    .dataframe tbody tr th:only-of-type {\n",
              "        vertical-align: middle;\n",
              "    }\n",
              "\n",
              "    .dataframe tbody tr th {\n",
              "        vertical-align: top;\n",
              "    }\n",
              "\n",
              "    .dataframe thead th {\n",
              "        text-align: right;\n",
              "    }\n",
              "</style>\n",
              "<table border=\"1\" class=\"dataframe\">\n",
              "  <thead>\n",
              "    <tr style=\"text-align: right;\">\n",
              "      <th></th>\n",
              "      <th>key1</th>\n",
              "      <th>key2</th>\n",
              "      <th>A</th>\n",
              "      <th>B</th>\n",
              "      <th>C</th>\n",
              "      <th>D</th>\n",
              "    </tr>\n",
              "  </thead>\n",
              "  <tbody>\n",
              "    <tr>\n",
              "      <th>0</th>\n",
              "      <td>K0</td>\n",
              "      <td>K0</td>\n",
              "      <td>A0</td>\n",
              "      <td>B0</td>\n",
              "      <td>C0</td>\n",
              "      <td>D0</td>\n",
              "    </tr>\n",
              "    <tr>\n",
              "      <th>1</th>\n",
              "      <td>K1</td>\n",
              "      <td>K0</td>\n",
              "      <td>A2</td>\n",
              "      <td>B2</td>\n",
              "      <td>C1</td>\n",
              "      <td>D1</td>\n",
              "    </tr>\n",
              "    <tr>\n",
              "      <th>2</th>\n",
              "      <td>K1</td>\n",
              "      <td>K0</td>\n",
              "      <td>A2</td>\n",
              "      <td>B2</td>\n",
              "      <td>C2</td>\n",
              "      <td>D2</td>\n",
              "    </tr>\n",
              "    <tr>\n",
              "      <th>3</th>\n",
              "      <td>K2</td>\n",
              "      <td>K0</td>\n",
              "      <td>NaN</td>\n",
              "      <td>NaN</td>\n",
              "      <td>C3</td>\n",
              "      <td>D3</td>\n",
              "    </tr>\n",
              "  </tbody>\n",
              "</table>\n",
              "</div>"
            ],
            "text/plain": [
              "  key1 key2    A    B   C   D\n",
              "0   K0   K0   A0   B0  C0  D0\n",
              "1   K1   K0   A2   B2  C1  D1\n",
              "2   K1   K0   A2   B2  C2  D2\n",
              "3   K2   K0  NaN  NaN  C3  D3"
            ]
          },
          "metadata": {
            "tags": []
          },
          "execution_count": 80
        }
      ]
    },
    {
      "cell_type": "markdown",
      "metadata": {
        "id": "39u5D8ugSSgC"
      },
      "source": [
        "**Union**"
      ]
    },
    {
      "cell_type": "code",
      "metadata": {
        "id": "jnCpoYzMSUw9",
        "colab": {
          "base_uri": "https://localhost:8080/",
          "height": 153
        },
        "outputId": "2ea2691c-38f0-4a31-a3f3-fdf39c24e52a"
      },
      "source": [
        "izq = pd.DataFrame({'A': ['A0', 'A1', 'A2'],\n",
        "                     'B': ['B0', 'B1', 'B2']},\n",
        "                      index=['K0', 'K1', 'K2']) \n",
        "\n",
        "der = pd.DataFrame({'C': ['C0', 'C2', 'C3'],\n",
        "                    'D': ['D0', 'D2', 'D3']},\n",
        "                      index=['K0', 'K2', 'K3'])\n",
        "print(izq)\n",
        "print(der)"
      ],
      "execution_count": null,
      "outputs": [
        {
          "output_type": "stream",
          "text": [
            "     A   B\n",
            "K0  A0  B0\n",
            "K1  A1  B1\n",
            "K2  A2  B2\n",
            "     C   D\n",
            "K0  C0  D0\n",
            "K2  C2  D2\n",
            "K3  C3  D3\n"
          ],
          "name": "stdout"
        }
      ]
    },
    {
      "cell_type": "code",
      "metadata": {
        "id": "avaMZzJJW4Tu",
        "colab": {
          "base_uri": "https://localhost:8080/",
          "height": 142
        },
        "outputId": "13e9bd4c-4837-488a-dc2e-21e69d7f0145"
      },
      "source": [
        "izq.join(der)"
      ],
      "execution_count": null,
      "outputs": [
        {
          "output_type": "execute_result",
          "data": {
            "text/html": [
              "<div>\n",
              "<style scoped>\n",
              "    .dataframe tbody tr th:only-of-type {\n",
              "        vertical-align: middle;\n",
              "    }\n",
              "\n",
              "    .dataframe tbody tr th {\n",
              "        vertical-align: top;\n",
              "    }\n",
              "\n",
              "    .dataframe thead th {\n",
              "        text-align: right;\n",
              "    }\n",
              "</style>\n",
              "<table border=\"1\" class=\"dataframe\">\n",
              "  <thead>\n",
              "    <tr style=\"text-align: right;\">\n",
              "      <th></th>\n",
              "      <th>A</th>\n",
              "      <th>B</th>\n",
              "      <th>C</th>\n",
              "      <th>D</th>\n",
              "    </tr>\n",
              "  </thead>\n",
              "  <tbody>\n",
              "    <tr>\n",
              "      <th>K0</th>\n",
              "      <td>A0</td>\n",
              "      <td>B0</td>\n",
              "      <td>C0</td>\n",
              "      <td>D0</td>\n",
              "    </tr>\n",
              "    <tr>\n",
              "      <th>K1</th>\n",
              "      <td>A1</td>\n",
              "      <td>B1</td>\n",
              "      <td>NaN</td>\n",
              "      <td>NaN</td>\n",
              "    </tr>\n",
              "    <tr>\n",
              "      <th>K2</th>\n",
              "      <td>A2</td>\n",
              "      <td>B2</td>\n",
              "      <td>C2</td>\n",
              "      <td>D2</td>\n",
              "    </tr>\n",
              "  </tbody>\n",
              "</table>\n",
              "</div>"
            ],
            "text/plain": [
              "     A   B    C    D\n",
              "K0  A0  B0   C0   D0\n",
              "K1  A1  B1  NaN  NaN\n",
              "K2  A2  B2   C2   D2"
            ]
          },
          "metadata": {
            "tags": []
          },
          "execution_count": 23
        }
      ]
    },
    {
      "cell_type": "code",
      "metadata": {
        "id": "8cVdnclLXCxC",
        "colab": {
          "base_uri": "https://localhost:8080/",
          "height": 173
        },
        "outputId": "8341badd-0043-4cc4-92b6-a69bdbcc336e"
      },
      "source": [
        "izq.join(der, how='outer')"
      ],
      "execution_count": null,
      "outputs": [
        {
          "output_type": "execute_result",
          "data": {
            "text/html": [
              "<div>\n",
              "<style scoped>\n",
              "    .dataframe tbody tr th:only-of-type {\n",
              "        vertical-align: middle;\n",
              "    }\n",
              "\n",
              "    .dataframe tbody tr th {\n",
              "        vertical-align: top;\n",
              "    }\n",
              "\n",
              "    .dataframe thead th {\n",
              "        text-align: right;\n",
              "    }\n",
              "</style>\n",
              "<table border=\"1\" class=\"dataframe\">\n",
              "  <thead>\n",
              "    <tr style=\"text-align: right;\">\n",
              "      <th></th>\n",
              "      <th>A</th>\n",
              "      <th>B</th>\n",
              "      <th>C</th>\n",
              "      <th>D</th>\n",
              "    </tr>\n",
              "  </thead>\n",
              "  <tbody>\n",
              "    <tr>\n",
              "      <th>K0</th>\n",
              "      <td>A0</td>\n",
              "      <td>B0</td>\n",
              "      <td>C0</td>\n",
              "      <td>D0</td>\n",
              "    </tr>\n",
              "    <tr>\n",
              "      <th>K1</th>\n",
              "      <td>A1</td>\n",
              "      <td>B1</td>\n",
              "      <td>NaN</td>\n",
              "      <td>NaN</td>\n",
              "    </tr>\n",
              "    <tr>\n",
              "      <th>K2</th>\n",
              "      <td>A2</td>\n",
              "      <td>B2</td>\n",
              "      <td>C2</td>\n",
              "      <td>D2</td>\n",
              "    </tr>\n",
              "    <tr>\n",
              "      <th>K3</th>\n",
              "      <td>NaN</td>\n",
              "      <td>NaN</td>\n",
              "      <td>C3</td>\n",
              "      <td>D3</td>\n",
              "    </tr>\n",
              "  </tbody>\n",
              "</table>\n",
              "</div>"
            ],
            "text/plain": [
              "      A    B    C    D\n",
              "K0   A0   B0   C0   D0\n",
              "K1   A1   B1  NaN  NaN\n",
              "K2   A2   B2   C2   D2\n",
              "K3  NaN  NaN   C3   D3"
            ]
          },
          "metadata": {
            "tags": []
          },
          "execution_count": 24
        }
      ]
    },
    {
      "cell_type": "markdown",
      "metadata": {
        "id": "7FntNfkDeifT"
      },
      "source": [
        "**Agrupar por**"
      ]
    },
    {
      "cell_type": "code",
      "metadata": {
        "id": "5JoBA02DhXKb"
      },
      "source": [
        "df_cli = df_cli.drop('IMC', axis = 1) #Quitar permanentemente la columna 'IMC'"
      ],
      "execution_count": null,
      "outputs": []
    },
    {
      "cell_type": "code",
      "metadata": {
        "id": "rRJibqouelum",
        "colab": {
          "base_uri": "https://localhost:8080/",
          "height": 390
        },
        "outputId": "17ee9160-3d45-4e61-898e-278b52e392a9"
      },
      "source": [
        "new_df = pd.concat([df_cli,df_cli1])\n",
        "new_df"
      ],
      "execution_count": null,
      "outputs": [
        {
          "output_type": "execute_result",
          "data": {
            "text/html": [
              "<div>\n",
              "<style scoped>\n",
              "    .dataframe tbody tr th:only-of-type {\n",
              "        vertical-align: middle;\n",
              "    }\n",
              "\n",
              "    .dataframe tbody tr th {\n",
              "        vertical-align: top;\n",
              "    }\n",
              "\n",
              "    .dataframe thead th {\n",
              "        text-align: right;\n",
              "    }\n",
              "</style>\n",
              "<table border=\"1\" class=\"dataframe\">\n",
              "  <thead>\n",
              "    <tr style=\"text-align: right;\">\n",
              "      <th></th>\n",
              "      <th>Nombre</th>\n",
              "      <th>Apellido</th>\n",
              "      <th>Altura</th>\n",
              "      <th>Peso</th>\n",
              "      <th>Edad</th>\n",
              "    </tr>\n",
              "  </thead>\n",
              "  <tbody>\n",
              "    <tr>\n",
              "      <th>1</th>\n",
              "      <td>Maria</td>\n",
              "      <td>Sharapova</td>\n",
              "      <td>188.0</td>\n",
              "      <td>80.0</td>\n",
              "      <td>32</td>\n",
              "    </tr>\n",
              "    <tr>\n",
              "      <th>2</th>\n",
              "      <td>Holmes</td>\n",
              "      <td>Trujillo</td>\n",
              "      <td>180.0</td>\n",
              "      <td>78.0</td>\n",
              "      <td>68</td>\n",
              "    </tr>\n",
              "    <tr>\n",
              "      <th>3</th>\n",
              "      <td>Mario</td>\n",
              "      <td>Yepes</td>\n",
              "      <td>186.0</td>\n",
              "      <td>83.0</td>\n",
              "      <td>44</td>\n",
              "    </tr>\n",
              "    <tr>\n",
              "      <th>4</th>\n",
              "      <td>Norma</td>\n",
              "      <td>Bustamante</td>\n",
              "      <td>165.0</td>\n",
              "      <td>61.0</td>\n",
              "      <td>36</td>\n",
              "    </tr>\n",
              "    <tr>\n",
              "      <th>5</th>\n",
              "      <td>Adrien</td>\n",
              "      <td>Brody</td>\n",
              "      <td>185.0</td>\n",
              "      <td>78.0</td>\n",
              "      <td>46</td>\n",
              "    </tr>\n",
              "    <tr>\n",
              "      <th>6</th>\n",
              "      <td>Stephanie</td>\n",
              "      <td>Cayo</td>\n",
              "      <td>168.0</td>\n",
              "      <td>53.0</td>\n",
              "      <td>31</td>\n",
              "    </tr>\n",
              "    <tr>\n",
              "      <th>7</th>\n",
              "      <td>Enrique</td>\n",
              "      <td>Peña</td>\n",
              "      <td>172.0</td>\n",
              "      <td>70.0</td>\n",
              "      <td>53</td>\n",
              "    </tr>\n",
              "    <tr>\n",
              "      <th>8</th>\n",
              "      <td>Alex</td>\n",
              "      <td>Morgan</td>\n",
              "      <td>170.0</td>\n",
              "      <td>62.0</td>\n",
              "      <td>30</td>\n",
              "    </tr>\n",
              "    <tr>\n",
              "      <th>9</th>\n",
              "      <td>Juan</td>\n",
              "      <td>Londoño</td>\n",
              "      <td>177.0</td>\n",
              "      <td>73.0</td>\n",
              "      <td>26</td>\n",
              "    </tr>\n",
              "    <tr>\n",
              "      <th>10</th>\n",
              "      <td>Isabel</td>\n",
              "      <td>Allende</td>\n",
              "      <td>163.0</td>\n",
              "      <td>55.0</td>\n",
              "      <td>77</td>\n",
              "    </tr>\n",
              "    <tr>\n",
              "      <th>11</th>\n",
              "      <td>Eiza</td>\n",
              "      <td>Gonzalez</td>\n",
              "      <td>173.0</td>\n",
              "      <td>58.0</td>\n",
              "      <td>30</td>\n",
              "    </tr>\n",
              "  </tbody>\n",
              "</table>\n",
              "</div>"
            ],
            "text/plain": [
              "       Nombre    Apellido  Altura  Peso  Edad\n",
              "1       Maria   Sharapova   188.0  80.0    32\n",
              "2      Holmes    Trujillo   180.0  78.0    68\n",
              "3       Mario       Yepes   186.0  83.0    44\n",
              "4       Norma  Bustamante   165.0  61.0    36\n",
              "5      Adrien       Brody   185.0  78.0    46\n",
              "6   Stephanie        Cayo   168.0  53.0    31\n",
              "7     Enrique        Peña   172.0  70.0    53\n",
              "8        Alex      Morgan   170.0  62.0    30\n",
              "9        Juan     Londoño   177.0  73.0    26\n",
              "10     Isabel     Allende   163.0  55.0    77\n",
              "11       Eiza    Gonzalez   173.0  58.0    30"
            ]
          },
          "metadata": {
            "tags": []
          },
          "execution_count": 36
        }
      ]
    },
    {
      "cell_type": "code",
      "metadata": {
        "id": "ah3CebB4hhx3",
        "colab": {
          "base_uri": "https://localhost:8080/",
          "height": 390
        },
        "outputId": "1724676b-161f-407f-dc7d-cb37c497d8f4"
      },
      "source": [
        "new_df['Pais']=['Rusia','Colombia','Colombia','Chile','Estados Unidos','Peru','Mexico','Estados Unidos','Colombia','Peru','Mexico']\n",
        "new_df"
      ],
      "execution_count": null,
      "outputs": [
        {
          "output_type": "execute_result",
          "data": {
            "text/html": [
              "<div>\n",
              "<style scoped>\n",
              "    .dataframe tbody tr th:only-of-type {\n",
              "        vertical-align: middle;\n",
              "    }\n",
              "\n",
              "    .dataframe tbody tr th {\n",
              "        vertical-align: top;\n",
              "    }\n",
              "\n",
              "    .dataframe thead th {\n",
              "        text-align: right;\n",
              "    }\n",
              "</style>\n",
              "<table border=\"1\" class=\"dataframe\">\n",
              "  <thead>\n",
              "    <tr style=\"text-align: right;\">\n",
              "      <th></th>\n",
              "      <th>Nombre</th>\n",
              "      <th>Apellido</th>\n",
              "      <th>Altura</th>\n",
              "      <th>Peso</th>\n",
              "      <th>Edad</th>\n",
              "      <th>Pais</th>\n",
              "    </tr>\n",
              "  </thead>\n",
              "  <tbody>\n",
              "    <tr>\n",
              "      <th>1</th>\n",
              "      <td>Maria</td>\n",
              "      <td>Sharapova</td>\n",
              "      <td>188.0</td>\n",
              "      <td>80.0</td>\n",
              "      <td>32</td>\n",
              "      <td>Rusia</td>\n",
              "    </tr>\n",
              "    <tr>\n",
              "      <th>2</th>\n",
              "      <td>Holmes</td>\n",
              "      <td>Trujillo</td>\n",
              "      <td>180.0</td>\n",
              "      <td>78.0</td>\n",
              "      <td>68</td>\n",
              "      <td>Colombia</td>\n",
              "    </tr>\n",
              "    <tr>\n",
              "      <th>3</th>\n",
              "      <td>Mario</td>\n",
              "      <td>Yepes</td>\n",
              "      <td>186.0</td>\n",
              "      <td>83.0</td>\n",
              "      <td>44</td>\n",
              "      <td>Colombia</td>\n",
              "    </tr>\n",
              "    <tr>\n",
              "      <th>4</th>\n",
              "      <td>Norma</td>\n",
              "      <td>Bustamante</td>\n",
              "      <td>165.0</td>\n",
              "      <td>61.0</td>\n",
              "      <td>36</td>\n",
              "      <td>Chile</td>\n",
              "    </tr>\n",
              "    <tr>\n",
              "      <th>5</th>\n",
              "      <td>Adrien</td>\n",
              "      <td>Brody</td>\n",
              "      <td>185.0</td>\n",
              "      <td>78.0</td>\n",
              "      <td>46</td>\n",
              "      <td>Estados Unidos</td>\n",
              "    </tr>\n",
              "    <tr>\n",
              "      <th>6</th>\n",
              "      <td>Stephanie</td>\n",
              "      <td>Cayo</td>\n",
              "      <td>168.0</td>\n",
              "      <td>53.0</td>\n",
              "      <td>31</td>\n",
              "      <td>Peru</td>\n",
              "    </tr>\n",
              "    <tr>\n",
              "      <th>7</th>\n",
              "      <td>Enrique</td>\n",
              "      <td>Peña</td>\n",
              "      <td>172.0</td>\n",
              "      <td>70.0</td>\n",
              "      <td>53</td>\n",
              "      <td>Mexico</td>\n",
              "    </tr>\n",
              "    <tr>\n",
              "      <th>8</th>\n",
              "      <td>Alex</td>\n",
              "      <td>Morgan</td>\n",
              "      <td>170.0</td>\n",
              "      <td>62.0</td>\n",
              "      <td>30</td>\n",
              "      <td>Estados Unidos</td>\n",
              "    </tr>\n",
              "    <tr>\n",
              "      <th>9</th>\n",
              "      <td>Juan</td>\n",
              "      <td>Londoño</td>\n",
              "      <td>177.0</td>\n",
              "      <td>73.0</td>\n",
              "      <td>26</td>\n",
              "      <td>Colombia</td>\n",
              "    </tr>\n",
              "    <tr>\n",
              "      <th>10</th>\n",
              "      <td>Isabel</td>\n",
              "      <td>Allende</td>\n",
              "      <td>163.0</td>\n",
              "      <td>55.0</td>\n",
              "      <td>77</td>\n",
              "      <td>Peru</td>\n",
              "    </tr>\n",
              "    <tr>\n",
              "      <th>11</th>\n",
              "      <td>Eiza</td>\n",
              "      <td>Gonzalez</td>\n",
              "      <td>173.0</td>\n",
              "      <td>58.0</td>\n",
              "      <td>30</td>\n",
              "      <td>Mexico</td>\n",
              "    </tr>\n",
              "  </tbody>\n",
              "</table>\n",
              "</div>"
            ],
            "text/plain": [
              "       Nombre    Apellido  Altura  Peso  Edad            Pais\n",
              "1       Maria   Sharapova   188.0  80.0    32           Rusia\n",
              "2      Holmes    Trujillo   180.0  78.0    68        Colombia\n",
              "3       Mario       Yepes   186.0  83.0    44        Colombia\n",
              "4       Norma  Bustamante   165.0  61.0    36           Chile\n",
              "5      Adrien       Brody   185.0  78.0    46  Estados Unidos\n",
              "6   Stephanie        Cayo   168.0  53.0    31            Peru\n",
              "7     Enrique        Peña   172.0  70.0    53          Mexico\n",
              "8        Alex      Morgan   170.0  62.0    30  Estados Unidos\n",
              "9        Juan     Londoño   177.0  73.0    26        Colombia\n",
              "10     Isabel     Allende   163.0  55.0    77            Peru\n",
              "11       Eiza    Gonzalez   173.0  58.0    30          Mexico"
            ]
          },
          "metadata": {
            "tags": []
          },
          "execution_count": 37
        }
      ]
    },
    {
      "cell_type": "code",
      "metadata": {
        "id": "5Z61vPKrkWm0",
        "colab": {
          "base_uri": "https://localhost:8080/",
          "height": 266
        },
        "outputId": "57119469-1320-4c28-bbb1-a382f6c3aa3b"
      },
      "source": [
        "by_pais=new_df.groupby('Pais')\n",
        "by_pais.mean()"
      ],
      "execution_count": null,
      "outputs": [
        {
          "output_type": "execute_result",
          "data": {
            "text/html": [
              "<div>\n",
              "<style scoped>\n",
              "    .dataframe tbody tr th:only-of-type {\n",
              "        vertical-align: middle;\n",
              "    }\n",
              "\n",
              "    .dataframe tbody tr th {\n",
              "        vertical-align: top;\n",
              "    }\n",
              "\n",
              "    .dataframe thead th {\n",
              "        text-align: right;\n",
              "    }\n",
              "</style>\n",
              "<table border=\"1\" class=\"dataframe\">\n",
              "  <thead>\n",
              "    <tr style=\"text-align: right;\">\n",
              "      <th></th>\n",
              "      <th>Altura</th>\n",
              "      <th>Peso</th>\n",
              "      <th>Edad</th>\n",
              "    </tr>\n",
              "    <tr>\n",
              "      <th>Pais</th>\n",
              "      <th></th>\n",
              "      <th></th>\n",
              "      <th></th>\n",
              "    </tr>\n",
              "  </thead>\n",
              "  <tbody>\n",
              "    <tr>\n",
              "      <th>Chile</th>\n",
              "      <td>165.0</td>\n",
              "      <td>61.0</td>\n",
              "      <td>36.0</td>\n",
              "    </tr>\n",
              "    <tr>\n",
              "      <th>Colombia</th>\n",
              "      <td>181.0</td>\n",
              "      <td>78.0</td>\n",
              "      <td>46.0</td>\n",
              "    </tr>\n",
              "    <tr>\n",
              "      <th>Estados Unidos</th>\n",
              "      <td>177.5</td>\n",
              "      <td>70.0</td>\n",
              "      <td>38.0</td>\n",
              "    </tr>\n",
              "    <tr>\n",
              "      <th>Mexico</th>\n",
              "      <td>172.5</td>\n",
              "      <td>64.0</td>\n",
              "      <td>41.5</td>\n",
              "    </tr>\n",
              "    <tr>\n",
              "      <th>Peru</th>\n",
              "      <td>165.5</td>\n",
              "      <td>54.0</td>\n",
              "      <td>54.0</td>\n",
              "    </tr>\n",
              "    <tr>\n",
              "      <th>Rusia</th>\n",
              "      <td>188.0</td>\n",
              "      <td>80.0</td>\n",
              "      <td>32.0</td>\n",
              "    </tr>\n",
              "  </tbody>\n",
              "</table>\n",
              "</div>"
            ],
            "text/plain": [
              "                Altura  Peso  Edad\n",
              "Pais                              \n",
              "Chile            165.0  61.0  36.0\n",
              "Colombia         181.0  78.0  46.0\n",
              "Estados Unidos   177.5  70.0  38.0\n",
              "Mexico           172.5  64.0  41.5\n",
              "Peru             165.5  54.0  54.0\n",
              "Rusia            188.0  80.0  32.0"
            ]
          },
          "metadata": {
            "tags": []
          },
          "execution_count": 38
        }
      ]
    },
    {
      "cell_type": "code",
      "metadata": {
        "id": "5ZzN68qGl3v9",
        "colab": {
          "base_uri": "https://localhost:8080/",
          "height": 266
        },
        "outputId": "050a2c6c-f0da-49e8-8dee-13d1f7917f85"
      },
      "source": [
        "by_pais.std()"
      ],
      "execution_count": null,
      "outputs": [
        {
          "output_type": "execute_result",
          "data": {
            "text/html": [
              "<div>\n",
              "<style scoped>\n",
              "    .dataframe tbody tr th:only-of-type {\n",
              "        vertical-align: middle;\n",
              "    }\n",
              "\n",
              "    .dataframe tbody tr th {\n",
              "        vertical-align: top;\n",
              "    }\n",
              "\n",
              "    .dataframe thead th {\n",
              "        text-align: right;\n",
              "    }\n",
              "</style>\n",
              "<table border=\"1\" class=\"dataframe\">\n",
              "  <thead>\n",
              "    <tr style=\"text-align: right;\">\n",
              "      <th></th>\n",
              "      <th>Altura</th>\n",
              "      <th>Peso</th>\n",
              "      <th>Edad</th>\n",
              "    </tr>\n",
              "    <tr>\n",
              "      <th>Pais</th>\n",
              "      <th></th>\n",
              "      <th></th>\n",
              "      <th></th>\n",
              "    </tr>\n",
              "  </thead>\n",
              "  <tbody>\n",
              "    <tr>\n",
              "      <th>Chile</th>\n",
              "      <td>NaN</td>\n",
              "      <td>NaN</td>\n",
              "      <td>NaN</td>\n",
              "    </tr>\n",
              "    <tr>\n",
              "      <th>Colombia</th>\n",
              "      <td>4.582576</td>\n",
              "      <td>5.000000</td>\n",
              "      <td>21.071308</td>\n",
              "    </tr>\n",
              "    <tr>\n",
              "      <th>Estados Unidos</th>\n",
              "      <td>10.606602</td>\n",
              "      <td>11.313708</td>\n",
              "      <td>11.313708</td>\n",
              "    </tr>\n",
              "    <tr>\n",
              "      <th>Mexico</th>\n",
              "      <td>0.707107</td>\n",
              "      <td>8.485281</td>\n",
              "      <td>16.263456</td>\n",
              "    </tr>\n",
              "    <tr>\n",
              "      <th>Peru</th>\n",
              "      <td>3.535534</td>\n",
              "      <td>1.414214</td>\n",
              "      <td>32.526912</td>\n",
              "    </tr>\n",
              "    <tr>\n",
              "      <th>Rusia</th>\n",
              "      <td>NaN</td>\n",
              "      <td>NaN</td>\n",
              "      <td>NaN</td>\n",
              "    </tr>\n",
              "  </tbody>\n",
              "</table>\n",
              "</div>"
            ],
            "text/plain": [
              "                   Altura       Peso       Edad\n",
              "Pais                                           \n",
              "Chile                 NaN        NaN        NaN\n",
              "Colombia         4.582576   5.000000  21.071308\n",
              "Estados Unidos  10.606602  11.313708  11.313708\n",
              "Mexico           0.707107   8.485281  16.263456\n",
              "Peru             3.535534   1.414214  32.526912\n",
              "Rusia                 NaN        NaN        NaN"
            ]
          },
          "metadata": {
            "tags": []
          },
          "execution_count": 39
        }
      ]
    },
    {
      "cell_type": "code",
      "metadata": {
        "id": "cPdtS3fKmPLM",
        "colab": {
          "base_uri": "https://localhost:8080/",
          "height": 266
        },
        "outputId": "e7d13b6d-0792-46bd-aa65-4c80a54c7a67"
      },
      "source": [
        "by_pais.count()"
      ],
      "execution_count": null,
      "outputs": [
        {
          "output_type": "execute_result",
          "data": {
            "text/html": [
              "<div>\n",
              "<style scoped>\n",
              "    .dataframe tbody tr th:only-of-type {\n",
              "        vertical-align: middle;\n",
              "    }\n",
              "\n",
              "    .dataframe tbody tr th {\n",
              "        vertical-align: top;\n",
              "    }\n",
              "\n",
              "    .dataframe thead th {\n",
              "        text-align: right;\n",
              "    }\n",
              "</style>\n",
              "<table border=\"1\" class=\"dataframe\">\n",
              "  <thead>\n",
              "    <tr style=\"text-align: right;\">\n",
              "      <th></th>\n",
              "      <th>Nombre</th>\n",
              "      <th>Apellido</th>\n",
              "      <th>Altura</th>\n",
              "      <th>Peso</th>\n",
              "      <th>Edad</th>\n",
              "    </tr>\n",
              "    <tr>\n",
              "      <th>Pais</th>\n",
              "      <th></th>\n",
              "      <th></th>\n",
              "      <th></th>\n",
              "      <th></th>\n",
              "      <th></th>\n",
              "    </tr>\n",
              "  </thead>\n",
              "  <tbody>\n",
              "    <tr>\n",
              "      <th>Chile</th>\n",
              "      <td>1</td>\n",
              "      <td>1</td>\n",
              "      <td>1</td>\n",
              "      <td>1</td>\n",
              "      <td>1</td>\n",
              "    </tr>\n",
              "    <tr>\n",
              "      <th>Colombia</th>\n",
              "      <td>3</td>\n",
              "      <td>3</td>\n",
              "      <td>3</td>\n",
              "      <td>3</td>\n",
              "      <td>3</td>\n",
              "    </tr>\n",
              "    <tr>\n",
              "      <th>Estados Unidos</th>\n",
              "      <td>2</td>\n",
              "      <td>2</td>\n",
              "      <td>2</td>\n",
              "      <td>2</td>\n",
              "      <td>2</td>\n",
              "    </tr>\n",
              "    <tr>\n",
              "      <th>Mexico</th>\n",
              "      <td>2</td>\n",
              "      <td>2</td>\n",
              "      <td>2</td>\n",
              "      <td>2</td>\n",
              "      <td>2</td>\n",
              "    </tr>\n",
              "    <tr>\n",
              "      <th>Peru</th>\n",
              "      <td>2</td>\n",
              "      <td>2</td>\n",
              "      <td>2</td>\n",
              "      <td>2</td>\n",
              "      <td>2</td>\n",
              "    </tr>\n",
              "    <tr>\n",
              "      <th>Rusia</th>\n",
              "      <td>1</td>\n",
              "      <td>1</td>\n",
              "      <td>1</td>\n",
              "      <td>1</td>\n",
              "      <td>1</td>\n",
              "    </tr>\n",
              "  </tbody>\n",
              "</table>\n",
              "</div>"
            ],
            "text/plain": [
              "                Nombre  Apellido  Altura  Peso  Edad\n",
              "Pais                                                \n",
              "Chile                1         1       1     1     1\n",
              "Colombia             3         3       3     3     3\n",
              "Estados Unidos       2         2       2     2     2\n",
              "Mexico               2         2       2     2     2\n",
              "Peru                 2         2       2     2     2\n",
              "Rusia                1         1       1     1     1"
            ]
          },
          "metadata": {
            "tags": []
          },
          "execution_count": 40
        }
      ]
    },
    {
      "cell_type": "code",
      "metadata": {
        "id": "0IDyOOO8mhgQ",
        "colab": {
          "base_uri": "https://localhost:8080/",
          "height": 266
        },
        "outputId": "c2ef7d8e-339f-4f24-ecbd-5bd47ceb982c"
      },
      "source": [
        "by_pais.max()"
      ],
      "execution_count": null,
      "outputs": [
        {
          "output_type": "execute_result",
          "data": {
            "text/html": [
              "<div>\n",
              "<style scoped>\n",
              "    .dataframe tbody tr th:only-of-type {\n",
              "        vertical-align: middle;\n",
              "    }\n",
              "\n",
              "    .dataframe tbody tr th {\n",
              "        vertical-align: top;\n",
              "    }\n",
              "\n",
              "    .dataframe thead th {\n",
              "        text-align: right;\n",
              "    }\n",
              "</style>\n",
              "<table border=\"1\" class=\"dataframe\">\n",
              "  <thead>\n",
              "    <tr style=\"text-align: right;\">\n",
              "      <th></th>\n",
              "      <th>Nombre</th>\n",
              "      <th>Apellido</th>\n",
              "      <th>Altura</th>\n",
              "      <th>Peso</th>\n",
              "      <th>Edad</th>\n",
              "    </tr>\n",
              "    <tr>\n",
              "      <th>Pais</th>\n",
              "      <th></th>\n",
              "      <th></th>\n",
              "      <th></th>\n",
              "      <th></th>\n",
              "      <th></th>\n",
              "    </tr>\n",
              "  </thead>\n",
              "  <tbody>\n",
              "    <tr>\n",
              "      <th>Chile</th>\n",
              "      <td>Norma</td>\n",
              "      <td>Bustamante</td>\n",
              "      <td>165.0</td>\n",
              "      <td>61.0</td>\n",
              "      <td>36</td>\n",
              "    </tr>\n",
              "    <tr>\n",
              "      <th>Colombia</th>\n",
              "      <td>Mario</td>\n",
              "      <td>Yepes</td>\n",
              "      <td>186.0</td>\n",
              "      <td>83.0</td>\n",
              "      <td>68</td>\n",
              "    </tr>\n",
              "    <tr>\n",
              "      <th>Estados Unidos</th>\n",
              "      <td>Alex</td>\n",
              "      <td>Morgan</td>\n",
              "      <td>185.0</td>\n",
              "      <td>78.0</td>\n",
              "      <td>46</td>\n",
              "    </tr>\n",
              "    <tr>\n",
              "      <th>Mexico</th>\n",
              "      <td>Enrique</td>\n",
              "      <td>Peña</td>\n",
              "      <td>173.0</td>\n",
              "      <td>70.0</td>\n",
              "      <td>53</td>\n",
              "    </tr>\n",
              "    <tr>\n",
              "      <th>Peru</th>\n",
              "      <td>Stephanie</td>\n",
              "      <td>Cayo</td>\n",
              "      <td>168.0</td>\n",
              "      <td>55.0</td>\n",
              "      <td>77</td>\n",
              "    </tr>\n",
              "    <tr>\n",
              "      <th>Rusia</th>\n",
              "      <td>Maria</td>\n",
              "      <td>Sharapova</td>\n",
              "      <td>188.0</td>\n",
              "      <td>80.0</td>\n",
              "      <td>32</td>\n",
              "    </tr>\n",
              "  </tbody>\n",
              "</table>\n",
              "</div>"
            ],
            "text/plain": [
              "                   Nombre    Apellido  Altura  Peso  Edad\n",
              "Pais                                                     \n",
              "Chile               Norma  Bustamante   165.0  61.0    36\n",
              "Colombia            Mario       Yepes   186.0  83.0    68\n",
              "Estados Unidos       Alex      Morgan   185.0  78.0    46\n",
              "Mexico            Enrique        Peña   173.0  70.0    53\n",
              "Peru            Stephanie        Cayo   168.0  55.0    77\n",
              "Rusia               Maria   Sharapova   188.0  80.0    32"
            ]
          },
          "metadata": {
            "tags": []
          },
          "execution_count": 41
        }
      ]
    },
    {
      "cell_type": "code",
      "metadata": {
        "id": "C6YVa7m_nG9S",
        "colab": {
          "base_uri": "https://localhost:8080/",
          "height": 85
        },
        "outputId": "3861f762-9251-4bc9-aa0e-b850d2050eeb"
      },
      "source": [
        "by_pais.mean().loc['Colombia']"
      ],
      "execution_count": null,
      "outputs": [
        {
          "output_type": "execute_result",
          "data": {
            "text/plain": [
              "Altura    181.0\n",
              "Peso       78.0\n",
              "Edad       46.0\n",
              "Name: Colombia, dtype: float64"
            ]
          },
          "metadata": {
            "tags": []
          },
          "execution_count": 42
        }
      ]
    },
    {
      "cell_type": "code",
      "metadata": {
        "id": "aAqhRlPHoKIO",
        "colab": {
          "base_uri": "https://localhost:8080/",
          "height": 266
        },
        "outputId": "7cc5a09c-cdfd-44c5-b519-ec8aaf5318ef"
      },
      "source": [
        "by_pais['Altura'].describe()"
      ],
      "execution_count": null,
      "outputs": [
        {
          "output_type": "execute_result",
          "data": {
            "text/html": [
              "<div>\n",
              "<style scoped>\n",
              "    .dataframe tbody tr th:only-of-type {\n",
              "        vertical-align: middle;\n",
              "    }\n",
              "\n",
              "    .dataframe tbody tr th {\n",
              "        vertical-align: top;\n",
              "    }\n",
              "\n",
              "    .dataframe thead th {\n",
              "        text-align: right;\n",
              "    }\n",
              "</style>\n",
              "<table border=\"1\" class=\"dataframe\">\n",
              "  <thead>\n",
              "    <tr style=\"text-align: right;\">\n",
              "      <th></th>\n",
              "      <th>count</th>\n",
              "      <th>mean</th>\n",
              "      <th>std</th>\n",
              "      <th>min</th>\n",
              "      <th>25%</th>\n",
              "      <th>50%</th>\n",
              "      <th>75%</th>\n",
              "      <th>max</th>\n",
              "    </tr>\n",
              "    <tr>\n",
              "      <th>Pais</th>\n",
              "      <th></th>\n",
              "      <th></th>\n",
              "      <th></th>\n",
              "      <th></th>\n",
              "      <th></th>\n",
              "      <th></th>\n",
              "      <th></th>\n",
              "      <th></th>\n",
              "    </tr>\n",
              "  </thead>\n",
              "  <tbody>\n",
              "    <tr>\n",
              "      <th>Chile</th>\n",
              "      <td>1.0</td>\n",
              "      <td>165.0</td>\n",
              "      <td>NaN</td>\n",
              "      <td>165.0</td>\n",
              "      <td>165.00</td>\n",
              "      <td>165.0</td>\n",
              "      <td>165.00</td>\n",
              "      <td>165.0</td>\n",
              "    </tr>\n",
              "    <tr>\n",
              "      <th>Colombia</th>\n",
              "      <td>3.0</td>\n",
              "      <td>181.0</td>\n",
              "      <td>4.582576</td>\n",
              "      <td>177.0</td>\n",
              "      <td>178.50</td>\n",
              "      <td>180.0</td>\n",
              "      <td>183.00</td>\n",
              "      <td>186.0</td>\n",
              "    </tr>\n",
              "    <tr>\n",
              "      <th>Estados Unidos</th>\n",
              "      <td>2.0</td>\n",
              "      <td>177.5</td>\n",
              "      <td>10.606602</td>\n",
              "      <td>170.0</td>\n",
              "      <td>173.75</td>\n",
              "      <td>177.5</td>\n",
              "      <td>181.25</td>\n",
              "      <td>185.0</td>\n",
              "    </tr>\n",
              "    <tr>\n",
              "      <th>Mexico</th>\n",
              "      <td>2.0</td>\n",
              "      <td>172.5</td>\n",
              "      <td>0.707107</td>\n",
              "      <td>172.0</td>\n",
              "      <td>172.25</td>\n",
              "      <td>172.5</td>\n",
              "      <td>172.75</td>\n",
              "      <td>173.0</td>\n",
              "    </tr>\n",
              "    <tr>\n",
              "      <th>Peru</th>\n",
              "      <td>2.0</td>\n",
              "      <td>165.5</td>\n",
              "      <td>3.535534</td>\n",
              "      <td>163.0</td>\n",
              "      <td>164.25</td>\n",
              "      <td>165.5</td>\n",
              "      <td>166.75</td>\n",
              "      <td>168.0</td>\n",
              "    </tr>\n",
              "    <tr>\n",
              "      <th>Rusia</th>\n",
              "      <td>1.0</td>\n",
              "      <td>188.0</td>\n",
              "      <td>NaN</td>\n",
              "      <td>188.0</td>\n",
              "      <td>188.00</td>\n",
              "      <td>188.0</td>\n",
              "      <td>188.00</td>\n",
              "      <td>188.0</td>\n",
              "    </tr>\n",
              "  </tbody>\n",
              "</table>\n",
              "</div>"
            ],
            "text/plain": [
              "                count   mean        std    min     25%    50%     75%    max\n",
              "Pais                                                                        \n",
              "Chile             1.0  165.0        NaN  165.0  165.00  165.0  165.00  165.0\n",
              "Colombia          3.0  181.0   4.582576  177.0  178.50  180.0  183.00  186.0\n",
              "Estados Unidos    2.0  177.5  10.606602  170.0  173.75  177.5  181.25  185.0\n",
              "Mexico            2.0  172.5   0.707107  172.0  172.25  172.5  172.75  173.0\n",
              "Peru              2.0  165.5   3.535534  163.0  164.25  165.5  166.75  168.0\n",
              "Rusia             1.0  188.0        NaN  188.0  188.00  188.0  188.00  188.0"
            ]
          },
          "metadata": {
            "tags": []
          },
          "execution_count": 43
        }
      ]
    },
    {
      "cell_type": "markdown",
      "metadata": {
        "id": "dfGcynwVb02J"
      },
      "source": [
        "## **EJERCICIOS**"
      ]
    },
    {
      "cell_type": "markdown",
      "metadata": {
        "id": "7vgsne05SbT6"
      },
      "source": [
        "###**Ejercicios PANDAS**"
      ]
    },
    {
      "cell_type": "markdown",
      "metadata": {
        "id": "rhvyMfkjYFuV"
      },
      "source": [
        "A continuación se cargara un dataset de salarios con el fin de completar unas tareas basicas en base a la información proporcionada anteriormente.\n"
      ]
    },
    {
      "cell_type": "code",
      "metadata": {
        "id": "YZTmeqPbXgMo"
      },
      "source": [
        "import pandas as pd\n",
        "sal = pd.read_csv('/content/salarios.csv')"
      ],
      "execution_count": null,
      "outputs": []
    },
    {
      "cell_type": "code",
      "metadata": {
        "id": "ASCZusouXgM2"
      },
      "source": [
        "### Verifique que cargo correctamente los datos mostrando el dataframe\n",
        "sal"
      ],
      "execution_count": null,
      "outputs": []
    },
    {
      "cell_type": "markdown",
      "metadata": {
        "id": "G-Z87DmKXgNY"
      },
      "source": [
        "**¿Cuál es el salario base (BasePay) promedio?**"
      ]
    },
    {
      "cell_type": "code",
      "metadata": {
        "id": "tcuAQ2e9ZEiR",
        "colab": {
          "base_uri": "https://localhost:8080/",
          "height": 34
        },
        "outputId": "0c5b7fb3-bf16-42af-fa9c-5be341cde5da"
      },
      "source": [
        "##### Halle la media de la columna BasePay\n",
        "sal['BasePay'].mean()"
      ],
      "execution_count": null,
      "outputs": [
        {
          "output_type": "execute_result",
          "data": {
            "text/plain": [
              "125819.183903219"
            ]
          },
          "metadata": {
            "tags": []
          },
          "execution_count": 16
        }
      ]
    },
    {
      "cell_type": "markdown",
      "metadata": {
        "id": "weZFx4XWXgN4"
      },
      "source": [
        "**¿Cuál es el nombre de la persona que más gana (incluyendo beneficios - TotalPayBenefits)?**"
      ]
    },
    {
      "cell_type": "code",
      "metadata": {
        "id": "rOA5JIF0ZrFO",
        "colab": {
          "base_uri": "https://localhost:8080/",
          "height": 272
        },
        "outputId": "75a7f31f-5ec1-43eb-9752-cdb1905f3891"
      },
      "source": [
        "### Busque en el Dataframe el max\n",
        "#print(sal.max())\n",
        "name=sal.max()\n",
        "print(name.EmployeeName)"
      ],
      "execution_count": null,
      "outputs": [
        {
          "output_type": "stream",
          "text": [
            "Id                                                    5001\n",
            "EmployeeName                                 ZOILA MAGUINA\n",
            "JobTitle            WIRE ROPE CABLE MAINTENANCE SUPERVISOR\n",
            "BasePay                                             294580\n",
            "OvertimePay                                         245132\n",
            "OtherPay                                            400184\n",
            "Benefits                                              None\n",
            "TotalPay                                            567595\n",
            "TotalPayBenefits                                    567595\n",
            "Year                                                  2011\n",
            "Notes                                                 None\n",
            "Agency                                       San Francisco\n",
            "Status                                                None\n",
            "dtype: object\n",
            "ZOILA MAGUINA\n"
          ],
          "name": "stdout"
        }
      ]
    },
    {
      "cell_type": "markdown",
      "metadata": {
        "id": "mlEMxa2vXgOD"
      },
      "source": [
        "**¿Cuál es el salario base (BasePay) promedio de todos los empleados por año (2011-2014)?**"
      ]
    },
    {
      "cell_type": "code",
      "metadata": {
        "id": "5T5IquJraFqB"
      },
      "source": [
        "### Agrupe los datos y halle los valores maximos"
      ],
      "execution_count": null,
      "outputs": []
    },
    {
      "cell_type": "markdown",
      "metadata": {
        "id": "lwQmee5va09p"
      },
      "source": [
        "**Realice una descripcion del TotalPay de todos los empleados por año (2011-2014)**"
      ]
    },
    {
      "cell_type": "code",
      "metadata": {
        "id": "jlVqkGU2a0Il"
      },
      "source": [
        "### Agrupe los datos "
      ],
      "execution_count": null,
      "outputs": []
    },
    {
      "cell_type": "markdown",
      "metadata": {
        "id": "lpKgO7PJmS1u"
      },
      "source": [
        "####**Ejercicios con funciones avanzadas**\n",
        "\n",
        "Para las siguientes dos preguntas documentese sobre las funciones *value_counts* y *contains*."
      ]
    },
    {
      "cell_type": "markdown",
      "metadata": {
        "id": "RgT4aXifXgOL"
      },
      "source": [
        "**¿Cuáles son los 5 cargos más comunes?**"
      ]
    },
    {
      "cell_type": "code",
      "metadata": {
        "id": "8pci-bPamOw9"
      },
      "source": [
        "### Haga uso de la funcion value_counts"
      ],
      "execution_count": null,
      "outputs": []
    },
    {
      "cell_type": "markdown",
      "metadata": {
        "id": "vsLZ1cnaXgOQ"
      },
      "source": [
        "**¿Cuánta gente tiene la palabra 'Chief' en su cargo?**"
      ]
    },
    {
      "cell_type": "code",
      "metadata": {
        "id": "ZINnUSEVmnhw"
      },
      "source": [
        "### Haga uso de la funcion contains"
      ],
      "execution_count": null,
      "outputs": []
    },
    {
      "cell_type": "markdown",
      "metadata": {
        "id": "YK2tlR1WSSNA"
      },
      "source": [
        "###**Ejercicios Probabilidad**"
      ]
    },
    {
      "cell_type": "markdown",
      "metadata": {
        "id": "z6dMEcNd-vb_"
      },
      "source": [
        "1.  \n",
        "* Con la ayuda de la función *randint* de la libreria *random*, genere \n",
        "una lista de 20 valores aleatorios que tomen numeros enteros de (10,80) y nombrela \"*val_aleatory*\".\n",
        "$%, con la ayuda de la libreria *numpy* pase esa lista a un *Array* %$\n",
        "\n"
      ]
    },
    {
      "cell_type": "code",
      "metadata": {
        "id": "IoYywv0Zou9v"
      },
      "source": [
        "### Para obtener el resultado esperado, debe establecer una semilla en 1, por medio de el comando random\n",
        "import random\n",
        "random.seed(1)\n",
        "\n",
        "### Realizar Lista"
      ],
      "execution_count": null,
      "outputs": []
    },
    {
      "cell_type": "markdown",
      "metadata": {
        "id": "yqODUqhnDF_-"
      },
      "source": [
        "**Respuesta**: \n",
        " \n",
        "\n",
        "```\n",
        "[27, 18, 42, 25, 73, 67, 70, 58, 36, 22, 72, 13, 59, 65, 10, 67, 44, 39, 23, 50]\n",
        "\n",
        "```\n",
        "\n"
      ]
    },
    {
      "cell_type": "markdown",
      "metadata": {
        "id": "jLf5THGXolsH"
      },
      "source": [
        "*   Continue en otra celda. *val_aleatory* será nuestro insumo de edades  extraido de una muestra simulada. Halle la media, mediana y moda de  *val_aleatory*.\n",
        "\n"
      ]
    },
    {
      "cell_type": "code",
      "metadata": {
        "id": "oGAqgnHSqAip"
      },
      "source": [
        "### Hallar media, mediana, moda"
      ],
      "execution_count": null,
      "outputs": []
    },
    {
      "cell_type": "markdown",
      "metadata": {
        "id": "sNfnQkviEdLo"
      },
      "source": [
        "**Respuesta:**\n",
        "\n",
        "\n",
        "\n",
        "```\n",
        "La media de la muestra de edades es:  44.0\n",
        "La mediana para la muestra de edades es: 43.0\n",
        "Las modas son:  [67]\n",
        "```\n",
        "\n"
      ]
    },
    {
      "cell_type": "markdown",
      "metadata": {
        "id": "HTG_Aaokp7p8"
      },
      "source": [
        "* Se dice que la tercera edad empieza desde los 60, se quiere saber de la muestra de edades, cuantas personas pertenecian a la tercera edad y por consiguiente, cuantas no pertenecian a la tercera edad (Genere una lista con dos valores, que denoten quien este en la tercera edad y quien no, finalmente use un count). \n",
        "\n"
      ]
    },
    {
      "cell_type": "code",
      "metadata": {
        "id": "Viof4jW3qlTN"
      },
      "source": [
        "### Contar los dos tipos de edad"
      ],
      "execution_count": null,
      "outputs": []
    },
    {
      "cell_type": "markdown",
      "metadata": {
        "id": "IoBiQRy9Gwmk"
      },
      "source": [
        "**Respuesta:**\n",
        "\n",
        "\n",
        "\n",
        "```\n",
        "La cantidad de jovenes es 14\n",
        "La cantidad de viejos es 6\n",
        "\n",
        "```\n",
        "\n"
      ]
    },
    {
      "cell_type": "markdown",
      "metadata": {
        "id": "CI6f1p42qSTn"
      },
      "source": [
        "* Si de las personas de la muestra de edades se escogen 5 personas aleatoriamente, ¿cual es la probabilidad de que sean seleccionados 3 jovenes y 2 personas de la segunda edad?\n",
        "\n"
      ]
    },
    {
      "cell_type": "code",
      "metadata": {
        "id": "BLiNy0qGqtji"
      },
      "source": [
        "### Hacer calculos"
      ],
      "execution_count": null,
      "outputs": []
    },
    {
      "cell_type": "markdown",
      "metadata": {
        "id": "KP2dByRIHb5C"
      },
      "source": [
        "**Respuesta:**\n",
        "\n",
        "\n",
        "\n",
        "```\n",
        "La probabilidad de escoger 3 jovenes y 2 adultos mayores es de 0.3521671826625387\n",
        "\n",
        "```\n",
        "\n"
      ]
    },
    {
      "cell_type": "markdown",
      "metadata": {
        "id": "Zhvxtp_2qSJ3"
      },
      "source": [
        "2. Un banco recibe tres solicitudes de prestamos, por parte de tres personas naturales diferentes, de las tres personas dos tiene una alta capacidad de endeudamiento. El banco estima que la probabilidad de que la persona pueda pagar oportunamente dado que no tiene alta capacidad de endeudamiento es de 1 entre 5 personas: $\\dfrac{1}{5}$.\n",
        "\n",
        "* ¿Cual es la probabilidad de que la persona pueda pagar oportunamente y que no cuente con una alta capacidad de endeudamiento ($P(A\\cap B)$)?\n",
        "\n",
        "(*Donde* $A$ *denota el evento de que de que pueda pagar oportunamente y* $B$ *denota el evento de que no cuente con una alta capacidad de endeudamiento*)."
      ]
    },
    {
      "cell_type": "code",
      "metadata": {
        "id": "K7F8EEfBLIW2"
      },
      "source": [
        "### Usar como calculadora para halla la probabilidad\n"
      ],
      "execution_count": null,
      "outputs": []
    },
    {
      "cell_type": "markdown",
      "metadata": {
        "id": "98fIlK6YMpIR"
      },
      "source": [
        "**Respuesta:** \n",
        "$P(A\\cap B)=$\n",
        "\n",
        "```\n",
        "0.06666666666666667\n",
        "```\n",
        "\n"
      ]
    },
    {
      "cell_type": "markdown",
      "metadata": {
        "id": "f9LWFlXfqR2-"
      },
      "source": [
        "3. Se estima que el $15\\%$ de la población adulta padece de hipertensión, pero que el $75\\%$ de todos los adultos creen no tener este problema. Se estima también que el $6\\%$ de la población tiene hipertensión aunque no es consciente de padecerla. Si un paciente adulto opina que no tiene hipertensión, ¿cuál es la\n",
        "probabilidad de que realmente sea hipertenso?\n",
        "\n",
        "(Defina $A_{1}=\\{$el paciente tiene hipertensión$\\}$, $A_{2}=\\{$el paciente no tiene hipertensión$\\}$)\n",
        "\n",
        "(Defina $B_{1}=\\{$el paciente es consciente de padecer hipertensión$\\}$, $B_{2}=\\{$el paciente no es consciente de padecer hipertensión$\\}$)"
      ]
    },
    {
      "cell_type": "markdown",
      "metadata": {
        "id": "BfWh_TxrSTJI"
      },
      "source": [
        "**Respuesta:**\n",
        "\n",
        "La probabilidad de que el paciente tenga hipertensión dado que no es consciente de ello.\n",
        "\n",
        " $P(A_{1}|B_{2})=0.012$"
      ]
    }
  ]
}
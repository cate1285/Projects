{
  "nbformat": 4,
  "nbformat_minor": 0,
  "metadata": {
    "colab": {
      "name": "JupyterHub_Reporte.ipynb",
      "provenance": [],
      "collapsed_sections": [],
      "toc_visible": true,
      "include_colab_link": true
    },
    "kernelspec": {
      "name": "python3",
      "display_name": "Python 3"
    }
  },
  "cells": [
    {
      "cell_type": "markdown",
      "metadata": {
        "id": "view-in-github",
        "colab_type": "text"
      },
      "source": [
        "<a href=\"https://colab.research.google.com/github/cate1285/Projects/blob/main/JupyterHub_Reporte.ipynb\" target=\"_parent\"><img src=\"https://colab.research.google.com/assets/colab-badge.svg\" alt=\"Open In Colab\"/></a>"
      ]
    },
    {
      "cell_type": "code",
      "metadata": {
        "id": "LTWctHyCHqHl"
      },
      "source": [
        "import pandas as pd\n",
        "import datetime as dt\n",
        "import matplotlib.pyplot as plt\n",
        "import matplotlib.patches as mpatches\n",
        "import re"
      ],
      "execution_count": null,
      "outputs": []
    },
    {
      "cell_type": "code",
      "metadata": {
        "id": "Coxh09VeS14G",
        "colab": {
          "base_uri": "https://localhost:8080/",
          "height": 54
        },
        "outputId": "3f5a2ea6-c3b3-4f33-db79-856864675e3a"
      },
      "source": [
        "from google.colab import drive\n",
        "drive.mount('/content/drive')"
      ],
      "execution_count": null,
      "outputs": [
        {
          "output_type": "stream",
          "text": [
            "Drive already mounted at /content/drive; to attempt to forcibly remount, call drive.mount(\"/content/drive\", force_remount=True).\n"
          ],
          "name": "stdout"
        }
      ]
    },
    {
      "cell_type": "code",
      "metadata": {
        "id": "aVJY5sBV8G_B"
      },
      "source": [
        "df0=pd.read_csv(\"/content/drive/My Drive/Reportes_Jupyterhub/reporte_jupyter.txt\",delimiter=\"\\t\")\n",
        "df0.head\n",
        "flagsearch=['ipynb','logged','kernelmanager','multikernelmanager']\n",
        "dfnotebook=df0.loc[df0['Columna'].str.contains('|'.join(flagsearch))]\n",
        "dfnotebook.to_excel(\"/content/drive/My Drive/Reportes_Jupyterhub/actividad.xlsx\")\n",
        "dfnotebook.to_excel(\"/content/drive/My Drive/Reportes_Jupyterhub/actividadUser.xlsx\")"
      ],
      "execution_count": null,
      "outputs": []
    },
    {
      "cell_type": "markdown",
      "metadata": {
        "id": "itnOZV_SpFsN"
      },
      "source": [
        ""
      ]
    },
    {
      "cell_type": "code",
      "metadata": {
        "id": "88K7wmAWTtpR"
      },
      "source": [
        "dfnotebook=pd.read_excel(\"/content/drive/My Drive/Reportes_Jupyterhub/actividadUser.xlsx\")"
      ],
      "execution_count": null,
      "outputs": []
    },
    {
      "cell_type": "code",
      "metadata": {
        "id": "gRtr1r_OFoTU"
      },
      "source": [
        "def extrafecha(df):\n",
        "  df_fecha=df['Columna']\n",
        "  d1=[]\n",
        "  for items in df_fecha:\n",
        "    match = re.search('\\d{4}-\\d{2}-\\d{2}',items) #Expresion regular que busca fecha\n",
        "    if match is None:\n",
        "      a=''\n",
        "      d1.append(a)\n",
        "    else:\n",
        "      d = dt.datetime.strptime(match.group(), '%Y-%m-%d').date() #convierte a formato fecha\n",
        "      d=d.strftime(\"%Y-%m-%d\")#pasa string a timestamp\n",
        "      d1.append(d)\n",
        "  print(len(d1))\n",
        "  return d1"
      ],
      "execution_count": null,
      "outputs": []
    },
    {
      "cell_type": "code",
      "metadata": {
        "id": "xn1UWRAN1VJG"
      },
      "source": [
        "def extrahora(df):\n",
        "  df_hora=df['Columna']\n",
        "  d1=[]\n",
        "  for items in df_hora:\n",
        "    match = re.search('\\d{2}:\\d{2}:\\d{2}',items) #expresion regular que busca hora\n",
        "    if match is None:\n",
        "      a=''\n",
        "      d1.append(a)\n",
        "    else:\n",
        "      d=match.group()\n",
        "      d1.append(d)\n",
        "  print(len(d1))\n",
        "  return d1"
      ],
      "execution_count": null,
      "outputs": []
    },
    {
      "cell_type": "code",
      "metadata": {
        "id": "LBpZEY171bMy"
      },
      "source": [
        "def extrausuario(df):\n",
        "  df_usuario=df['Columna']\n",
        "  d1=[]\n",
        "  for items in df_usuario:\n",
        "    match = re.search('\\w+@\\d{3}',items)\n",
        "    if match is None:\n",
        "      a=''\n",
        "      d1.append(a)\n",
        "    else:\n",
        "      d=match.group()\n",
        "      d=d.split('@')\n",
        "      d1.append(d[0])\n",
        "  print(len(d1))  \n",
        "  return d1"
      ],
      "execution_count": null,
      "outputs": []
    },
    {
      "cell_type": "code",
      "metadata": {
        "id": "cGXaFWGv2SNk"
      },
      "source": [
        "def extraruta(df):\n",
        "  df_ruta=df['Columna']\n",
        "  d1=[]\n",
        "  for items in df_ruta:\n",
        "    match=re.search(\"\\w{4}/\\w+/\\w+\\S+\",items)\n",
        "    if match is None:\n",
        "      a=''\n",
        "      d1.append(a)\n",
        "    else:\n",
        "      d=match.group()\n",
        "      d=d.split('?',1)[0]\n",
        "      d=d.split('/checkpoints',1)[0]\n",
        "      d1.append(d)\n",
        "  print(len(d1))\n",
        "  return d1"
      ],
      "execution_count": null,
      "outputs": []
    },
    {
      "cell_type": "code",
      "metadata": {
        "id": "OP6Pyufl503O"
      },
      "source": [
        "def extrakernel(df):\n",
        "  df_ruta=df['Columna']\n",
        "  d1=[]\n",
        "  for items in df_ruta:\n",
        "    match=re.search(\"Kernel \\w+\",items)\n",
        "    if match is None:\n",
        "      a=''\n",
        "      d1.append(a)\n",
        "    else:\n",
        "      d=match.group()\n",
        "      d1.append(d)\n",
        "  print(len(d1))\n",
        "  return d1"
      ],
      "execution_count": null,
      "outputs": []
    },
    {
      "cell_type": "code",
      "metadata": {
        "id": "1EmxNEILUjOd"
      },
      "source": [
        "def extrain(df):\n",
        "  df_us=df['Columna']\n",
        "  d1=[]\n",
        "  for items in df_us:\n",
        "    match=re.search(\"in: \\w+\",items)\n",
        "    if match is None:\n",
        "      a=''\n",
        "      d1.append(a)\n",
        "    else:\n",
        "      d=match.group()\n",
        "      d=d.split(' ')\n",
        "      d1.append(d[1])\n",
        "  print(len(d1))\n",
        "  return d1\n"
      ],
      "execution_count": null,
      "outputs": []
    },
    {
      "cell_type": "code",
      "metadata": {
        "id": "KLPBYMvw1kmz",
        "colab": {
          "base_uri": "https://localhost:8080/",
          "height": 119
        },
        "outputId": "fdd9aeae-9480-46ef-dd18-acb3d16c52f2"
      },
      "source": [
        "df1=extrafecha(dfnotebook)\n",
        "df2=extrahora(dfnotebook)\n",
        "df3=extrausuario(dfnotebook)\n",
        "df4=extraruta(dfnotebook)\n",
        "df5=extrakernel(dfnotebook)\n",
        "df6=extrain(dfnotebook)\n",
        "dfnotebook['Fecha']=pd.DataFrame(df1)\n",
        "dfnotebook['Hora']=pd.DataFrame(df2)\n",
        "dfnotebook['Usuario']=pd.DataFrame(df3)\n",
        "dfnotebook['Ruta']=pd.DataFrame(df4)\n",
        "dfnotebook['Kernel']=pd.DataFrame(df5)\n",
        "dfnotebook['Userin']=pd.DataFrame(df6)\n",
        "dfnotebook.to_excel(\"/content/drive/My Drive/Reportes_Jupyterhub/actividate.xlsx\")\n",
        "dfnotebook.to_excel(\"/content/drive/My Drive/Reportes_Jupyterhub/actividadUser.xlsx\")"
      ],
      "execution_count": null,
      "outputs": [
        {
          "output_type": "stream",
          "text": [
            "10811\n",
            "10811\n",
            "10811\n",
            "10811\n",
            "10811\n",
            "10811\n"
          ],
          "name": "stdout"
        }
      ]
    },
    {
      "cell_type": "code",
      "metadata": {
        "id": "bF6xUtaD1_yZ"
      },
      "source": [
        "#flag1=['trusted','Saving','out','Starting']\n",
        "dfdnot=pd.read_excel(\"/content/drive/My Drive/Reportes_Jupyterhub/actividadUser.xlsx\")\n",
        "#dfdnot.drop(dfdnot[dfdnot.Columna.str.contains('|'.join(flag1))].index, inplace = True)\n",
        "#dfdnot=dfdnot.drop(columns=['Unnamed: 0','Unnamed: 0.1'])\n",
        "dfdnot.to_excel(\"/content/drive/My Drive/Reportes_Jupyterhub/actividate.xlsx\")"
      ],
      "execution_count": null,
      "outputs": []
    },
    {
      "cell_type": "code",
      "metadata": {
        "id": "KXD9CzXLYcgr"
      },
      "source": [
        "dfdata=pd.read_excel(\"/content/drive/My Drive/Reportes_Jupyterhub/actividate.xlsx\")"
      ],
      "execution_count": null,
      "outputs": []
    },
    {
      "cell_type": "code",
      "metadata": {
        "id": "6umhVZnsQoms"
      },
      "source": [
        "my_colors=['b', 'r', 'g', 'y', 'k']\n",
        "us=dfdata['Usuario'].value_counts(ascending=True)#.plot(kind='bar',figsize=(50,8))\n",
        "us=us[-5:]\n",
        "us.plot(kind='barh',color=my_colors,figsize=(12,8))"
      ],
      "execution_count": null,
      "outputs": []
    },
    {
      "cell_type": "code",
      "metadata": {
        "id": "hT7pg3L4jHFg"
      },
      "source": [
        "ru=dfdata['Ruta'].value_counts(ascending=True)\n",
        "ru=ru[-5:]\n",
        "ru.plot(kind='barh',color=my_colors,figsize=(12,8))"
      ],
      "execution_count": null,
      "outputs": []
    },
    {
      "cell_type": "code",
      "metadata": {
        "id": "R5OG_KhjkijN",
        "colab": {
          "base_uri": "https://localhost:8080/",
          "height": 214
        },
        "outputId": "e9b6652c-f1da-4146-d37b-4f42cdd71311"
      },
      "source": [
        "dfdata.groupby(['Fecha'])['Hora'].value_counts(ascending=True).plot(kind='bar',figsize=(12,8))\n",
        "s5=dfdata.nlargest()\n",
        "s5=s5.sort_values(ascending=True)\n",
        "s5.plot(kind='barh')"
      ],
      "execution_count": null,
      "outputs": [
        {
          "output_type": "error",
          "ename": "NameError",
          "evalue": "ignored",
          "traceback": [
            "\u001b[0;31m---------------------------------------------------------------------------\u001b[0m",
            "\u001b[0;31mNameError\u001b[0m                                 Traceback (most recent call last)",
            "\u001b[0;32m<ipython-input-1-53f667205ec7>\u001b[0m in \u001b[0;36m<module>\u001b[0;34m()\u001b[0m\n\u001b[0;32m----> 1\u001b[0;31m \u001b[0mdfdata\u001b[0m\u001b[0;34m.\u001b[0m\u001b[0mgroupby\u001b[0m\u001b[0;34m(\u001b[0m\u001b[0;34m[\u001b[0m\u001b[0;34m'Fecha'\u001b[0m\u001b[0;34m]\u001b[0m\u001b[0;34m)\u001b[0m\u001b[0;34m[\u001b[0m\u001b[0;34m'Hora'\u001b[0m\u001b[0;34m]\u001b[0m\u001b[0;34m.\u001b[0m\u001b[0mvalue_counts\u001b[0m\u001b[0;34m(\u001b[0m\u001b[0mascending\u001b[0m\u001b[0;34m=\u001b[0m\u001b[0;32mTrue\u001b[0m\u001b[0;34m)\u001b[0m\u001b[0;34m.\u001b[0m\u001b[0mplot\u001b[0m\u001b[0;34m(\u001b[0m\u001b[0mkind\u001b[0m\u001b[0;34m=\u001b[0m\u001b[0;34m'bar'\u001b[0m\u001b[0;34m,\u001b[0m\u001b[0mfigsize\u001b[0m\u001b[0;34m=\u001b[0m\u001b[0;34m(\u001b[0m\u001b[0;36m12\u001b[0m\u001b[0;34m,\u001b[0m\u001b[0;36m8\u001b[0m\u001b[0;34m)\u001b[0m\u001b[0;34m)\u001b[0m\u001b[0;34m\u001b[0m\u001b[0;34m\u001b[0m\u001b[0m\n\u001b[0m\u001b[1;32m      2\u001b[0m \u001b[0ms5\u001b[0m\u001b[0;34m=\u001b[0m\u001b[0ms1\u001b[0m\u001b[0;34m.\u001b[0m\u001b[0mnlargest\u001b[0m\u001b[0;34m(\u001b[0m\u001b[0;34m)\u001b[0m\u001b[0;34m\u001b[0m\u001b[0;34m\u001b[0m\u001b[0m\n\u001b[1;32m      3\u001b[0m \u001b[0ms5\u001b[0m\u001b[0;34m=\u001b[0m\u001b[0ms5\u001b[0m\u001b[0;34m.\u001b[0m\u001b[0msort_values\u001b[0m\u001b[0;34m(\u001b[0m\u001b[0mascending\u001b[0m\u001b[0;34m=\u001b[0m\u001b[0;32mTrue\u001b[0m\u001b[0;34m)\u001b[0m\u001b[0;34m\u001b[0m\u001b[0;34m\u001b[0m\u001b[0m\n\u001b[1;32m      4\u001b[0m \u001b[0ms5\u001b[0m\u001b[0;34m.\u001b[0m\u001b[0mplot\u001b[0m\u001b[0;34m(\u001b[0m\u001b[0mkind\u001b[0m\u001b[0;34m=\u001b[0m\u001b[0;34m'barh'\u001b[0m\u001b[0;34m)\u001b[0m\u001b[0;34m\u001b[0m\u001b[0;34m\u001b[0m\u001b[0m\n",
            "\u001b[0;31mNameError\u001b[0m: name 'dfdata' is not defined"
          ]
        }
      ]
    },
    {
      "cell_type": "markdown",
      "metadata": {
        "id": "flxiJiYScGOp"
      },
      "source": [
        "# YARN\n"
      ]
    },
    {
      "cell_type": "code",
      "metadata": {
        "id": "rb5enSxycPwG"
      },
      "source": [
        "df0=pd.read_excel(\"/content/drive/My Drive/Reportes_Jupyterhub/query_yarn.xlsx\")\n",
        "df0.head\n",
        "flagsearch=['livy-session']\n",
        "dfnotebook=df0.loc[df0['name'].str.contains('|'.join(flagsearch))]\n",
        "dfnotebook.to_excel(\"/content/drive/My Drive/livy-sesion.xlsx\")\n",
        "dfnotebook.to_excel(\"/content/drive/My Drive/Rlivy.xlsx\")"
      ],
      "execution_count": null,
      "outputs": []
    },
    {
      "cell_type": "code",
      "metadata": {
        "id": "fztTxzbbcPbN"
      },
      "source": [
        "df3=pd.read_excel(\"/content/drive/My Drive/historico_yarn.xlsx\")\n",
        "indName=df3[df3['periodo']>20191123].index\n",
        "df3.drop(indName, inplace=True)\n",
        "df3.head\n",
        "df3.to_excel(\"/content/drive/My Drive/historico_yarn.xlsx\")"
      ],
      "execution_count": null,
      "outputs": []
    },
    {
      "cell_type": "code",
      "metadata": {
        "id": "mgNJ4i8Fjc_E"
      },
      "source": [
        "df3=pd.read_excel(\"/content/drive/My Drive/Cluster.xlsx\")\n",
        "df3=df3.replace(to_replace=r'^dav_application\\S+', value='dav_application', regex=True)\n",
        "df3=df3.replace(to_replace=r'^dav_application_proto\\S+', value='dav_application_proto', regex=True)\n",
        "df3=df3.replace(to_replace=r'^oozie \\S+', value='oozie', regex=True)\n",
        "df3=df3.replace(to_replace=r'^oozie S\\w+\\S+', value='oozie', regex=True)\n",
        "df3=df3.replace(to_replace=r'^oozie V\\w+\\S+', value='oozie', regex=True)\n",
        "df3=df3.replace(to_replace=r'^dav_updater\\S+', value='dav_updater', regex=True)\n",
        "df3=df3.replace(to_replace=r'^livy-session\\S+', value='Jupyter', regex=True)\n",
        "df3=df3.replace(to_replace=r'^dav_redes_fact\\S+', value='dav_redes_fact', regex=True)\n",
        "df3=df3.replace(to_replace=r'^crg_CargaModeloUnificado\\S+', value='crg_CargaModeloUnificado', regex=True)\n",
        "df3=df3.replace(to_replace=r'^ActivityExecutor\\S+', value='ActivityExecutor', regex=True)\n",
        "df3.to_excel(\"/content/drive/My Drive/Cluster.xlsx\")"
      ],
      "execution_count": null,
      "outputs": []
    },
    {
      "cell_type": "code",
      "metadata": {
        "id": "dQpY_-UW5i0p",
        "colab": {
          "base_uri": "https://localhost:8080/",
          "height": 34
        },
        "outputId": "55dc603b-200c-4721-a873-2c3c5a551164"
      },
      "source": [
        "df3=pd.read_csv(\"/content/drive/My Drive/reporte.csv\", delimiter=',')\n",
        "starttime=df3['starttime']\n",
        "endtime=df3['endtime']\n",
        "serie_rango=len(starttime)\n",
        "print(serie_rango)\n",
        "Dir=[]\n",
        "aux1=0\n",
        "aux2=0\n",
        "total=0\n",
        "auxdir=0\n",
        "\n",
        "for i in range(0,serie_rango):\n",
        "  aux1=starttime[i]\n",
        "  aux2=endtime[i]\n",
        "  aux1=aux1.split('.')\n",
        "  aux2=aux2.split('.')\n",
        "  aux1=aux1[0]\n",
        "  aux2=aux2[0]\n",
        "  aux1=dt.datetime.strptime(aux1,'%Y-%m-%d %H:%M:%S')\n",
        "  aux2=dt.datetime.strptime(aux2,'%Y-%m-%d %H:%M:%S')\n",
        "  total=(aux2-aux1)\n",
        "  #print(total.seconds)\n",
        "  Dir.append(total.seconds)\n",
        "df3['seconds']=pd.DataFrame(Dir)\n",
        "df3['vcores']=(df3['allocatedvcoreseconds']/df3['seconds'])\n",
        "df3['memoria']=(df3['allocatedmemoryseconds']/df3['seconds'])/1024\n",
        "#df3=df3.drop(columns=['Unnamed: 0','Unnamed: 0.1','Unnamed: 0.1.1','Unnamed: 0.1.1.1'])\n",
        "#df3=df3.replace(to_replace=r'^livy-session-\\d+', value='livy-session', regex=True)\n",
        "df3.to_csv(\"/content/drive/My Drive/new_reporte.csv\")"
      ],
      "execution_count": null,
      "outputs": [
        {
          "output_type": "stream",
          "text": [
            "99999\n"
          ],
          "name": "stdout"
        }
      ]
    },
    {
      "cell_type": "code",
      "metadata": {
        "id": "KJk-fPZ467IO"
      },
      "source": [
        "df3=pd.read_excel(\"/content/drive/My Drive/Cluster.xlsx\")\n"
      ],
      "execution_count": null,
      "outputs": []
    },
    {
      "cell_type": "code",
      "metadata": {
        "id": "njIOs-eZ_Gmk"
      },
      "source": [
        "df3.head"
      ],
      "execution_count": null,
      "outputs": []
    },
    {
      "cell_type": "code",
      "metadata": {
        "id": "1JrPar_iX-DJ"
      },
      "source": [
        "=us=df3['name'].size\n",
        "print(us)\n"
      ],
      "execution_count": null,
      "outputs": []
    }
  ]
}
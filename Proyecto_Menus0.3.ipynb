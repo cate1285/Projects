{
  "nbformat": 4,
  "nbformat_minor": 0,
  "metadata": {
    "colab": {
      "name": "Proyecto Menus",
      "provenance": [],
      "collapsed_sections": [],
      "authorship_tag": "ABX9TyOW+9Akf2sSLmLdgtjE9Vb6",
      "include_colab_link": true
    },
    "kernelspec": {
      "name": "python3",
      "display_name": "Python 3"
    }
  },
  "cells": [
    {
      "cell_type": "markdown",
      "metadata": {
        "id": "view-in-github",
        "colab_type": "text"
      },
      "source": [
        "<a href=\"https://colab.research.google.com/github/cate1285/Projects/blob/main/Proyecto_Menus0.3.ipynb\" target=\"_parent\"><img src=\"https://colab.research.google.com/assets/colab-badge.svg\" alt=\"Open In Colab\"/></a>"
      ]
    },
    {
      "cell_type": "code",
      "metadata": {
        "id": "LbY2TFVnsaLR"
      },
      "source": [
        "import pandas as pd \r\n",
        "from random import sample\r\n",
        "import random\r\n",
        "\r\n",
        "\r\n",
        "try:\r\n",
        "  platos=pd.read_csv(\"Platosaludable.csv\",sep=(\",\"),encoding=(\"utf-8\"))\r\n",
        "except FileNotFoundError:\r\n",
        "  print(\"El documento no existe\")\r\n",
        "else:\r\n",
        "  print(platos)"
      ],
      "execution_count": null,
      "outputs": []
    },
    {
      "cell_type": "code",
      "metadata": {
        "id": "zg0AIWNtAesu"
      },
      "source": [
        "print(\"Hola, mi nombre es Sam y te ayuddare a crear un rico y saludable plato \")"
      ],
      "execution_count": null,
      "outputs": []
    },
    {
      "cell_type": "code",
      "metadata": {
        "id": "GvNsmgJCv_N_"
      },
      "source": [
        "list_of_names = platos['Carbohidratos'].to_list()\r\n",
        "list_of = platos['Proteinas'].to_list()\r\n",
        "list_ofnames = platos['Vegetales'].to_list()\r\n",
        "print(list_of_names)\r\n",
        "print(list_of)\r\n",
        "print(list_ofnames)\r\n",
        "todos_ingredientes=(list_of_names + list_of +list_ofnames)"
      ],
      "execution_count": null,
      "outputs": []
    },
    {
      "cell_type": "code",
      "metadata": {
        "id": "zrp040wsNw_9"
      },
      "source": [
        "print(str(todos_ingredientes))"
      ],
      "execution_count": null,
      "outputs": []
    },
    {
      "cell_type": "code",
      "metadata": {
        "id": "qACz_QvUzxEz"
      },
      "source": [
        "counts=0\r\n",
        "inx=len(list_of_names)\r\n",
        "week=[\"Lunes\", \"Martes\", \"Miercoles\", \"Jueves\", \"Viernes\", \"Sabado\",\"Domingo\"]\r\n",
        "while counts <inx:\r\n",
        "  carbohidratos_1= random.choices(list_of_names,k=1)\r\n",
        "  proteinas_1=random.choices(list_of,k=1)\r\n",
        "  vegetales_1=random.choices(list_ofnames,k=1)\r\n",
        "  lunes=(carbohidratos_1+proteinas_1+vegetales_1)\r\n",
        "  print(\"Para el dia \"+ week[counts]+\" El plato perfecto es \"+ str(lunes))\r\n",
        "  for x in lunes:\r\n",
        "    if x in  list_of_names:\r\n",
        "      list_of_names.remove(x)\r\n",
        "      for x in lunes:\r\n",
        "        if x in list_of:\r\n",
        "          list_of.remove(x)\r\n",
        "      for x in lunes:\r\n",
        "        if x in list_ofnames:\r\n",
        "          list_ofnames.remove(x)\r\n",
        "      counts=counts+1\r\n",
        "      print(\"Ingredientes restantes\",\"\\n\",list_of_names,\"\\n\",list_of,\"\\n\",list_ofnames)\r\n",
        "      break\r\n",
        "print(list_of_names)\r\n",
        "\r\n",
        "if not list_of_names:\r\n",
        "  agregar=\"\"\r\n",
        "  while agregar !=\"2\":\r\n",
        "    if agregar==\"1\":\r\n",
        "      ingrediente=input(\"Que tipo de ingrediente vas a ingresar? \\n 1-Carbohidratos \\n 2-proteina \\n 3-vegetales\")\r\n",
        "      if ingrediente==\"1\":\r\n",
        "        nuevo_ingrediente=input(\"ingresa el nuevo ingrediente\")\r\n",
        "        list_of_names.append(nuevo_ingrediente)\r\n",
        "        print(list_of_names)\r\n",
        "      if ingrediente==\"2\":\r\n",
        "        nuevo_ingrediente=input(\"ingresa el nuevo ingrediente\")\r\n",
        "        list_of.append(nuevo_ingrediente)\r\n",
        "        print(list_of)\r\n",
        "      if ingrediente==\"3\":\r\n",
        "        nuevo_ingrediente=input(\"ingresa el nuevo ingrediente\")\r\n",
        "        list_ofnames.append(nuevo_ingrediente)\r\n",
        "        print(list_ofnames)\r\n",
        "    agregar=input(\"Quieres Ingresar nuevos ingredientes? \\n 1-Si \\n 2-No\")\r\n",
        "\r\n",
        "print(\"Carbohidrato\"+str(list_of_names))\r\n",
        "print(\"proteina\"+str(list_of)) \r\n",
        "print(\"vegetales\"+str(list_ofnames)) \r\n",
        "\r\n",
        " \r\n",
        "\r\n",
        "  \r\n",
        "  \r\n",
        "\r\n",
        "  "
      ],
      "execution_count": null,
      "outputs": []
    }
  ]
}
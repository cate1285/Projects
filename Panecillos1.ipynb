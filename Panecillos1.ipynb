{
  "nbformat": 4,
  "nbformat_minor": 0,
  "metadata": {
    "colab": {
      "name": "Panecillos1.ipynb",
      "provenance": [],
      "collapsed_sections": [],
      "authorship_tag": "ABX9TyNbE1qEInEV1rTx5LDhN63F",
      "include_colab_link": true
    },
    "kernelspec": {
      "name": "python3",
      "display_name": "Python 3"
    },
    "language_info": {
      "name": "python"
    }
  },
  "cells": [
    {
      "cell_type": "markdown",
      "metadata": {
        "id": "view-in-github",
        "colab_type": "text"
      },
      "source": [
        "<a href=\"https://colab.research.google.com/github/cate1285/Projects/blob/main/Panecillos1.ipynb\" target=\"_parent\"><img src=\"https://colab.research.google.com/assets/colab-badge.svg\" alt=\"Open In Colab\"/></a>"
      ]
    },
    {
      "cell_type": "markdown",
      "metadata": {
        "id": "cwyMUT6UdNcF"
      },
      "source": [
        "I MADE THIS CODE..."
      ]
    },
    {
      "cell_type": "code",
      "metadata": {
        "id": "nCjuSQMOspbc"
      },
      "source": [
        "from random import randint\n",
        "\n",
        "\n",
        "def convertiralista(numero):\n",
        "  res = [str(i) for i in str(numero)]\n",
        "  return res\n",
        "\n",
        "def adivinarelnumero():\n",
        "  lista_adivinarelnumero=[]\n",
        "  x=input(\"Que numero crees que es?\")\n",
        "  for u in x:\n",
        "    lista_adivinarelnumero.append(u)\n",
        "  return lista_adivinarelnumero\n",
        "\n",
        "\n",
        "\n",
        "def validarnumero():\n",
        "  if len(lista_adivinarelnumero) != 3:\n",
        "    print(\"debe ser un numero de 3 digitos\")\n",
        "    juego_en_curso=True\n",
        "\n",
        "def position1(lista_numero_azar,lista_adivinarelnumero):\n",
        "  while True:\n",
        "    juego_en_curso\n",
        "    pista=[]\n",
        "    for i in range(len(lista_adivinarelnumero)):\n",
        "      if lista_adivinarelnumero[i]== lista_numero_azar[i]:\n",
        "        print(\"fermi\")\n",
        "        pista.append(\"fermi\")\n",
        "      elif lista_adivinarelnumero[i] in lista_numero_azar:\n",
        "        pista.append(\"Pico\")\n",
        "        print(\"Pico\")\n",
        "      if len(pista)== 0:\n",
        "        print(\"panecillos\")\n",
        "        break\n",
        "    break\n",
        "\n",
        "def jugarnuevamente():\n",
        "  jugar=(\"Quieres jugar Otra Vez? si/no\")\n",
        "  return input(jugar).lower().startswith(\"s\") \n",
        "\n",
        "longitud=len(lista_numero_azar)\n",
        "\n",
        "print(\"Esto es el juego de panecillos\")\n",
        "while True:\n",
        "  juego_en_curso=True\n",
        "  numero=randint(100,900)\n",
        "\n",
        "  while juego_en_curso:\n",
        "    \n",
        "    print(numero)\n",
        "    lista_numero_azar=convertiralista(numero)\n",
        "    print(lista_numero_azar) \n",
        "    lista_adivinarelnumero=adivinarelnumero()\n",
        "    print(lista_adivinarelnumero)\n",
        "    validarnumero()\n",
        "    \n",
        "    if lista_numero_azar== lista_adivinarelnumero:\n",
        "      print(\"ganaste\")\n",
        "      break\n",
        "    elif lista_numero_azar!= lista_adivinarelnumero:\n",
        "      position1(lista_numero_azar,lista_adivinarelnumero)\n",
        "      juego_en_curso=True\n",
        "\n",
        "    else:\n",
        "      print(\"perdiste \" +\"el numero era \"+ str(numero))\n",
        "      break\n",
        "\n",
        "  if not jugarnuevamente():\n",
        "    break\n",
        "\n"
      ],
      "execution_count": null,
      "outputs": []
    },
    {
      "cell_type": "markdown",
      "metadata": {
        "id": "zkQ_tElfQtPM"
      },
      "source": [
        "Book code"
      ]
    },
    {
      "cell_type": "code",
      "metadata": {
        "id": "eMtAZ6p9tiUY"
      },
      "source": [
        "import random\n",
        "def obtenerNumSecreto(digitosNum):\n",
        "  numeros = list(range(10))\n",
        "  random.shuffle(numeros)\n",
        "  numSecreto = \"\"\n",
        "  for i in range(digitosNum):\n",
        "    numSecreto += str(numeros[i])\n",
        "  return numSecreto\n",
        " \n",
        "def obtenerPistas(conjetura,numSecreto):\n",
        "  if conjetura==numSecreto:\n",
        "    return \"Adivinaste\"\n",
        "  pista =[]\n",
        "\n",
        "  for i in range(len(conjetura)):\n",
        "    if conjetura[i] == numSecreto[i]:\n",
        "      pista.append(\"Fermi\")\n",
        "\n",
        "    elif conjetura[i] in numSecreto:\n",
        "      pista.append(\"Pico\")\n",
        "  \n",
        "  if len(pista)==0:\n",
        "    return \"Panecillos\"\n",
        "  pista.sort()\n",
        "  return \" \".join(pista)\n",
        "\n",
        "def esSoloDigitos(num):\n",
        "  if num==\"\":\n",
        "    return False\n",
        "  \n",
        "  for i in num:\n",
        "    if i not in \"0 1 2 3 4 5 6 7 8 9\".split():\n",
        "      return False\n",
        "  \n",
        "  return True\n",
        "\n",
        "\n",
        "digitosNum= 3\n",
        "MAXADIVINANZAS=10\n",
        "\n",
        "print(\"Estoy pensando en un numeroo de %s digitos. Intenta adivinar cual es.\" % (digitosNum))\n",
        "print(\"Aqui hay algunas pistas:\")\n",
        "print(\"Cuando digo: Eso significa::\")\n",
        "print(\"Pico   Un digito es correcto pero en la posicion incorrecta\")\n",
        "print(\"Fermi   Un digito es correcto y en la posicion correcta.\")\n",
        "print(\"Panecillos   Ningun digito es correcto.\")\n",
        "\n",
        "while True:\n",
        "  numSecreto=obtenerNumSecreto(digitosNum)\n",
        "  print(numSecreto)\n",
        "  print(\"He pensado un numero.Tienes %s intentos para adivinarlo.\" %(MAXADIVINANZAS))\n",
        "  \n",
        "  numIntentos=1\n",
        "  while numIntentos <=MAXADIVINANZAS:\n",
        "    conjetura=\"\"\n",
        "    while len(conjetura)!= digitosNum or not esSoloDigitos(conjetura):\n",
        "      print(\"conjetura #%s: \"%(numIntentos))\n",
        "      conjetura =input()\n",
        "    pista = obtenerPistas(conjetura,numSecreto)\n",
        "    print(pista)\n",
        "    numIntentos += 1\n",
        "\n",
        "    if conjetura == numSecreto:\n",
        "      break\n",
        "    if numIntentos > MAXADIVINANZAS:\n",
        "      print(\"Te has quedado sin intentos. La respuesta era %s\"% (numSecreto))\n",
        "\n",
        "if  not jugarDeNuevo():\n",
        "  break"
      ],
      "execution_count": null,
      "outputs": []
    },
    {
      "cell_type": "code",
      "metadata": {
        "id": "C_FVSLSX5ifR"
      },
      "source": [
        ""
      ],
      "execution_count": null,
      "outputs": []
    },
    {
      "cell_type": "code",
      "metadata": {
        "id": "eY6k4lCMd9W8"
      },
      "source": [
        ""
      ],
      "execution_count": null,
      "outputs": []
    }
  ]
}
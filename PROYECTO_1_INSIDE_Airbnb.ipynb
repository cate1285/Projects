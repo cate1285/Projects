{
  "nbformat": 4,
  "nbformat_minor": 0,
  "metadata": {
    "colab": {
      "name": "PROYECTO 1  INSIDE Airbnb",
      "provenance": [],
      "collapsed_sections": [],
      "authorship_tag": "ABX9TyMtcDszvBeDBLbeALD0oZ45",
      "include_colab_link": true
    },
    "kernelspec": {
      "name": "python3",
      "display_name": "Python 3"
    }
  },
  "cells": [
    {
      "cell_type": "markdown",
      "metadata": {
        "id": "view-in-github",
        "colab_type": "text"
      },
      "source": [
        "<a href=\"https://colab.research.google.com/github/cate1285/Projects/blob/main/PROYECTO_1_INSIDE_Airbnb.ipynb\" target=\"_parent\"><img src=\"https://colab.research.google.com/assets/colab-badge.svg\" alt=\"Open In Colab\"/></a>"
      ]
    },
    {
      "cell_type": "markdown",
      "metadata": {
        "id": "z5YJbQTUPX5F"
      },
      "source": [
        "Manejo de datos CSV ficheros "
      ]
    },
    {
      "cell_type": "code",
      "metadata": {
        "colab": {
          "base_uri": "https://localhost:8080/"
        },
        "id": "NhfrN8tLWni0",
        "outputId": "0e62fa98-b242-4019-cfe0-152ca5f75d44"
      },
      "source": [
        "from urllib import request \r\n",
        "from urllib.error import URLError\r\n",
        "\r\n",
        "try:\r\n",
        "  f=request.urlopen('https://raw.githubusercontent.com/cate1285/Test-GitHub/main/Barcelona1.csv')\r\n",
        "except:\r\n",
        "  print(\"La URL no existe\")\r\n",
        "else:\r\n",
        "  lineas=f.read().decode(\"latin-1\").splitlines()\r\n",
        "  columnas=lineas[0].split(\";\")\r\n",
        "  seleccion=[\"name\",\"host_id\",\"city\",\"property_type\",\"accommodates\",\"price\"]\r\n",
        "  traduction={\"name\":\"nombre\",\"host_id\":\"administrador_id\",\"city\":\"ciudad\",\"property_type\":\"tipo\",\"accommodates\":\"acomodaciones\",\"price\":\"precio\"}\r\n",
        "  alojamientos= []\r\n",
        "  for linea in lineas[1:]:\r\n",
        "    alojamiento= {}\r\n",
        "    campos= linea.split(\";\")\r\n",
        "    for i in range(len(columnas)):\r\n",
        "      if columnas[i] in seleccion:\r\n",
        "         alojamiento[traduction[columnas[i]]] = campos[i]          \r\n",
        "    alojamientos.append(alojamiento)\r\n",
        "for i in alojamientos:\r\n",
        "  print(i)\r\n",
        "\r\n",
        "  "
      ],
      "execution_count": null,
      "outputs": [
        {
          "output_type": "stream",
          "text": [
            "{'nombre': 'Rooftop terrace room with ensuite bathroom, Airc.', 'administrador_id': '13660', 'ciudad': 'Madrid', 'tipo': 'Apartment', 'acomodaciones': '2', 'precio': '$70.00'}\n",
            "{'nombre': 'Bright and airy room', 'administrador_id': '83531', 'ciudad': 'Madrid', 'tipo': 'Apartment', 'acomodaciones': '1', 'precio': '$17.00'}\n",
            "{'nombre': 'Gran Via Studio Madrid', 'administrador_id': '101471', 'ciudad': 'Madrid', 'tipo': 'Apartment', 'acomodaciones': '3', 'precio': '$80.00'}\n",
            "{'nombre': '\"Select the Madrid more \"\"cool\"\".\"', 'administrador_id': '101653', 'ciudad': 'Madrid', 'tipo': 'Apartment', 'acomodaciones': '4', 'precio': '$115.00'}\n",
            "{'nombre': 'Single Room whith private Bathroom', 'administrador_id': '114340', 'ciudad': 'Madrid', 'tipo': 'House', 'acomodaciones': '1', 'precio': '$25.00'}\n",
            "{'nombre': 'Great Vacational Apartments', 'administrador_id': '130907', 'ciudad': 'Madrid', 'tipo': 'Apartment', 'acomodaciones': '2', 'precio': '$65.00'}\n",
            "{'nombre': 'Beautiful loft in Madrid Center', 'administrador_id': '132883', 'ciudad': 'Madrid', 'tipo': 'Loft', 'acomodaciones': '2', 'precio': '$54.00'}\n",
            "{'nombre': 'Holiday Apartment Madrid Center', 'administrador_id': '130907', 'ciudad': 'Madrid', 'tipo': 'Apartment', 'acomodaciones': '3', 'precio': '$90.00'}\n"
          ],
          "name": "stdout"
        }
      ]
    },
    {
      "cell_type": "markdown",
      "metadata": {
        "id": "6F0_uYdWSwbh"
      },
      "source": [
        "Crear una función que reciba la lista de alojamientos y devuelva el número de alojamientos para cada tipo de habitacion."
      ]
    },
    {
      "cell_type": "code",
      "metadata": {
        "id": "H4ZGeA9hfL4z",
        "colab": {
          "base_uri": "https://localhost:8080/"
        },
        "outputId": "a63e671b-e4ce-4f0a-f47d-23aa45b573de"
      },
      "source": [
        "def alojamiento_1(alojamientos):\r\n",
        "  alojamiento_1={}\r\n",
        "  for alojamiento in alojamientos:\r\n",
        "    if alojamiento[\"tipo\"] in alojamiento_1.keys():\r\n",
        "      alojamiento_1[alojamiento[\"tipo\"]]+=1\r\n",
        "    else:\r\n",
        "      alojamiento_1[alojamiento[\"tipo\"]]=1\r\n",
        "  return alojamiento_1\r\n",
        "print(alojamiento_1(alojamientos))\r\n",
        "\r\n"
      ],
      "execution_count": null,
      "outputs": [
        {
          "output_type": "stream",
          "text": [
            "{'Apartment': 6, 'House': 1, 'Loft': 1}\n"
          ],
          "name": "stdout"
        }
      ]
    },
    {
      "cell_type": "markdown",
      "metadata": {
        "id": "VtZU8WLRfdaP"
      },
      "source": [
        "Crear una función que reciba la lista de alojamientos y un número de ocupantes y devuelva la lista de alojamientos con un número de plazas mayor o igual al que se indica."
      ]
    },
    {
      "cell_type": "code",
      "metadata": {
        "colab": {
          "base_uri": "https://localhost:8080/"
        },
        "id": "uv0XG-ajUz7a",
        "outputId": "86671f57-2c39-4d08-b50b-9fd2b0ddcf5c"
      },
      "source": [
        "def alojamientos_2(alojamientos, plazas):\r\n",
        "  return[alojamiento for  alojamiento in alojamientos if int(alojamiento[\"acomodaciones\"])> plazas]\r\n",
        " \r\n",
        "print(alojamientos_2(alojamientos,2))"
      ],
      "execution_count": null,
      "outputs": [
        {
          "output_type": "stream",
          "text": [
            "[{'nombre': 'Gran Via Studio Madrid', 'Calificacion': '100%', 'ciudad': 'Madrid', 'tipo': 'Apartment', 'acomodaciones': '3'}, {'nombre': '\"Select the Madrid more \"\"cool\"\".\"', 'Calificacion': '100%', 'ciudad': 'Madrid', 'tipo': 'Apartment', 'acomodaciones': '4'}, {'nombre': 'Holiday Apartment Madrid Center', 'Calificacion': '100%', 'ciudad': 'Madrid', 'tipo': 'Apartment', 'acomodaciones': '3'}]\n"
          ],
          "name": "stdout"
        }
      ]
    },
    {
      "cell_type": "markdown",
      "metadata": {
        "id": "3T5C4RzkmEoO"
      },
      "source": [
        "Crear una función que reciba la lista de alojamientos un distrito, y devuelva los 10 alojamientos más baratos del distrito."
      ]
    },
    {
      "cell_type": "code",
      "metadata": {
        "colab": {
          "base_uri": "https://localhost:8080/"
        },
        "id": "9UiCGu_-U4kw",
        "outputId": "7b5b646f-d1a3-422e-c1da-205336dc6b30"
      },
      "source": [
        "def alojamiento_3(alojamientos,tipo,n):\r\n",
        "\r\n",
        "  alojamiento_4=[alojamiento for alojamiento in alojamientos if alojamiento[\"tipo\"]==tipo]\r\n",
        "  def ordenamos(dict):return (dict[\"precio\"][1:])\r\n",
        "  rankin_1=sorted(alojamiento_4, key = ordenamos)\r\n",
        "  return rankin_1[:n]\r\n",
        "top=alojamiento_3(alojamientos,\"Apartment\",3)\r\n",
        "print(top)"
      ],
      "execution_count": null,
      "outputs": [
        {
          "output_type": "stream",
          "text": [
            "[{'nombre': '\"Select the Madrid more \"\"cool\"\".\"', 'Calificacion': '100%', 'ciudad': 'Madrid', 'tipo': 'Apartment', 'acomodaciones': '4', 'precio': '$115.00'}, {'nombre': 'Bright and airy room', 'Calificacion': 'N/A', 'ciudad': 'Madrid', 'tipo': 'Apartment', 'acomodaciones': '1', 'precio': '$17.00'}, {'nombre': 'Great Vacational Apartments', 'Calificacion': '100%', 'ciudad': 'Madrid', 'tipo': 'Apartment', 'acomodaciones': '2', 'precio': '$65.00'}]\n"
          ],
          "name": "stdout"
        }
      ]
    },
    {
      "cell_type": "markdown",
      "metadata": {
        "id": "x1HPG2yE3kJr"
      },
      "source": [
        "Crear una función que reciba la lista de alojamientos y devuelva un diccionario con los anfitriones y el número de alojamientos que posee cada uno."
      ]
    },
    {
      "cell_type": "code",
      "metadata": {
        "colab": {
          "base_uri": "https://localhost:8080/"
        },
        "id": "AVdF2fXqtb4E",
        "outputId": "773f6c03-ab5d-4adb-cfce-7880339e5c9a"
      },
      "source": [
        "def alojamiento_1(alojamientos):\r\n",
        "  alojamiento_1={}\r\n",
        "  for alojamiento in alojamientos:\r\n",
        "    if alojamiento[\"administrador_id\"] in alojamiento_1.keys():\r\n",
        "      alojamiento_1[alojamiento[\"administrador_id\"]]+=1\r\n",
        "    else:\r\n",
        "      alojamiento_1[alojamiento[\"administrador_id\"]]=1\r\n",
        "  return alojamiento_1\r\n",
        "print(alojamiento_1(alojamientos))\r\n"
      ],
      "execution_count": null,
      "outputs": [
        {
          "output_type": "stream",
          "text": [
            "{'13660': 1, '83531': 1, '101471': 1, '101653': 1, '114340': 1, '130907': 2, '132883': 1}\n"
          ],
          "name": "stdout"
        }
      ]
    },
    {
      "cell_type": "markdown",
      "metadata": {
        "id": "ITZIhGp84c32"
      },
      "source": [
        "USO DE PANDAS"
      ]
    },
    {
      "cell_type": "markdown",
      "metadata": {
        "id": "1gE3StgB-5sF"
      },
      "source": [
        "Preprocesar el fichero de alojamientos para crear un data frame con las variables id, host_id, listing_url, room_type, neighbourhood_group_cleansed, price, cleaning_fee, accommodates, minimum_nights, minimum_cost, review_scores_rating, latitude, longitude, is_location_exact. Eliminar del data frame cualquier fila incompleta. Añadir al data frame nuevas variables con el coste mínimo por noche y por persona (que incluya los gastos de limpieza).Preprocesar el fichero de alojamientos para crear un data frame con las variables id, host_id, listing_url, room_type, neighbourhood_group_cleansed, price, cleaning_fee, accommodates, minimum_nights, minimum_cost, review_scores_rating, latitude, longitude, is_location_exact. Eliminar del data frame cualquier fila incompleta. Añadir al data frame nuevas variables con el coste mínimo por noche y por persona (que incluya los gastos de limpieza)."
      ]
    },
    {
      "cell_type": "code",
      "metadata": {
        "colab": {
          "base_uri": "https://localhost:8080/",
          "height": 131
        },
        "id": "A-0BlpTF4RdX",
        "outputId": "1dbfd8df-8ce8-4537-83c0-2856b68bfa00"
      },
      "source": [
        "import pandas as pd\r\n",
        "\r\n",
        "try:\r\n",
        "  alojamient = pd.read_csv(\"Final1.csv\",sep=\";\", encoding=\"latin-1\")\r\n",
        "except URLError:\r\n",
        "  print(\"La url non existe\")\r\n",
        "else:\r\n",
        "  alojamient.rename(columns = {\"host_name\":\"administrador\",\"cleaning_fee\":\"gastos_limpieza\",\"minimum_nights\":\"noches_minimas\", \"review_scores_rating\":\"puntuacion\",\"listing_url\":\"url\",\"neighbourhood\":\"barrio\"},inplace=True)\r\n",
        "  alojamient=alojamient[[\"id\",\"accommodates\",\"price\",\"property_type\",\"administrador\",\"url\",\"barrio\",\"monthly_price\",\"noches_minimas\",\"puntuacion\",\"gastos_limpieza\"]]\r\n",
        "  alojamient = alojamient.dropna()\r\n",
        "  alojamient[\"price\"]=alojamient.price.str.replace(\",\",\" \").str[1:].astype(\"float\")\r\n",
        "  alojamient[\"gastos_limpieza\"] = alojamient.gastos_limpieza.str[1:].astype(\"float\")\r\n",
        "  alojamient[\"precio_persona\"] = (alojamient.price * alojamient.noches_minimas + alojamient.gastos_limpieza) / (alojamient.noches_minimas + alojamient.accommodates)\r\n",
        "alojamient\r\n",
        "\r\n",
        "  "
      ],
      "execution_count": 108,
      "outputs": [
        {
          "output_type": "execute_result",
          "data": {
            "text/html": [
              "<div>\n",
              "<style scoped>\n",
              "    .dataframe tbody tr th:only-of-type {\n",
              "        vertical-align: middle;\n",
              "    }\n",
              "\n",
              "    .dataframe tbody tr th {\n",
              "        vertical-align: top;\n",
              "    }\n",
              "\n",
              "    .dataframe thead th {\n",
              "        text-align: right;\n",
              "    }\n",
              "</style>\n",
              "<table border=\"1\" class=\"dataframe\">\n",
              "  <thead>\n",
              "    <tr style=\"text-align: right;\">\n",
              "      <th></th>\n",
              "      <th>id</th>\n",
              "      <th>accommodates</th>\n",
              "      <th>price</th>\n",
              "      <th>property_type</th>\n",
              "      <th>administrador</th>\n",
              "      <th>url</th>\n",
              "      <th>barrio</th>\n",
              "      <th>monthly_price</th>\n",
              "      <th>noches_minimas</th>\n",
              "      <th>puntuacion</th>\n",
              "      <th>gastos_limpieza</th>\n",
              "      <th>precio_persona</th>\n",
              "    </tr>\n",
              "  </thead>\n",
              "  <tbody>\n",
              "    <tr>\n",
              "      <th>0</th>\n",
              "      <td>6369.0</td>\n",
              "      <td>2.0</td>\n",
              "      <td>70.0</td>\n",
              "      <td>Apartment</td>\n",
              "      <td>Simon</td>\n",
              "      <td>https://www.airbnb.com/rooms/6369</td>\n",
              "      <td>Chamartín</td>\n",
              "      <td>$950.00</td>\n",
              "      <td>1.0</td>\n",
              "      <td>98.0</td>\n",
              "      <td>5.0</td>\n",
              "      <td>25.00</td>\n",
              "    </tr>\n",
              "    <tr>\n",
              "      <th>2</th>\n",
              "      <td>24805.0</td>\n",
              "      <td>3.0</td>\n",
              "      <td>80.0</td>\n",
              "      <td>Apartment</td>\n",
              "      <td>Iraido</td>\n",
              "      <td>https://www.airbnb.com/rooms/24805</td>\n",
              "      <td>Malasaña</td>\n",
              "      <td>$1,200.00</td>\n",
              "      <td>5.0</td>\n",
              "      <td>100.0</td>\n",
              "      <td>30.0</td>\n",
              "      <td>53.75</td>\n",
              "    </tr>\n",
              "  </tbody>\n",
              "</table>\n",
              "</div>"
            ],
            "text/plain": [
              "        id  accommodates  price  ... puntuacion gastos_limpieza precio_persona\n",
              "0   6369.0           2.0   70.0  ...       98.0             5.0          25.00\n",
              "2  24805.0           3.0   80.0  ...      100.0            30.0          53.75\n",
              "\n",
              "[2 rows x 12 columns]"
            ]
          },
          "metadata": {
            "tags": []
          },
          "execution_count": 108
        }
      ]
    },
    {
      "cell_type": "markdown",
      "metadata": {
        "id": "R8QQtpYCWyVP"
      },
      "source": [
        "Crear una función que reciba una lista de distritos y devuelva un diccionario con los tipos de alojamiento en esos distritos y el porcentaje de alojamientos de ese tipo."
      ]
    },
    {
      "cell_type": "code",
      "metadata": {
        "colab": {
          "base_uri": "https://localhost:8080/"
        },
        "id": "NzNhmH9__bdL",
        "outputId": "2f1f48eb-cfc6-4d05-c495-6d0a475dda8f"
      },
      "source": [
        "def fun (alojamient,distritos):\r\n",
        "  return alojamient[alojamient.barrio.isin(distritos)].property_type.value_counts(normalize=True)*100\r\n",
        "print(fun(alojamient,[\"Chamartín\",\"Malasaña\"]))\r\n"
      ],
      "execution_count": 82,
      "outputs": [
        {
          "output_type": "stream",
          "text": [
            "Apartment    100.0\n",
            "Name: property_type, dtype: float64\n"
          ],
          "name": "stdout"
        }
      ]
    },
    {
      "cell_type": "markdown",
      "metadata": {
        "id": "C90A0Yolox4J"
      },
      "source": [
        "Crear una función que reciba una lista de distritos y devuelva un diccionario con el número de alojamientos que cada anfitrión ofrece en esos distritos, ordenado de más a menos alojamientos."
      ]
    },
    {
      "cell_type": "code",
      "metadata": {
        "colab": {
          "base_uri": "https://localhost:8080/"
        },
        "id": "rDh-5OVmkLrY",
        "outputId": "07b419ba-1a97-48c3-b22f-c0d26cc572ac"
      },
      "source": [
        "def fun (alojamient,distritos):\r\n",
        "  return alojamient[alojamient.barrio.isin(distritos)].administrador.value_counts().sort_values(ascending=False)\r\n",
        "print(fun(alojamient,(\"Chamartín\",\"Malasaña\")))\r\n",
        "\r\n"
      ],
      "execution_count": 84,
      "outputs": [
        {
          "output_type": "stream",
          "text": [
            "Iraido    1\n",
            "Simon     1\n",
            "Name: administrador, dtype: int64\n"
          ],
          "name": "stdout"
        }
      ]
    },
    {
      "cell_type": "markdown",
      "metadata": {
        "id": "Jbktfu6Ow4RW"
      },
      "source": [
        "9. Crear una función que devuelva un diccionario con el número medio de alojamientos por anfitrión de cada distrito."
      ]
    },
    {
      "cell_type": "code",
      "metadata": {
        "colab": {
          "base_uri": "https://localhost:8080/"
        },
        "id": "KCFJqiXvv6q4",
        "outputId": "c1b2ee2a-2381-4247-ce7f-e0348ef0b644"
      },
      "source": [
        "def x(alojamient):\r\n",
        "  return alojamient.groupby(\"barrio\").administrador.value_counts().unstack(level=\"barrio\").mean()\r\n",
        "print(x(alojamient))"
      ],
      "execution_count": 85,
      "outputs": [
        {
          "output_type": "stream",
          "text": [
            "barrio\n",
            "Chamartín    1.0\n",
            "Malasaña     1.0\n",
            "dtype: float64\n"
          ],
          "name": "stdout"
        }
      ]
    },
    {
      "cell_type": "markdown",
      "metadata": {
        "id": "pb6a3gyO6Ong"
      },
      "source": [
        "10. Crear una función que reciba una lista de distritos y dibuje un diagrama de sectores con los porcentajes de tipos de alojamientos en esos distritos."
      ]
    },
    {
      "cell_type": "code",
      "metadata": {
        "colab": {
          "base_uri": "https://localhost:8080/",
          "height": 282
        },
        "id": "Pg6FsMr62rP8",
        "outputId": "3407051e-06b6-4256-c508-66edd486d645"
      },
      "source": [
        "import matplotlib.pyplot as plt\r\n",
        "\r\n",
        "def x(alojamient,distritos):\r\n",
        "  fig, ax = plt.subplots()\r\n",
        "  alojamient[alojamient.barrio.isin(distritos)].property_type.value_counts(normalize=True).plot(kind=\"pie\", autopct=\"%1.0f%%\", ax = ax)\r\n",
        "  ax.set_title(\"Diagrama tipo Pie con porcenjes de tipos de alojamiento segun sectores \\n Distritos de \"+ \",\".join(distritos),loc=\"center\",fontdict = {\"fontsize\":14,\"fontweight\":\"bold\"})\r\n",
        "  ax.set_ylabel(\"\")\r\n",
        "  plt.show()\r\n",
        "  return\r\n",
        "\r\n",
        "x(alojamient,[\"Chamartín\",\"Malasaña\"],)\r\n",
        "\r\n"
      ],
      "execution_count": 86,
      "outputs": [
        {
          "output_type": "display_data",
          "data": {
            "image/png": "[encoded data removed]",
            "text/plain": [
              "<Figure size 432x288 with 1 Axes>"
            ]
          },
          "metadata": {
            "tags": []
          }
        }
      ]
    },
    {
      "cell_type": "markdown",
      "metadata": {
        "id": "85fwfLLfc-ec"
      },
      "source": [
        "11. Crear una función que dibuje un diagrama de barras con el número de alojamientos por distritos."
      ]
    },
    {
      "cell_type": "code",
      "metadata": {
        "id": "tZQ-n6LGR3w7",
        "colab": {
          "base_uri": "https://localhost:8080/",
          "height": 324
        },
        "outputId": "dc7266ed-cd1c-4302-93dc-2a333071ef32"
      },
      "source": [
        "def diagrama_barras(alojamient):\r\n",
        "  fig,ax=plt.subplots()\r\n",
        "  alojamient.barrio.value_counts().plot(kind=\"bar\")\r\n",
        "  ax.set_title(\"numero de alojamiento por distrito\",loc=\"center\",fontdict={\"fontsize\":13,\"fontweight\":\"bold\"})\r\n",
        "  ax.grid(axis=\"y\",color=\"red\",linestyle=\"dashed\")\r\n",
        "\r\n",
        "  plt.show()\r\n",
        "  return\r\n",
        "diagrama_barras(alojamient)"
      ],
      "execution_count": 87,
      "outputs": [
        {
          "output_type": "display_data",
          "data": {
            "image/png": "[encoded data removed]",
            "text/plain": [
              "<Figure size 432x288 with 1 Axes>"
            ]
          },
          "metadata": {
            "tags": [],
            "needs_background": "light"
          }
        }
      ]
    },
    {
      "cell_type": "markdown",
      "metadata": {
        "id": "SzQ0f5rFZojx"
      },
      "source": [
        "12. Crear una función que dibuje un diagrama de barras con los porcentajes acumulados de tipos de alojamientos por distritos."
      ]
    },
    {
      "cell_type": "code",
      "metadata": {
        "id": "8RNNdQj2f-I_",
        "colab": {
          "base_uri": "https://localhost:8080/",
          "height": 325
        },
        "outputId": "71f67e4a-4223-4f29-8990-d44923b0d73f"
      },
      "source": [
        "def alojamiento_distritos (alojamient):\r\n",
        "  fig,ax=plt.subplots()\r\n",
        "  (alojamient.groupby(\"barrio\").property_type.value_counts(normalize=True)*100).unstack().plot(kind=\"bar\", stacked=True, ax=ax)\r\n",
        "  ax.set_title(\"tipos de alojamientos por distritos (%)\",loc=\"center\",fontdict= {\"fontsize\":14,\"fontweight\":\"bold\"})\r\n",
        "  ax.set_xlabel(\"\")\r\n",
        "  ax.grid(axis=\"y\",color=\"blue\",linestyle=\"dashed\")\r\n",
        "  box=ax.get_position()\r\n",
        "  ax.set_position([box.x0, box.y0,box.width*0.7,box.height])\r\n",
        "  plt.legend(loc=\"center\",bbox_to_anchor=(1.0,0.5))\r\n",
        "  plt.show()\r\n",
        "  return\r\n",
        "alojamiento_distritos(alojamient)"
      ],
      "execution_count": 91,
      "outputs": [
        {
          "output_type": "display_data",
          "data": {
            "image/png": "[encoded data removed]",
            "text/plain": [
              "<Figure size 432x288 with 1 Axes>"
            ]
          },
          "metadata": {
            "tags": [],
            "needs_background": "light"
          }
        }
      ]
    },
    {
      "cell_type": "markdown",
      "metadata": {
        "id": "Kws4JWUIkj4U"
      },
      "source": [
        "Crear una función reciba una lista de distritos y una lista de tipos de alojamientos, y dibuje un diagrama de sectores con la distribución del número de alojamientos de ese tipo por anfitrión en esos distritos."
      ]
    },
    {
      "cell_type": "code",
      "metadata": {
        "colab": {
          "base_uri": "https://localhost:8080/",
          "height": 303
        },
        "id": "V9y2Uh7Ef4XB",
        "outputId": "4c37909f-243a-45e9-d449-ef23ec7c0938"
      },
      "source": [
        "def distritos_anfitrion(alojamient,barrio,type_property):\r\n",
        "\r\n",
        "  fig,ax=plt.subplots()\r\n",
        "  (alojamient.groupby(\"administrador\").property_type.value_counts(normalize=True)*100).unstack().plot(kind=\"bar\", stacked=True, ax=ax)\r\n",
        "  ax.set_title(\"tipos de alojamientos por distritos (%)\",loc=\"center\",fontdict= {\"fontsize\":14,\"fontweight\":\"bold\"})\r\n",
        "  ax.set_xlabel(\"\")\r\n",
        "  ax.grid(axis=\"y\",color=\"blue\",linestyle=\"dashed\")\r\n",
        "  box=ax.get_position()\r\n",
        "  ax.set_position([box.x0, box.y0,box.width*0.7,box.height])\r\n",
        "  plt.legend(loc=\"center\",bbox_to_anchor=(1.0,0.5))\r\n",
        "  plt.show()\r\n",
        "  return\r\n",
        "distritos_anfitrion(alojamient,[\"Centro\",\"Sol\"],[\"Apartment\",\"Loft\"])"
      ],
      "execution_count": 96,
      "outputs": [
        {
          "output_type": "display_data",
          "data": {
            "image/png": "[encoded data removed]",
            "text/plain": [
              "<Figure size 432x288 with 1 Axes>"
            ]
          },
          "metadata": {
            "tags": [],
            "needs_background": "light"
          }
        }
      ]
    },
    {
      "cell_type": "code",
      "metadata": {
        "colab": {
          "base_uri": "https://localhost:8080/",
          "height": 266
        },
        "id": "wgzssOfsoU0s",
        "outputId": "af36bdfa-d2d6-4e57-e0a3-2fd062ed1d1c"
      },
      "source": [
        "def piedistritos_anfitrion(alojamient,barrios,tipos):\r\n",
        "\r\n",
        "  fix,ax=plt.subplots()\r\n",
        "  alojamient_filtrados=alojamient[alojamient.barrio.isin(barrios) & alojamient.property_type.isin(tipos)]\r\n",
        "  alojamient_filtrados.administrador.value_counts(normalize=True).plot(kind=\"pie\",ax=ax)\r\n",
        "  ax.set_title(\"Distribucion por administrador\" .join(barrios)+\"tipos de alojamiento\".join(tipos),loc=\"center\",fontdict= {\"fontsize\":14,\"fontweight\":\"bold\"})\r\n",
        "  ax.set_ylabel(\"\")\r\n",
        "  plt.show()\r\n",
        "  return\r\n",
        "piedistritos_anfitrion(alojamient,[\"Chamartín\",\"Malasaña\"],[\"Apartment\",\"Loft\"])"
      ],
      "execution_count": 97,
      "outputs": [
        {
          "output_type": "display_data",
          "data": {
            "image/png": "[encoded data removed]",
            "text/plain": [
              "<Figure size 432x288 with 1 Axes>"
            ]
          },
          "metadata": {
            "tags": []
          }
        }
      ]
    },
    {
      "cell_type": "markdown",
      "metadata": {
        "id": "CAS2FkEVvfPi"
      },
      "source": [
        "\r\n",
        "15. Crear una función que reciba una lista de distritos y dibuje un gráfico de dispersión con el precio por por noche y persona y la puntuación en esos distritos.\r\n",
        "\r\n",
        "\r\n"
      ]
    },
    {
      "cell_type": "code",
      "metadata": {
        "colab": {
          "base_uri": "https://localhost:8080/",
          "height": 297
        },
        "id": "VaYJaOc2vfu_",
        "outputId": "6173f4aa-ea60-4e0a-e18e-cd34649a51e5"
      },
      "source": [
        "def diagrama_dispersion(alojamient,distritos):\r\n",
        "  fig,ax=plt.subplots()\r\n",
        "  alojamients_filtrados=alojamient[alojamient.barrio.isin(distritos)]\r\n",
        "  alojamient[\"precio_persona\"]=(alojamient.price*alojamient.noches_minimas+alojamient.gastos_limpieza)/(alojamient.noches_minimas+alojamient.accommodates)\r\n",
        "  ax.scatter(alojamient[\"precio_persona\"],alojamient[\"puntuacion\"])\r\n",
        "  ax.set_title(\"precios vs puntuacion\"+\" ,\".join(distritos),loc=\"center\",fontdict={\"fontsize\":14,\"fontweight\":\"bold\"})\r\n",
        "  ax.set_xlabel(\"precio en \")\r\n",
        "  ax.set_ylabel(\"puntuacion\")\r\n",
        "  plt.show()\r\n",
        "  return\r\n",
        "\r\n",
        "diagrama_dispersion (alojamient,[\"Chamartín\",\"Malasaña\"])"
      ],
      "execution_count": 107,
      "outputs": [
        {
          "output_type": "display_data",
          "data": {
            "image/png": "[encoded data removed]",
            "text/plain": [
              "<Figure size 432x288 with 1 Axes>"
            ]
          },
          "metadata": {
            "tags": [],
            "needs_background": "light"
          }
        }
      ]
    },
    {
      "cell_type": "code",
      "metadata": {
        "id": "DSIbSjy8UwQP"
      },
      "source": [
        ""
      ],
      "execution_count": null,
      "outputs": []
    }
  ]
}